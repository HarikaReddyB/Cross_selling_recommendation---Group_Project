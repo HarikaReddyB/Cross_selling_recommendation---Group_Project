{
 "cells": [
  {
   "cell_type": "markdown",
   "id": "f5a023a6",
   "metadata": {},
   "source": [
    "### EDA on Cross Selling Recommendations:"
   ]
  },
  {
   "cell_type": "code",
   "execution_count": 1,
   "id": "cf60bcca",
   "metadata": {},
   "outputs": [],
   "source": [
    "import pandas as pd\n",
    "import numpy as np\n",
    "import matplotlib.pyplot as plt\n",
    "import datetime as dt\n",
    "import seaborn as sns\n",
    "import re\n",
    "\n",
    "# set the graphs to show in the jupyter notebook\n",
    "%matplotlib inline\n",
    "\n",
    "# set seaborn graphs to a better style\n",
    "sns.set(style=\"ticks\")\n",
    "\n",
    "import scipy.stats as stats\n",
    "\n",
    "import warnings\n",
    "warnings.filterwarnings(\"ignore\")"
   ]
  },
  {
   "cell_type": "code",
   "execution_count": 2,
   "id": "6c65042e",
   "metadata": {},
   "outputs": [],
   "source": [
    "# loading and reading the data:\n",
    "\n",
    "train_data = pd.read_csv(\"C:/Users/Dell/Downloads/Train2.csv/Train2.csv\")"
   ]
  },
  {
   "cell_type": "code",
   "execution_count": 3,
   "id": "20585955",
   "metadata": {},
   "outputs": [
    {
     "data": {
      "text/plain": [
       "(13393927, 49)"
      ]
     },
     "execution_count": 3,
     "metadata": {},
     "output_type": "execute_result"
    }
   ],
   "source": [
    "train_data.shape"
   ]
  },
  {
   "cell_type": "code",
   "execution_count": 3,
   "id": "6da99e9d",
   "metadata": {},
   "outputs": [],
   "source": [
    "#Deleting the Unnamed column:\n",
    "\n",
    "train_data = train_data.drop('Unnamed: 0', axis=1)"
   ]
  },
  {
   "cell_type": "code",
   "execution_count": 5,
   "id": "0524488f",
   "metadata": {},
   "outputs": [
    {
     "data": {
      "text/plain": [
       "Date                    0\n",
       "Customer_code           0\n",
       "Employee_index          0\n",
       "Country                 0\n",
       "Gender                  0\n",
       "Age                     0\n",
       "Customer_join_date      0\n",
       "Customer_index          0\n",
       "Customer_seniority      0\n",
       "Primary_customer        0\n",
       "Customer_leave_date     0\n",
       "Customer_type           0\n",
       "Customer_relation       0\n",
       "Residence_index         0\n",
       "Foreigner_index         0\n",
       "Spouse_index            0\n",
       "Channel                 0\n",
       "Deceased_index          0\n",
       "Primary_address         0\n",
       "Customer_address        0\n",
       "Province_name           0\n",
       "Activity_index          0\n",
       "Gross_income            0\n",
       "Segmentation            0\n",
       "Saving_account          0\n",
       "Guarantees              0\n",
       "Current_accounts        0\n",
       "Derivative_account      0\n",
       "Payroll_account         0\n",
       "Junior_account          0\n",
       "More_private_account    0\n",
       "Private_account         0\n",
       "Private_plus_account    0\n",
       "Short_term_deposits     0\n",
       "Medium_term_deposits    0\n",
       "Long_term_deposits      0\n",
       "E_account               0\n",
       "Funds                   0\n",
       "Mortgage                0\n",
       "Pensions                0\n",
       "Loans                   0\n",
       "Taxes                   0\n",
       "Credit_card             0\n",
       "Securities              0\n",
       "Home_account            0\n",
       "Payroll                 0\n",
       "Pensions_2              0\n",
       "Direct_debit            0\n",
       "dtype: int64"
      ]
     },
     "execution_count": 5,
     "metadata": {},
     "output_type": "execute_result"
    }
   ],
   "source": [
    "train_data.isnull().sum()"
   ]
  },
  {
   "cell_type": "code",
   "execution_count": 4,
   "id": "0ddd18e4",
   "metadata": {},
   "outputs": [],
   "source": [
    "#Sum products purchased by each customer:\n",
    "\n",
    "cols = ['Saving_account', 'Guarantees', 'Current_accounts', 'Derivative_account', 'Payroll_account', 'Junior_account','More_private_account', 'Private_account', 'Private_plus_account', 'Short_term_deposits', 'Medium_term_deposits', 'Long_term_deposits', 'E_account', 'Funds', 'Mortgage', 'Pensions', 'Loans', 'Taxes', 'Credit_card', 'Securities', 'Home_account', 'Payroll', 'Pensions_2', 'Direct_debit']"
   ]
  },
  {
   "cell_type": "code",
   "execution_count": 5,
   "id": "a642b291",
   "metadata": {},
   "outputs": [],
   "source": [
    "train_data['Product_sum'] = train_data[cols].sum(axis=1)"
   ]
  },
  {
   "cell_type": "code",
   "execution_count": 8,
   "id": "5d626f4b",
   "metadata": {},
   "outputs": [
    {
     "name": "stdout",
     "output_type": "stream",
     "text": [
      "<class 'pandas.core.frame.DataFrame'>\n",
      "RangeIndex: 13393927 entries, 0 to 13393926\n",
      "Data columns (total 49 columns):\n",
      " #   Column                Dtype  \n",
      "---  ------                -----  \n",
      " 0   Date                  object \n",
      " 1   Customer_code         int64  \n",
      " 2   Employee_index        object \n",
      " 3   Country               object \n",
      " 4   Gender                object \n",
      " 5   Age                   int64  \n",
      " 6   Customer_join_date    object \n",
      " 7   Customer_index        object \n",
      " 8   Customer_seniority    int64  \n",
      " 9   Primary_customer      float64\n",
      " 10  Customer_leave_date   object \n",
      " 11  Customer_type         object \n",
      " 12  Customer_relation     object \n",
      " 13  Residence_index       object \n",
      " 14  Foreigner_index       object \n",
      " 15  Spouse_index          object \n",
      " 16  Channel               object \n",
      " 17  Deceased_index        object \n",
      " 18  Primary_address       float64\n",
      " 19  Customer_address      float64\n",
      " 20  Province_name         object \n",
      " 21  Activity_index        object \n",
      " 22  Gross_income          float64\n",
      " 23  Segmentation          object \n",
      " 24  Saving_account        int64  \n",
      " 25  Guarantees            int64  \n",
      " 26  Current_accounts      int64  \n",
      " 27  Derivative_account    int64  \n",
      " 28  Payroll_account       int64  \n",
      " 29  Junior_account        int64  \n",
      " 30  More_private_account  int64  \n",
      " 31  Private_account       int64  \n",
      " 32  Private_plus_account  int64  \n",
      " 33  Short_term_deposits   int64  \n",
      " 34  Medium_term_deposits  int64  \n",
      " 35  Long_term_deposits    int64  \n",
      " 36  E_account             int64  \n",
      " 37  Funds                 int64  \n",
      " 38  Mortgage              int64  \n",
      " 39  Pensions              int64  \n",
      " 40  Loans                 int64  \n",
      " 41  Taxes                 int64  \n",
      " 42  Credit_card           int64  \n",
      " 43  Securities            int64  \n",
      " 44  Home_account          int64  \n",
      " 45  Payroll               float64\n",
      " 46  Pensions_2            float64\n",
      " 47  Direct_debit          int64  \n",
      " 48  Product_sum           float64\n",
      "dtypes: float64(7), int64(25), object(17)\n",
      "memory usage: 4.9+ GB\n"
     ]
    }
   ],
   "source": [
    "train_data.info()"
   ]
  },
  {
   "cell_type": "code",
   "execution_count": 6,
   "id": "820e6ed8",
   "metadata": {},
   "outputs": [],
   "source": [
    "#Group product sum into 3 groups according to product purchase:\n",
    "\n",
    "# No_product (0 product purchase)\n",
    "\n",
    "# 1_product (only 1 product purchase)\n",
    "\n",
    "# More_than_1 (Purchased at least 2 products)\n",
    "\n",
    "\n",
    "bins = [0, 1, 2, 20]\n",
    "\n",
    "labels = ['No_product', '1_product', 'More_than_1']\n",
    "\n",
    "train_data['Purchase_Group'] = pd.cut(train_data['Product_sum'], bins=bins, labels=labels, right=False)"
   ]
  },
  {
   "cell_type": "code",
   "execution_count": 11,
   "id": "8089c7e5",
   "metadata": {},
   "outputs": [
    {
     "data": {
      "text/html": [
       "<div>\n",
       "<style scoped>\n",
       "    .dataframe tbody tr th:only-of-type {\n",
       "        vertical-align: middle;\n",
       "    }\n",
       "\n",
       "    .dataframe tbody tr th {\n",
       "        vertical-align: top;\n",
       "    }\n",
       "\n",
       "    .dataframe thead th {\n",
       "        text-align: right;\n",
       "    }\n",
       "</style>\n",
       "<table border=\"1\" class=\"dataframe\">\n",
       "  <thead>\n",
       "    <tr style=\"text-align: right;\">\n",
       "      <th></th>\n",
       "      <th>Date</th>\n",
       "      <th>Customer_code</th>\n",
       "      <th>Employee_index</th>\n",
       "      <th>Country</th>\n",
       "      <th>Gender</th>\n",
       "      <th>Age</th>\n",
       "      <th>Customer_join_date</th>\n",
       "      <th>Customer_index</th>\n",
       "      <th>Customer_seniority</th>\n",
       "      <th>Primary_customer</th>\n",
       "      <th>...</th>\n",
       "      <th>Loans</th>\n",
       "      <th>Taxes</th>\n",
       "      <th>Credit_card</th>\n",
       "      <th>Securities</th>\n",
       "      <th>Home_account</th>\n",
       "      <th>Payroll</th>\n",
       "      <th>Pensions_2</th>\n",
       "      <th>Direct_debit</th>\n",
       "      <th>Product_sum</th>\n",
       "      <th>Purchase_Group</th>\n",
       "    </tr>\n",
       "  </thead>\n",
       "  <tbody>\n",
       "    <tr>\n",
       "      <th>0</th>\n",
       "      <td>2015-01-28</td>\n",
       "      <td>1375586</td>\n",
       "      <td>Not-employee</td>\n",
       "      <td>ES</td>\n",
       "      <td>Male</td>\n",
       "      <td>35</td>\n",
       "      <td>2015-01-12</td>\n",
       "      <td>Old-customer</td>\n",
       "      <td>6</td>\n",
       "      <td>1.0</td>\n",
       "      <td>...</td>\n",
       "      <td>0</td>\n",
       "      <td>0</td>\n",
       "      <td>0</td>\n",
       "      <td>0</td>\n",
       "      <td>0</td>\n",
       "      <td>0.0</td>\n",
       "      <td>0.0</td>\n",
       "      <td>0</td>\n",
       "      <td>1.0</td>\n",
       "      <td>1_product</td>\n",
       "    </tr>\n",
       "    <tr>\n",
       "      <th>1</th>\n",
       "      <td>2015-01-28</td>\n",
       "      <td>1050611</td>\n",
       "      <td>Not-employee</td>\n",
       "      <td>ES</td>\n",
       "      <td>Female</td>\n",
       "      <td>23</td>\n",
       "      <td>2012-08-10</td>\n",
       "      <td>Old-customer</td>\n",
       "      <td>35</td>\n",
       "      <td>1.0</td>\n",
       "      <td>...</td>\n",
       "      <td>0</td>\n",
       "      <td>0</td>\n",
       "      <td>0</td>\n",
       "      <td>0</td>\n",
       "      <td>0</td>\n",
       "      <td>0.0</td>\n",
       "      <td>0.0</td>\n",
       "      <td>0</td>\n",
       "      <td>1.0</td>\n",
       "      <td>1_product</td>\n",
       "    </tr>\n",
       "    <tr>\n",
       "      <th>2</th>\n",
       "      <td>2015-01-28</td>\n",
       "      <td>1050612</td>\n",
       "      <td>Not-employee</td>\n",
       "      <td>ES</td>\n",
       "      <td>Female</td>\n",
       "      <td>23</td>\n",
       "      <td>2012-08-10</td>\n",
       "      <td>Old-customer</td>\n",
       "      <td>35</td>\n",
       "      <td>1.0</td>\n",
       "      <td>...</td>\n",
       "      <td>0</td>\n",
       "      <td>0</td>\n",
       "      <td>0</td>\n",
       "      <td>0</td>\n",
       "      <td>0</td>\n",
       "      <td>0.0</td>\n",
       "      <td>0.0</td>\n",
       "      <td>0</td>\n",
       "      <td>1.0</td>\n",
       "      <td>1_product</td>\n",
       "    </tr>\n",
       "    <tr>\n",
       "      <th>3</th>\n",
       "      <td>2015-01-28</td>\n",
       "      <td>1050613</td>\n",
       "      <td>Not-employee</td>\n",
       "      <td>ES</td>\n",
       "      <td>Male</td>\n",
       "      <td>22</td>\n",
       "      <td>2012-08-10</td>\n",
       "      <td>Old-customer</td>\n",
       "      <td>35</td>\n",
       "      <td>1.0</td>\n",
       "      <td>...</td>\n",
       "      <td>0</td>\n",
       "      <td>0</td>\n",
       "      <td>0</td>\n",
       "      <td>0</td>\n",
       "      <td>0</td>\n",
       "      <td>0.0</td>\n",
       "      <td>0.0</td>\n",
       "      <td>0</td>\n",
       "      <td>1.0</td>\n",
       "      <td>1_product</td>\n",
       "    </tr>\n",
       "    <tr>\n",
       "      <th>4</th>\n",
       "      <td>2015-01-28</td>\n",
       "      <td>1050614</td>\n",
       "      <td>Not-employee</td>\n",
       "      <td>ES</td>\n",
       "      <td>Female</td>\n",
       "      <td>23</td>\n",
       "      <td>2012-08-10</td>\n",
       "      <td>Old-customer</td>\n",
       "      <td>35</td>\n",
       "      <td>1.0</td>\n",
       "      <td>...</td>\n",
       "      <td>0</td>\n",
       "      <td>0</td>\n",
       "      <td>0</td>\n",
       "      <td>0</td>\n",
       "      <td>0</td>\n",
       "      <td>0.0</td>\n",
       "      <td>0.0</td>\n",
       "      <td>0</td>\n",
       "      <td>1.0</td>\n",
       "      <td>1_product</td>\n",
       "    </tr>\n",
       "  </tbody>\n",
       "</table>\n",
       "<p>5 rows × 50 columns</p>\n",
       "</div>"
      ],
      "text/plain": [
       "         Date  Customer_code Employee_index Country  Gender  Age  \\\n",
       "0  2015-01-28        1375586   Not-employee      ES    Male   35   \n",
       "1  2015-01-28        1050611   Not-employee      ES  Female   23   \n",
       "2  2015-01-28        1050612   Not-employee      ES  Female   23   \n",
       "3  2015-01-28        1050613   Not-employee      ES    Male   22   \n",
       "4  2015-01-28        1050614   Not-employee      ES  Female   23   \n",
       "\n",
       "  Customer_join_date Customer_index  Customer_seniority  Primary_customer  \\\n",
       "0         2015-01-12   Old-customer                   6               1.0   \n",
       "1         2012-08-10   Old-customer                  35               1.0   \n",
       "2         2012-08-10   Old-customer                  35               1.0   \n",
       "3         2012-08-10   Old-customer                  35               1.0   \n",
       "4         2012-08-10   Old-customer                  35               1.0   \n",
       "\n",
       "   ... Loans Taxes Credit_card Securities Home_account Payroll Pensions_2  \\\n",
       "0  ...     0     0           0          0            0     0.0        0.0   \n",
       "1  ...     0     0           0          0            0     0.0        0.0   \n",
       "2  ...     0     0           0          0            0     0.0        0.0   \n",
       "3  ...     0     0           0          0            0     0.0        0.0   \n",
       "4  ...     0     0           0          0            0     0.0        0.0   \n",
       "\n",
       "  Direct_debit  Product_sum  Purchase_Group  \n",
       "0            0          1.0       1_product  \n",
       "1            0          1.0       1_product  \n",
       "2            0          1.0       1_product  \n",
       "3            0          1.0       1_product  \n",
       "4            0          1.0       1_product  \n",
       "\n",
       "[5 rows x 50 columns]"
      ]
     },
     "execution_count": 11,
     "metadata": {},
     "output_type": "execute_result"
    }
   ],
   "source": [
    "train_data.head(5)"
   ]
  },
  {
   "cell_type": "markdown",
   "id": "9a61d7ce",
   "metadata": {},
   "source": [
    "### Analysis:"
   ]
  },
  {
   "cell_type": "markdown",
   "id": "64163278",
   "metadata": {},
   "source": [
    "#### 1. Is there a correlation between the employee index and customer age."
   ]
  },
  {
   "cell_type": "code",
   "execution_count": 7,
   "id": "0bea15bd",
   "metadata": {},
   "outputs": [
    {
     "data": {
      "text/html": [
       "<div>\n",
       "<style scoped>\n",
       "    .dataframe tbody tr th:only-of-type {\n",
       "        vertical-align: middle;\n",
       "    }\n",
       "\n",
       "    .dataframe tbody tr th {\n",
       "        vertical-align: top;\n",
       "    }\n",
       "\n",
       "    .dataframe thead th {\n",
       "        text-align: right;\n",
       "    }\n",
       "</style>\n",
       "<table border=\"1\" class=\"dataframe\">\n",
       "  <thead>\n",
       "    <tr style=\"text-align: right;\">\n",
       "      <th></th>\n",
       "      <th>Age</th>\n",
       "      <th>Employee_index</th>\n",
       "    </tr>\n",
       "  </thead>\n",
       "  <tbody>\n",
       "    <tr>\n",
       "      <th>0</th>\n",
       "      <td>35</td>\n",
       "      <td>Not-employee</td>\n",
       "    </tr>\n",
       "    <tr>\n",
       "      <th>1</th>\n",
       "      <td>23</td>\n",
       "      <td>Not-employee</td>\n",
       "    </tr>\n",
       "    <tr>\n",
       "      <th>2</th>\n",
       "      <td>23</td>\n",
       "      <td>Not-employee</td>\n",
       "    </tr>\n",
       "    <tr>\n",
       "      <th>3</th>\n",
       "      <td>22</td>\n",
       "      <td>Not-employee</td>\n",
       "    </tr>\n",
       "    <tr>\n",
       "      <th>4</th>\n",
       "      <td>23</td>\n",
       "      <td>Not-employee</td>\n",
       "    </tr>\n",
       "    <tr>\n",
       "      <th>...</th>\n",
       "      <td>...</td>\n",
       "      <td>...</td>\n",
       "    </tr>\n",
       "    <tr>\n",
       "      <th>13393922</th>\n",
       "      <td>25</td>\n",
       "      <td>Not-employee</td>\n",
       "    </tr>\n",
       "    <tr>\n",
       "      <th>13393923</th>\n",
       "      <td>22</td>\n",
       "      <td>Not-employee</td>\n",
       "    </tr>\n",
       "    <tr>\n",
       "      <th>13393924</th>\n",
       "      <td>23</td>\n",
       "      <td>Not-employee</td>\n",
       "    </tr>\n",
       "    <tr>\n",
       "      <th>13393925</th>\n",
       "      <td>47</td>\n",
       "      <td>Not-employee</td>\n",
       "    </tr>\n",
       "    <tr>\n",
       "      <th>13393926</th>\n",
       "      <td>22</td>\n",
       "      <td>Not-employee</td>\n",
       "    </tr>\n",
       "  </tbody>\n",
       "</table>\n",
       "<p>13393927 rows × 2 columns</p>\n",
       "</div>"
      ],
      "text/plain": [
       "          Age Employee_index\n",
       "0          35   Not-employee\n",
       "1          23   Not-employee\n",
       "2          23   Not-employee\n",
       "3          22   Not-employee\n",
       "4          23   Not-employee\n",
       "...       ...            ...\n",
       "13393922   25   Not-employee\n",
       "13393923   22   Not-employee\n",
       "13393924   23   Not-employee\n",
       "13393925   47   Not-employee\n",
       "13393926   22   Not-employee\n",
       "\n",
       "[13393927 rows x 2 columns]"
      ]
     },
     "execution_count": 7,
     "metadata": {},
     "output_type": "execute_result"
    }
   ],
   "source": [
    "#Correlation between Employee_index and customer age:\n",
    "\n",
    "age_employee = train_data[['Age', 'Employee_index']]\n",
    "age_employee"
   ]
  },
  {
   "cell_type": "code",
   "execution_count": 8,
   "id": "86f8f517",
   "metadata": {},
   "outputs": [
    {
     "data": {
      "text/html": [
       "<div>\n",
       "<style scoped>\n",
       "    .dataframe tbody tr th:only-of-type {\n",
       "        vertical-align: middle;\n",
       "    }\n",
       "\n",
       "    .dataframe tbody tr th {\n",
       "        vertical-align: top;\n",
       "    }\n",
       "\n",
       "    .dataframe thead th {\n",
       "        text-align: right;\n",
       "    }\n",
       "</style>\n",
       "<table border=\"1\" class=\"dataframe\">\n",
       "  <thead>\n",
       "    <tr style=\"text-align: right;\">\n",
       "      <th></th>\n",
       "      <th>Age</th>\n",
       "    </tr>\n",
       "  </thead>\n",
       "  <tbody>\n",
       "    <tr>\n",
       "      <th>Age</th>\n",
       "      <td>1.0</td>\n",
       "    </tr>\n",
       "  </tbody>\n",
       "</table>\n",
       "</div>"
      ],
      "text/plain": [
       "     Age\n",
       "Age  1.0"
      ]
     },
     "execution_count": 8,
     "metadata": {},
     "output_type": "execute_result"
    }
   ],
   "source": [
    "corr_coeff = age_employee.corr()\n",
    "corr_coeff"
   ]
  },
  {
   "cell_type": "code",
   "execution_count": null,
   "id": "6c6f3988",
   "metadata": {},
   "outputs": [],
   "source": [
    "# since the output is 1, it indicates the positive co-relation between Employee_index and customer age"
   ]
  },
  {
   "cell_type": "code",
   "execution_count": 9,
   "id": "6ea87b82",
   "metadata": {},
   "outputs": [
    {
     "data": {
      "image/png": "[encoded data removed]",
      "text/plain": [
       "<Figure size 640x480 with 1 Axes>"
      ]
     },
     "metadata": {},
     "output_type": "display_data"
    }
   ],
   "source": [
    "#scatter plot.\n",
    "\n",
    "x = train_data['Employee_index']\n",
    "y = train_data['Age']\n",
    "\n",
    "plt.scatter(x,y)\n",
    "plt.title(\"Correlation between Employee_index and customer age\")\n",
    "plt.xlabel('Employee_index')\n",
    "plt.ylabel('Age')\n",
    "plt.show()"
   ]
  },
  {
   "cell_type": "markdown",
   "id": "79125042",
   "metadata": {},
   "source": [
    "#### 2. Define the correlation between customer age and gender?"
   ]
  },
  {
   "cell_type": "code",
   "execution_count": 10,
   "id": "a6e4e3f5",
   "metadata": {},
   "outputs": [
    {
     "data": {
      "text/html": [
       "<div>\n",
       "<style scoped>\n",
       "    .dataframe tbody tr th:only-of-type {\n",
       "        vertical-align: middle;\n",
       "    }\n",
       "\n",
       "    .dataframe tbody tr th {\n",
       "        vertical-align: top;\n",
       "    }\n",
       "\n",
       "    .dataframe thead th {\n",
       "        text-align: right;\n",
       "    }\n",
       "</style>\n",
       "<table border=\"1\" class=\"dataframe\">\n",
       "  <thead>\n",
       "    <tr style=\"text-align: right;\">\n",
       "      <th></th>\n",
       "      <th>Age</th>\n",
       "      <th>Gender</th>\n",
       "    </tr>\n",
       "  </thead>\n",
       "  <tbody>\n",
       "    <tr>\n",
       "      <th>0</th>\n",
       "      <td>35</td>\n",
       "      <td>Male</td>\n",
       "    </tr>\n",
       "    <tr>\n",
       "      <th>1</th>\n",
       "      <td>23</td>\n",
       "      <td>Female</td>\n",
       "    </tr>\n",
       "    <tr>\n",
       "      <th>2</th>\n",
       "      <td>23</td>\n",
       "      <td>Female</td>\n",
       "    </tr>\n",
       "    <tr>\n",
       "      <th>3</th>\n",
       "      <td>22</td>\n",
       "      <td>Male</td>\n",
       "    </tr>\n",
       "    <tr>\n",
       "      <th>4</th>\n",
       "      <td>23</td>\n",
       "      <td>Female</td>\n",
       "    </tr>\n",
       "    <tr>\n",
       "      <th>...</th>\n",
       "      <td>...</td>\n",
       "      <td>...</td>\n",
       "    </tr>\n",
       "    <tr>\n",
       "      <th>13393922</th>\n",
       "      <td>25</td>\n",
       "      <td>Female</td>\n",
       "    </tr>\n",
       "    <tr>\n",
       "      <th>13393923</th>\n",
       "      <td>22</td>\n",
       "      <td>Female</td>\n",
       "    </tr>\n",
       "    <tr>\n",
       "      <th>13393924</th>\n",
       "      <td>23</td>\n",
       "      <td>Female</td>\n",
       "    </tr>\n",
       "    <tr>\n",
       "      <th>13393925</th>\n",
       "      <td>47</td>\n",
       "      <td>Male</td>\n",
       "    </tr>\n",
       "    <tr>\n",
       "      <th>13393926</th>\n",
       "      <td>22</td>\n",
       "      <td>Male</td>\n",
       "    </tr>\n",
       "  </tbody>\n",
       "</table>\n",
       "<p>13393927 rows × 2 columns</p>\n",
       "</div>"
      ],
      "text/plain": [
       "          Age  Gender\n",
       "0          35    Male\n",
       "1          23  Female\n",
       "2          23  Female\n",
       "3          22    Male\n",
       "4          23  Female\n",
       "...       ...     ...\n",
       "13393922   25  Female\n",
       "13393923   22  Female\n",
       "13393924   23  Female\n",
       "13393925   47    Male\n",
       "13393926   22    Male\n",
       "\n",
       "[13393927 rows x 2 columns]"
      ]
     },
     "execution_count": 10,
     "metadata": {},
     "output_type": "execute_result"
    }
   ],
   "source": [
    "##Correlation between customer age and gender:\n",
    "\n",
    "gender_age = train_data[['Age', 'Gender']]\n",
    "gender_age"
   ]
  },
  {
   "cell_type": "code",
   "execution_count": 11,
   "id": "ecdf45d1",
   "metadata": {},
   "outputs": [
    {
     "data": {
      "text/html": [
       "<div>\n",
       "<style scoped>\n",
       "    .dataframe tbody tr th:only-of-type {\n",
       "        vertical-align: middle;\n",
       "    }\n",
       "\n",
       "    .dataframe tbody tr th {\n",
       "        vertical-align: top;\n",
       "    }\n",
       "\n",
       "    .dataframe thead th {\n",
       "        text-align: right;\n",
       "    }\n",
       "</style>\n",
       "<table border=\"1\" class=\"dataframe\">\n",
       "  <thead>\n",
       "    <tr style=\"text-align: right;\">\n",
       "      <th></th>\n",
       "      <th>Age</th>\n",
       "    </tr>\n",
       "  </thead>\n",
       "  <tbody>\n",
       "    <tr>\n",
       "      <th>Age</th>\n",
       "      <td>1.0</td>\n",
       "    </tr>\n",
       "  </tbody>\n",
       "</table>\n",
       "</div>"
      ],
      "text/plain": [
       "     Age\n",
       "Age  1.0"
      ]
     },
     "execution_count": 11,
     "metadata": {},
     "output_type": "execute_result"
    }
   ],
   "source": [
    "gender_corr = gender_age.corr()\n",
    "gender_corr"
   ]
  },
  {
   "cell_type": "code",
   "execution_count": 12,
   "id": "5110d0a6",
   "metadata": {},
   "outputs": [],
   "source": [
    "# since the output is 1, it indicates the positive co-relation between customer age and gender."
   ]
  },
  {
   "cell_type": "code",
   "execution_count": 13,
   "id": "7fc6c6d2",
   "metadata": {},
   "outputs": [
    {
     "data": {
      "image/png": "[encoded data removed]",
      "text/plain": [
       "<Figure size 640x480 with 1 Axes>"
      ]
     },
     "metadata": {},
     "output_type": "display_data"
    }
   ],
   "source": [
    "x = train_data['Gender']\n",
    "y = train_data['Age']\n",
    "\n",
    "plt.scatter(x,y)\n",
    "plt.title(\"Correlation between customer age and gender\")\n",
    "plt.xlabel('Gender')\n",
    "plt.ylabel('Age')\n",
    "plt.show()"
   ]
  },
  {
   "cell_type": "markdown",
   "id": "fd9d5245",
   "metadata": {},
   "source": [
    "#### 3. Define the correlation between  Customer_join_date  and  Customer Age?"
   ]
  },
  {
   "cell_type": "code",
   "execution_count": 14,
   "id": "bd9cf1ef",
   "metadata": {},
   "outputs": [],
   "source": [
    "#Correlation between Customer_join_date  and Age:\n",
    "#change of datatype:\n",
    "\n",
    "train_data['Customer_join_date'] = pd.to_datetime(train_data['Customer_join_date'])"
   ]
  },
  {
   "cell_type": "code",
   "execution_count": 15,
   "id": "ba462f3a",
   "metadata": {},
   "outputs": [
    {
     "data": {
      "text/html": [
       "<div>\n",
       "<style scoped>\n",
       "    .dataframe tbody tr th:only-of-type {\n",
       "        vertical-align: middle;\n",
       "    }\n",
       "\n",
       "    .dataframe tbody tr th {\n",
       "        vertical-align: top;\n",
       "    }\n",
       "\n",
       "    .dataframe thead th {\n",
       "        text-align: right;\n",
       "    }\n",
       "</style>\n",
       "<table border=\"1\" class=\"dataframe\">\n",
       "  <thead>\n",
       "    <tr style=\"text-align: right;\">\n",
       "      <th></th>\n",
       "      <th>Customer_join_date</th>\n",
       "      <th>Age</th>\n",
       "    </tr>\n",
       "  </thead>\n",
       "  <tbody>\n",
       "    <tr>\n",
       "      <th>0</th>\n",
       "      <td>2015-01-12</td>\n",
       "      <td>35</td>\n",
       "    </tr>\n",
       "    <tr>\n",
       "      <th>1</th>\n",
       "      <td>2012-08-10</td>\n",
       "      <td>23</td>\n",
       "    </tr>\n",
       "    <tr>\n",
       "      <th>2</th>\n",
       "      <td>2012-08-10</td>\n",
       "      <td>23</td>\n",
       "    </tr>\n",
       "    <tr>\n",
       "      <th>3</th>\n",
       "      <td>2012-08-10</td>\n",
       "      <td>22</td>\n",
       "    </tr>\n",
       "    <tr>\n",
       "      <th>4</th>\n",
       "      <td>2012-08-10</td>\n",
       "      <td>23</td>\n",
       "    </tr>\n",
       "    <tr>\n",
       "      <th>...</th>\n",
       "      <td>...</td>\n",
       "      <td>...</td>\n",
       "    </tr>\n",
       "    <tr>\n",
       "      <th>13393922</th>\n",
       "      <td>2013-08-14</td>\n",
       "      <td>25</td>\n",
       "    </tr>\n",
       "    <tr>\n",
       "      <th>13393923</th>\n",
       "      <td>2013-08-14</td>\n",
       "      <td>22</td>\n",
       "    </tr>\n",
       "    <tr>\n",
       "      <th>13393924</th>\n",
       "      <td>2013-08-14</td>\n",
       "      <td>23</td>\n",
       "    </tr>\n",
       "    <tr>\n",
       "      <th>13393925</th>\n",
       "      <td>2013-08-14</td>\n",
       "      <td>47</td>\n",
       "    </tr>\n",
       "    <tr>\n",
       "      <th>13393926</th>\n",
       "      <td>2013-08-14</td>\n",
       "      <td>22</td>\n",
       "    </tr>\n",
       "  </tbody>\n",
       "</table>\n",
       "<p>13393927 rows × 2 columns</p>\n",
       "</div>"
      ],
      "text/plain": [
       "         Customer_join_date  Age\n",
       "0                2015-01-12   35\n",
       "1                2012-08-10   23\n",
       "2                2012-08-10   23\n",
       "3                2012-08-10   22\n",
       "4                2012-08-10   23\n",
       "...                     ...  ...\n",
       "13393922         2013-08-14   25\n",
       "13393923         2013-08-14   22\n",
       "13393924         2013-08-14   23\n",
       "13393925         2013-08-14   47\n",
       "13393926         2013-08-14   22\n",
       "\n",
       "[13393927 rows x 2 columns]"
      ]
     },
     "execution_count": 15,
     "metadata": {},
     "output_type": "execute_result"
    }
   ],
   "source": [
    "join_date = train_data[['Customer_join_date', 'Age']]\n",
    "join_date"
   ]
  },
  {
   "cell_type": "code",
   "execution_count": 16,
   "id": "afa874c2",
   "metadata": {},
   "outputs": [
    {
     "data": {
      "text/html": [
       "<div>\n",
       "<style scoped>\n",
       "    .dataframe tbody tr th:only-of-type {\n",
       "        vertical-align: middle;\n",
       "    }\n",
       "\n",
       "    .dataframe tbody tr th {\n",
       "        vertical-align: top;\n",
       "    }\n",
       "\n",
       "    .dataframe thead th {\n",
       "        text-align: right;\n",
       "    }\n",
       "</style>\n",
       "<table border=\"1\" class=\"dataframe\">\n",
       "  <thead>\n",
       "    <tr style=\"text-align: right;\">\n",
       "      <th></th>\n",
       "      <th>Age</th>\n",
       "    </tr>\n",
       "  </thead>\n",
       "  <tbody>\n",
       "    <tr>\n",
       "      <th>Age</th>\n",
       "      <td>1.0</td>\n",
       "    </tr>\n",
       "  </tbody>\n",
       "</table>\n",
       "</div>"
      ],
      "text/plain": [
       "     Age\n",
       "Age  1.0"
      ]
     },
     "execution_count": 16,
     "metadata": {},
     "output_type": "execute_result"
    }
   ],
   "source": [
    "date_corr = join_date.corr()\n",
    "date_corr"
   ]
  },
  {
   "cell_type": "code",
   "execution_count": null,
   "id": "e63a252e",
   "metadata": {},
   "outputs": [],
   "source": [
    "# since the output is 1, it indicates the positive co-relation between Customer_join_date and Age."
   ]
  },
  {
   "cell_type": "code",
   "execution_count": 17,
   "id": "e8659971",
   "metadata": {},
   "outputs": [
    {
     "data": {
      "text/plain": [
       "Customer_join_date\n",
       "1995    59.161590\n",
       "1996    58.452450\n",
       "1997    56.370837\n",
       "1998    54.376412\n",
       "1999    53.707473\n",
       "2000    54.416208\n",
       "2001    54.480418\n",
       "2002    52.670817\n",
       "2003    51.087038\n",
       "2004    50.298354\n",
       "2005    50.186149\n",
       "2006    49.029527\n",
       "2007    49.546757\n",
       "2008    50.284907\n",
       "2009    47.668548\n",
       "2010    47.780098\n",
       "2011    30.516066\n",
       "2012    30.011717\n",
       "2013    28.899138\n",
       "2014    29.817643\n",
       "2015    30.079757\n",
       "2016    39.203833\n",
       "Name: Age, dtype: float64"
      ]
     },
     "execution_count": 17,
     "metadata": {},
     "output_type": "execute_result"
    }
   ],
   "source": [
    "#group the year and calculate average age of the year:\n",
    "\n",
    "Year_data = train_data.groupby(train_data['Customer_join_date'].dt.year)['Age'].mean()\n",
    "Year_data"
   ]
  },
  {
   "cell_type": "code",
   "execution_count": 38,
   "id": "9dc4c7ce",
   "metadata": {},
   "outputs": [
    {
     "data": {
      "image/png": "[encoded data removed]",
      "text/plain": [
       "<Figure size 1600x600 with 1 Axes>"
      ]
     },
     "metadata": {},
     "output_type": "display_data"
    }
   ],
   "source": [
    "#creating the line chart:\n",
    "\n",
    "plt.figure(figsize=(16,6))\n",
    "plt.plot(Year_data.index , Year_data.values)\n",
    "plt.title(\"Customer_join_date and Age\")\n",
    "plt.xlabel(\"Year_data\")\n",
    "plt.ylabel(\"Average Age\")\n",
    "plt.xticks(Year_data.index, Year_data.index)\n",
    "plt.show()"
   ]
  },
  {
   "cell_type": "markdown",
   "id": "e5bf29b9",
   "metadata": {},
   "source": [
    "#### 4. What is the correlation between Customer_code and Customer Age?"
   ]
  },
  {
   "cell_type": "code",
   "execution_count": 21,
   "id": "9c5d85da",
   "metadata": {},
   "outputs": [
    {
     "data": {
      "text/html": [
       "<div>\n",
       "<style scoped>\n",
       "    .dataframe tbody tr th:only-of-type {\n",
       "        vertical-align: middle;\n",
       "    }\n",
       "\n",
       "    .dataframe tbody tr th {\n",
       "        vertical-align: top;\n",
       "    }\n",
       "\n",
       "    .dataframe thead th {\n",
       "        text-align: right;\n",
       "    }\n",
       "</style>\n",
       "<table border=\"1\" class=\"dataframe\">\n",
       "  <thead>\n",
       "    <tr style=\"text-align: right;\">\n",
       "      <th></th>\n",
       "      <th>Customer_code</th>\n",
       "      <th>Age</th>\n",
       "    </tr>\n",
       "  </thead>\n",
       "  <tbody>\n",
       "    <tr>\n",
       "      <th>0</th>\n",
       "      <td>1375586</td>\n",
       "      <td>35</td>\n",
       "    </tr>\n",
       "    <tr>\n",
       "      <th>1</th>\n",
       "      <td>1050611</td>\n",
       "      <td>23</td>\n",
       "    </tr>\n",
       "    <tr>\n",
       "      <th>2</th>\n",
       "      <td>1050612</td>\n",
       "      <td>23</td>\n",
       "    </tr>\n",
       "    <tr>\n",
       "      <th>3</th>\n",
       "      <td>1050613</td>\n",
       "      <td>22</td>\n",
       "    </tr>\n",
       "    <tr>\n",
       "      <th>4</th>\n",
       "      <td>1050614</td>\n",
       "      <td>23</td>\n",
       "    </tr>\n",
       "    <tr>\n",
       "      <th>...</th>\n",
       "      <td>...</td>\n",
       "      <td>...</td>\n",
       "    </tr>\n",
       "    <tr>\n",
       "      <th>13393922</th>\n",
       "      <td>1166766</td>\n",
       "      <td>25</td>\n",
       "    </tr>\n",
       "    <tr>\n",
       "      <th>13393923</th>\n",
       "      <td>1166765</td>\n",
       "      <td>22</td>\n",
       "    </tr>\n",
       "    <tr>\n",
       "      <th>13393924</th>\n",
       "      <td>1166764</td>\n",
       "      <td>23</td>\n",
       "    </tr>\n",
       "    <tr>\n",
       "      <th>13393925</th>\n",
       "      <td>1166763</td>\n",
       "      <td>47</td>\n",
       "    </tr>\n",
       "    <tr>\n",
       "      <th>13393926</th>\n",
       "      <td>1166789</td>\n",
       "      <td>22</td>\n",
       "    </tr>\n",
       "  </tbody>\n",
       "</table>\n",
       "<p>13393927 rows × 2 columns</p>\n",
       "</div>"
      ],
      "text/plain": [
       "          Customer_code  Age\n",
       "0               1375586   35\n",
       "1               1050611   23\n",
       "2               1050612   23\n",
       "3               1050613   22\n",
       "4               1050614   23\n",
       "...                 ...  ...\n",
       "13393922        1166766   25\n",
       "13393923        1166765   22\n",
       "13393924        1166764   23\n",
       "13393925        1166763   47\n",
       "13393926        1166789   22\n",
       "\n",
       "[13393927 rows x 2 columns]"
      ]
     },
     "execution_count": 21,
     "metadata": {},
     "output_type": "execute_result"
    }
   ],
   "source": [
    "#Correlation between Customer_code and Age\n",
    "\n",
    "customer = train_data[['Customer_code', 'Age']]\n",
    "customer"
   ]
  },
  {
   "cell_type": "code",
   "execution_count": 22,
   "id": "f1e201f7",
   "metadata": {},
   "outputs": [
    {
     "data": {
      "text/html": [
       "<div>\n",
       "<style scoped>\n",
       "    .dataframe tbody tr th:only-of-type {\n",
       "        vertical-align: middle;\n",
       "    }\n",
       "\n",
       "    .dataframe tbody tr th {\n",
       "        vertical-align: top;\n",
       "    }\n",
       "\n",
       "    .dataframe thead th {\n",
       "        text-align: right;\n",
       "    }\n",
       "</style>\n",
       "<table border=\"1\" class=\"dataframe\">\n",
       "  <thead>\n",
       "    <tr style=\"text-align: right;\">\n",
       "      <th></th>\n",
       "      <th>Customer_code</th>\n",
       "      <th>Age</th>\n",
       "    </tr>\n",
       "  </thead>\n",
       "  <tbody>\n",
       "    <tr>\n",
       "      <th>Customer_code</th>\n",
       "      <td>1.000000</td>\n",
       "      <td>-0.609102</td>\n",
       "    </tr>\n",
       "    <tr>\n",
       "      <th>Age</th>\n",
       "      <td>-0.609102</td>\n",
       "      <td>1.000000</td>\n",
       "    </tr>\n",
       "  </tbody>\n",
       "</table>\n",
       "</div>"
      ],
      "text/plain": [
       "               Customer_code       Age\n",
       "Customer_code       1.000000 -0.609102\n",
       "Age                -0.609102  1.000000"
      ]
     },
     "execution_count": 22,
     "metadata": {},
     "output_type": "execute_result"
    }
   ],
   "source": [
    "customer_corr = customer.corr()\n",
    "customer_corr"
   ]
  },
  {
   "cell_type": "code",
   "execution_count": null,
   "id": "cfa85ce6",
   "metadata": {},
   "outputs": [],
   "source": [
    "#The correlation coefficient between 'Customer_code' and 'Age' is -0.609102, indicating a negative correlation. \n",
    "#the diagonal columns represents coefficient between 'Customer_code' and 'Age' is 1.000000 which indicating a positive correlation."
   ]
  },
  {
   "cell_type": "code",
   "execution_count": 23,
   "id": "1c9a4744",
   "metadata": {},
   "outputs": [
    {
     "data": {
      "text/plain": [
       "<AxesSubplot:>"
      ]
     },
     "execution_count": 23,
     "metadata": {},
     "output_type": "execute_result"
    },
    {
     "data": {
      "image/png": "[encoded data removed]",
      "text/plain": [
       "<Figure size 640x480 with 2 Axes>"
      ]
     },
     "metadata": {},
     "output_type": "display_data"
    }
   ],
   "source": [
    "sns.heatmap(customer_corr, annot=True)"
   ]
  },
  {
   "cell_type": "markdown",
   "id": "c6656576",
   "metadata": {},
   "source": [
    "#### 5. Define the correlation between Customer Age and Product Sum? What kind relationship they have?"
   ]
  },
  {
   "cell_type": "code",
   "execution_count": 16,
   "id": "7542fdd4",
   "metadata": {},
   "outputs": [
    {
     "data": {
      "text/html": [
       "<div>\n",
       "<style scoped>\n",
       "    .dataframe tbody tr th:only-of-type {\n",
       "        vertical-align: middle;\n",
       "    }\n",
       "\n",
       "    .dataframe tbody tr th {\n",
       "        vertical-align: top;\n",
       "    }\n",
       "\n",
       "    .dataframe thead th {\n",
       "        text-align: right;\n",
       "    }\n",
       "</style>\n",
       "<table border=\"1\" class=\"dataframe\">\n",
       "  <thead>\n",
       "    <tr style=\"text-align: right;\">\n",
       "      <th></th>\n",
       "      <th>Age</th>\n",
       "      <th>Product_sum</th>\n",
       "    </tr>\n",
       "  </thead>\n",
       "  <tbody>\n",
       "    <tr>\n",
       "      <th>Age</th>\n",
       "      <td>1.000000</td>\n",
       "      <td>0.182969</td>\n",
       "    </tr>\n",
       "    <tr>\n",
       "      <th>Product_sum</th>\n",
       "      <td>0.182969</td>\n",
       "      <td>1.000000</td>\n",
       "    </tr>\n",
       "  </tbody>\n",
       "</table>\n",
       "</div>"
      ],
      "text/plain": [
       "                  Age  Product_sum\n",
       "Age          1.000000     0.182969\n",
       "Product_sum  0.182969     1.000000"
      ]
     },
     "execution_count": 16,
     "metadata": {},
     "output_type": "execute_result"
    }
   ],
   "source": [
    "#Correlation between Age and Product sum:\n",
    "\n",
    "age_product = train_data[['Age', 'Product_sum']].corr()\n",
    "age_product"
   ]
  },
  {
   "cell_type": "code",
   "execution_count": null,
   "id": "c5efbdbe",
   "metadata": {},
   "outputs": [],
   "source": [
    "#The correlation coefficient between Age and Product sum is 1, is positive relation.\n",
    "#the diagonal columns represents coefficient between is 0.182969, these two variables in that row and column."
   ]
  },
  {
   "cell_type": "markdown",
   "id": "ed61f711",
   "metadata": {},
   "source": [
    "#### 6. Define the correlation between Gender and Product Sum? What kind relationship they have?"
   ]
  },
  {
   "cell_type": "code",
   "execution_count": 17,
   "id": "1ab7d89a",
   "metadata": {},
   "outputs": [
    {
     "data": {
      "text/html": [
       "<div>\n",
       "<style scoped>\n",
       "    .dataframe tbody tr th:only-of-type {\n",
       "        vertical-align: middle;\n",
       "    }\n",
       "\n",
       "    .dataframe tbody tr th {\n",
       "        vertical-align: top;\n",
       "    }\n",
       "\n",
       "    .dataframe thead th {\n",
       "        text-align: right;\n",
       "    }\n",
       "</style>\n",
       "<table border=\"1\" class=\"dataframe\">\n",
       "  <thead>\n",
       "    <tr style=\"text-align: right;\">\n",
       "      <th></th>\n",
       "      <th>Product_sum</th>\n",
       "    </tr>\n",
       "  </thead>\n",
       "  <tbody>\n",
       "    <tr>\n",
       "      <th>Product_sum</th>\n",
       "      <td>1.0</td>\n",
       "    </tr>\n",
       "  </tbody>\n",
       "</table>\n",
       "</div>"
      ],
      "text/plain": [
       "             Product_sum\n",
       "Product_sum          1.0"
      ]
     },
     "execution_count": 17,
     "metadata": {},
     "output_type": "execute_result"
    }
   ],
   "source": [
    "#Correaltion between Gender and Product Sum:\n",
    "\n",
    "gender_product = train_data[['Gender', 'Product_sum']].corr()\n",
    "gender_product"
   ]
  },
  {
   "cell_type": "code",
   "execution_count": null,
   "id": "7227b421",
   "metadata": {},
   "outputs": [],
   "source": [
    "#The correlation coefficient between gender and Product sum is 1, this indicates the positive relation."
   ]
  },
  {
   "cell_type": "markdown",
   "id": "9e3da93c",
   "metadata": {},
   "source": [
    "##### Trends and patterns:"
   ]
  },
  {
   "cell_type": "markdown",
   "id": "6896d5d6",
   "metadata": {},
   "source": [
    "#### 7. What is the trend of Customer join date over the time?"
   ]
  },
  {
   "cell_type": "code",
   "execution_count": 25,
   "id": "a7c0288a",
   "metadata": {},
   "outputs": [
    {
     "data": {
      "text/plain": [
       "Customer_join_date\n",
       "1995      79244\n",
       "1996     131725\n",
       "1997     190933\n",
       "1998     270148\n",
       "1999     289416\n",
       "2000     414235\n",
       "2001     719095\n",
       "2002     660714\n",
       "2003     431307\n",
       "2004     492408\n",
       "2005     530629\n",
       "2006     548793\n",
       "2007     487654\n",
       "2008     526263\n",
       "2009     227816\n",
       "2010     325981\n",
       "2011    1241416\n",
       "2012    1465702\n",
       "2013    1514320\n",
       "2014    1724231\n",
       "2015    1065542\n",
       "2016      56355\n",
       "Name: Customer_code, dtype: int64"
      ]
     },
     "execution_count": 25,
     "metadata": {},
     "output_type": "execute_result"
    }
   ],
   "source": [
    "#creating the line chart for Customer_join_date to show the trend in customer join over the time.\n",
    "\n",
    "customer_count = train_data.groupby(train_data['Customer_join_date'].dt.year)['Customer_code'].count()\n",
    "customer_count"
   ]
  },
  {
   "cell_type": "code",
   "execution_count": 32,
   "id": "5de048c4",
   "metadata": {},
   "outputs": [
    {
     "data": {
      "image/png": "[encoded data removed]",
      "text/plain": [
       "<Figure size 2000x600 with 1 Axes>"
      ]
     },
     "metadata": {},
     "output_type": "display_data"
    }
   ],
   "source": [
    "#creating the line chart:\n",
    "plt.figure(figsize=(20,6))\n",
    "plt.plot(customer_count.index,customer_count.values)\n",
    "plt.title(\"Customer joining over the time\")\n",
    "plt.xlabel(\"year\")\n",
    "plt.ylabel(\"Customer Count\")\n",
    "plt.xticks(customer_count.index, customer_count.index)\n",
    "plt.show()"
   ]
  },
  {
   "cell_type": "markdown",
   "id": "9b5a8613",
   "metadata": {},
   "source": [
    "#### 8. What is the age group that has purchased the highest number of products?"
   ]
  },
  {
   "cell_type": "code",
   "execution_count": 18,
   "id": "7c5a333e",
   "metadata": {},
   "outputs": [],
   "source": [
    "#creating the age-bins and creating the age group:\n",
    "\n",
    "bins = [0, 20, 40, 60, 80, 100]\n",
    "labels = ['0-20', '20-40', '40-60', '60-80', '80-100']\n",
    "train_data['age_group'] = pd.cut(train_data['Age'], bins=bins, labels=labels)"
   ]
  },
  {
   "cell_type": "code",
   "execution_count": 19,
   "id": "c6b5f805",
   "metadata": {},
   "outputs": [
    {
     "data": {
      "text/plain": [
       "0           20-40\n",
       "1           20-40\n",
       "2           20-40\n",
       "3           20-40\n",
       "4           20-40\n",
       "            ...  \n",
       "13393922    20-40\n",
       "13393923    20-40\n",
       "13393924    20-40\n",
       "13393925    40-60\n",
       "13393926    20-40\n",
       "Name: age_group, Length: 13393927, dtype: category\n",
       "Categories (5, object): ['0-20' < '20-40' < '40-60' < '60-80' < '80-100']"
      ]
     },
     "execution_count": 19,
     "metadata": {},
     "output_type": "execute_result"
    }
   ],
   "source": [
    "train_data['age_group']"
   ]
  },
  {
   "cell_type": "code",
   "execution_count": 20,
   "id": "d35bbb9a",
   "metadata": {},
   "outputs": [
    {
     "data": {
      "text/html": [
       "<div>\n",
       "<style scoped>\n",
       "    .dataframe tbody tr th:only-of-type {\n",
       "        vertical-align: middle;\n",
       "    }\n",
       "\n",
       "    .dataframe tbody tr th {\n",
       "        vertical-align: top;\n",
       "    }\n",
       "\n",
       "    .dataframe thead th {\n",
       "        text-align: right;\n",
       "    }\n",
       "</style>\n",
       "<table border=\"1\" class=\"dataframe\">\n",
       "  <thead>\n",
       "    <tr style=\"text-align: right;\">\n",
       "      <th></th>\n",
       "      <th>age_group</th>\n",
       "      <th>Product_sum</th>\n",
       "    </tr>\n",
       "  </thead>\n",
       "  <tbody>\n",
       "    <tr>\n",
       "      <th>0</th>\n",
       "      <td>0-20</td>\n",
       "      <td>433442.0</td>\n",
       "    </tr>\n",
       "    <tr>\n",
       "      <th>1</th>\n",
       "      <td>20-40</td>\n",
       "      <td>7820948.0</td>\n",
       "    </tr>\n",
       "    <tr>\n",
       "      <th>2</th>\n",
       "      <td>40-60</td>\n",
       "      <td>8869360.0</td>\n",
       "    </tr>\n",
       "    <tr>\n",
       "      <th>3</th>\n",
       "      <td>60-80</td>\n",
       "      <td>2144894.0</td>\n",
       "    </tr>\n",
       "    <tr>\n",
       "      <th>4</th>\n",
       "      <td>80-100</td>\n",
       "      <td>469701.0</td>\n",
       "    </tr>\n",
       "  </tbody>\n",
       "</table>\n",
       "</div>"
      ],
      "text/plain": [
       "  age_group  Product_sum\n",
       "0      0-20     433442.0\n",
       "1     20-40    7820948.0\n",
       "2     40-60    8869360.0\n",
       "3     60-80    2144894.0\n",
       "4    80-100     469701.0"
      ]
     },
     "execution_count": 20,
     "metadata": {},
     "output_type": "execute_result"
    }
   ],
   "source": [
    "#finding the age group which has purchased more products:\n",
    "\n",
    "age_group_data = train_data.groupby(train_data['age_group'])['Product_sum'].sum().reset_index()\n",
    "age_group_data"
   ]
  },
  {
   "cell_type": "code",
   "execution_count": 23,
   "id": "c406a1b2",
   "metadata": {},
   "outputs": [
    {
     "data": {
      "image/png": "[encoded data removed]",
      "text/plain": [
       "<Figure size 640x480 with 1 Axes>"
      ]
     },
     "metadata": {},
     "output_type": "display_data"
    }
   ],
   "source": [
    "age_group_data.plot(kind=\"bar\")\n",
    "plt.title('No.of Products purchased by Age group')\n",
    "plt.xlabel('Age_group')\n",
    "plt.ylabel('Product Sum')\n",
    "plt.xticks(age_group_data.index, ['0-20', '20-40', '40-60', '60-80', '80-100'])\n",
    "plt.show()"
   ]
  },
  {
   "cell_type": "code",
   "execution_count": null,
   "id": "66091fbd",
   "metadata": {},
   "outputs": [],
   "source": [
    "# Age group of 40-60 has purchased more products than the other groups."
   ]
  },
  {
   "cell_type": "code",
   "execution_count": null,
   "id": "ffbfee65",
   "metadata": {},
   "outputs": [],
   "source": []
  },
  {
   "cell_type": "markdown",
   "id": "a950f9b6",
   "metadata": {},
   "source": [
    "#### 9. What is the difference in the product purchase among the genders? Are they  any particular product group that are more popular among one gender when compared to the other?"
   ]
  },
  {
   "cell_type": "code",
   "execution_count": 27,
   "id": "cc04bd74",
   "metadata": {},
   "outputs": [],
   "source": [
    "# gender-based differences in the products customers purchase:\n",
    "\n",
    "male_data = train_data[train_data['Gender']==\"Male\"]\n",
    "female_data = train_data[train_data['Gender']==\"Female\"] "
   ]
  },
  {
   "cell_type": "code",
   "execution_count": 29,
   "id": "dd478ec6",
   "metadata": {},
   "outputs": [
    {
     "data": {
      "text/plain": [
       "Purchase_Group\n",
       "No_product           0.0\n",
       "1_product      3519908.0\n",
       "More_than_1    7916729.0\n",
       "Name: Product_sum, dtype: float64"
      ]
     },
     "execution_count": 29,
     "metadata": {},
     "output_type": "execute_result"
    }
   ],
   "source": [
    "purchase_count_m = male_data.groupby('Purchase_Group')['Product_sum'].sum()\n",
    "purchase_count_f = female_data.groupby('Purchase_Group')['Product_sum'].sum()\n",
    "\n",
    "purchase_count_m\n",
    "purchase_count_f"
   ]
  },
  {
   "cell_type": "code",
   "execution_count": 30,
   "id": "d2ac742d",
   "metadata": {},
   "outputs": [
    {
     "data": {
      "image/png": "[encoded data removed]",
      "text/plain": [
       "<Figure size 640x480 with 1 Axes>"
      ]
     },
     "metadata": {},
     "output_type": "display_data"
    }
   ],
   "source": [
    "fig, ax = plt.subplots()\n",
    "ax.bar(purchase_count_m.index, purchase_count_m.values, width=0.4, align='edge', label='Male')\n",
    "ax.bar(purchase_count_f.index, purchase_count_f.values, width=-0.4, align='edge', label='Female')\n",
    "plt.xlabel('Purchase Group')\n",
    "plt.ylabel('Total Product Sum')\n",
    "plt.title('Total Product Sums by Purchase Group and Gender')\n",
    "plt.legend()\n",
    "plt.show()"
   ]
  },
  {
   "cell_type": "code",
   "execution_count": null,
   "id": "9c59313b",
   "metadata": {},
   "outputs": [],
   "source": [
    "#The project group of \"more_than_1\" has more male customers than female. 1_product customers count is equal in both genders."
   ]
  },
  {
   "cell_type": "markdown",
   "id": "b821f77b",
   "metadata": {},
   "source": [
    "#### Visualization on each columns:"
   ]
  },
  {
   "cell_type": "code",
   "execution_count": 33,
   "id": "2741ba29",
   "metadata": {},
   "outputs": [
    {
     "data": {
      "text/plain": [
       "Female    7299790\n",
       "Male      6094137\n",
       "Name: Gender, dtype: int64"
      ]
     },
     "execution_count": 33,
     "metadata": {},
     "output_type": "execute_result"
    }
   ],
   "source": [
    "#Visualization:\n",
    "\n",
    "gender_count = train_data['Gender'].value_counts()\n",
    "gender_count"
   ]
  },
  {
   "cell_type": "code",
   "execution_count": 34,
   "id": "430a97f1",
   "metadata": {},
   "outputs": [
    {
     "data": {
      "image/png": "[encoded data removed]",
      "text/plain": [
       "<Figure size 640x480 with 1 Axes>"
      ]
     },
     "metadata": {},
     "output_type": "display_data"
    }
   ],
   "source": [
    "# Customer Join date and the Gender:\n",
    "\n",
    "gender_count.plot(kind=\"bar\", color=['pink', 'lightblue'])\n",
    "plt.title('Gender Counts')\n",
    "plt.xlabel('Gender')\n",
    "plt.ylabel('Count')\n",
    "plt.show()"
   ]
  },
  {
   "cell_type": "code",
   "execution_count": 35,
   "id": "7a6009e9",
   "metadata": {},
   "outputs": [
    {
     "data": {
      "text/plain": [
       "Not-employee    13385386\n",
       "Ex-employee         3537\n",
       "Filial              2512\n",
       "Active              2475\n",
       "Unknown               17\n",
       "Name: Employee_index, dtype: int64"
      ]
     },
     "execution_count": 35,
     "metadata": {},
     "output_type": "execute_result"
    }
   ],
   "source": [
    "#Employee_index:\n",
    "\n",
    "employee_index = train_data['Employee_index'].value_counts()\n",
    "employee_index"
   ]
  },
  {
   "cell_type": "code",
   "execution_count": 36,
   "id": "28489812",
   "metadata": {},
   "outputs": [
    {
     "data": {
      "image/png": "[encoded data removed]",
      "text/plain": [
       "<Figure size 640x480 with 1 Axes>"
      ]
     },
     "metadata": {},
     "output_type": "display_data"
    }
   ],
   "source": [
    "employee_index.plot(kind='bar')\n",
    "plt.title('Employee Index Proportions')\n",
    "plt.show()"
   ]
  },
  {
   "cell_type": "code",
   "execution_count": 37,
   "id": "af5ad4e2",
   "metadata": {},
   "outputs": [
    {
     "data": {
      "image/png": "[encoded data removed]",
      "text/plain": [
       "<Figure size 640x480 with 1 Axes>"
      ]
     },
     "metadata": {},
     "output_type": "display_data"
    }
   ],
   "source": [
    "#age distribution:\n",
    "\n",
    "train_data['Age'].plot.hist()\n",
    "plt.title(\"Age Distribution\")\n",
    "plt.xlabel(\"Age\")\n",
    "plt.show()"
   ]
  },
  {
   "cell_type": "code",
   "execution_count": 24,
   "id": "1c7e7c88",
   "metadata": {},
   "outputs": [
    {
     "data": {
      "text/plain": [
       "1_product      7040309\n",
       "More_than_1    3894196\n",
       "No_product     2459422\n",
       "Name: Purchase_Group, dtype: int64"
      ]
     },
     "execution_count": 24,
     "metadata": {},
     "output_type": "execute_result"
    }
   ],
   "source": [
    "#Product Categories:\n",
    "\n",
    "category_count = train_data['Purchase_Group'].value_counts()\n",
    "category_count "
   ]
  },
  {
   "cell_type": "code",
   "execution_count": 26,
   "id": "505ab1a9",
   "metadata": {},
   "outputs": [
    {
     "data": {
      "image/png": "[encoded data removed]",
      "text/plain": [
       "<Figure size 640x480 with 1 Axes>"
      ]
     },
     "metadata": {},
     "output_type": "display_data"
    }
   ],
   "source": [
    "category_count.plot(kind='bar')\n",
    "plt.title('Count of each Product category')\n",
    "plt.xlabel(\"Purchase Group\")\n",
    "plt.ylabel(\"Frequency\")\n",
    "plt.show()"
   ]
  },
  {
   "cell_type": "markdown",
   "id": "b6dee213",
   "metadata": {},
   "source": [
    "### Hypotheses:"
   ]
  },
  {
   "cell_type": "markdown",
   "id": "4f1f451c",
   "metadata": {},
   "source": [
    " #### Are there any patterns in the gender and age of customers who purchase multiple products?"
   ]
  },
  {
   "cell_type": "code",
   "execution_count": 7,
   "id": "d3782c36",
   "metadata": {},
   "outputs": [
    {
     "name": "stdout",
     "output_type": "stream",
     "text": [
      "HO = There is no signficant difference between Gender and Age of Customers who purchase Multiple products.\n"
     ]
    }
   ],
   "source": [
    "#step-1: H0,\n",
    "\n",
    "print(\"HO = There is no signficant difference between Gender and Age of Customers who purchase Multiple products.\")"
   ]
  },
  {
   "cell_type": "code",
   "execution_count": 8,
   "id": "bec9628e",
   "metadata": {},
   "outputs": [
    {
     "name": "stdout",
     "output_type": "stream",
     "text": [
      "Ha = there is relationship between Gender and Age of Customers who purchase Multiple products.\n"
     ]
    }
   ],
   "source": [
    "#step-2: Ha,\n",
    "\n",
    "print(\"Ha = there is relationship between Gender and Age of Customers who purchase Multiple products.\")"
   ]
  },
  {
   "cell_type": "markdown",
   "id": "e51cf03b",
   "metadata": {},
   "source": [
    " ##### ** We will conduct a two-sample t-test to test the hypothesis. The significance level is set to 0.05."
   ]
  },
  {
   "cell_type": "code",
   "execution_count": 11,
   "id": "117dae81",
   "metadata": {},
   "outputs": [
    {
     "data": {
      "text/plain": [
       "Female    7299790\n",
       "Male      6094137\n",
       "Name: Gender, dtype: int64"
      ]
     },
     "execution_count": 11,
     "metadata": {},
     "output_type": "execute_result"
    }
   ],
   "source": [
    "gender_count = train_data.Gender.value_counts()\n",
    "gender_count"
   ]
  },
  {
   "cell_type": "code",
   "execution_count": 14,
   "id": "cba2c78e",
   "metadata": {},
   "outputs": [
    {
     "data": {
      "text/plain": [
       "23     774838\n",
       "24     730523\n",
       "22     729650\n",
       "21     657747\n",
       "25     468432\n",
       "        ...  \n",
       "116        63\n",
       "114        17\n",
       "117        14\n",
       "127         8\n",
       "126         3\n",
       "Name: Age, Length: 118, dtype: int64"
      ]
     },
     "execution_count": 14,
     "metadata": {},
     "output_type": "execute_result"
    }
   ],
   "source": [
    "age_count = train_data.Age.value_counts()\n",
    "age_count"
   ]
  },
  {
   "cell_type": "code",
   "execution_count": 17,
   "id": "cd0cddb3",
   "metadata": {},
   "outputs": [
    {
     "data": {
      "text/plain": [
       "40.2128540793152"
      ]
     },
     "execution_count": 17,
     "metadata": {},
     "output_type": "execute_result"
    }
   ],
   "source": [
    "#finding the age mean():\n",
    "\n",
    "mean_age =  train_data.Age.mean()\n",
    "mean_age "
   ]
  },
  {
   "cell_type": "code",
   "execution_count": 21,
   "id": "57e7b138",
   "metadata": {},
   "outputs": [
    {
     "data": {
      "text/html": [
       "<div>\n",
       "<style scoped>\n",
       "    .dataframe tbody tr th:only-of-type {\n",
       "        vertical-align: middle;\n",
       "    }\n",
       "\n",
       "    .dataframe tbody tr th {\n",
       "        vertical-align: top;\n",
       "    }\n",
       "\n",
       "    .dataframe thead th {\n",
       "        text-align: right;\n",
       "    }\n",
       "</style>\n",
       "<table border=\"1\" class=\"dataframe\">\n",
       "  <thead>\n",
       "    <tr style=\"text-align: right;\">\n",
       "      <th></th>\n",
       "      <th>Date</th>\n",
       "      <th>Customer_code</th>\n",
       "      <th>Employee_index</th>\n",
       "      <th>Country</th>\n",
       "      <th>Gender</th>\n",
       "      <th>Age</th>\n",
       "      <th>Customer_join_date</th>\n",
       "      <th>Customer_index</th>\n",
       "      <th>Customer_seniority</th>\n",
       "      <th>Primary_customer</th>\n",
       "      <th>...</th>\n",
       "      <th>Loans</th>\n",
       "      <th>Taxes</th>\n",
       "      <th>Credit_card</th>\n",
       "      <th>Securities</th>\n",
       "      <th>Home_account</th>\n",
       "      <th>Payroll</th>\n",
       "      <th>Pensions_2</th>\n",
       "      <th>Direct_debit</th>\n",
       "      <th>Product_sum</th>\n",
       "      <th>Purchase_Group</th>\n",
       "    </tr>\n",
       "  </thead>\n",
       "  <tbody>\n",
       "    <tr>\n",
       "      <th>21</th>\n",
       "      <td>2015-01-28</td>\n",
       "      <td>1050586</td>\n",
       "      <td>Not-employee</td>\n",
       "      <td>ES</td>\n",
       "      <td>Female</td>\n",
       "      <td>23</td>\n",
       "      <td>2012-08-10</td>\n",
       "      <td>Old-customer</td>\n",
       "      <td>35</td>\n",
       "      <td>1.0</td>\n",
       "      <td>...</td>\n",
       "      <td>0</td>\n",
       "      <td>0</td>\n",
       "      <td>0</td>\n",
       "      <td>0</td>\n",
       "      <td>0</td>\n",
       "      <td>0.0</td>\n",
       "      <td>0.0</td>\n",
       "      <td>1</td>\n",
       "      <td>2.0</td>\n",
       "      <td>More_than_1</td>\n",
       "    </tr>\n",
       "    <tr>\n",
       "      <th>40</th>\n",
       "      <td>2015-01-28</td>\n",
       "      <td>1050670</td>\n",
       "      <td>Not-employee</td>\n",
       "      <td>ES</td>\n",
       "      <td>Female</td>\n",
       "      <td>37</td>\n",
       "      <td>2012-08-10</td>\n",
       "      <td>Old-customer</td>\n",
       "      <td>35</td>\n",
       "      <td>1.0</td>\n",
       "      <td>...</td>\n",
       "      <td>0</td>\n",
       "      <td>0</td>\n",
       "      <td>0</td>\n",
       "      <td>0</td>\n",
       "      <td>0</td>\n",
       "      <td>0.0</td>\n",
       "      <td>0.0</td>\n",
       "      <td>1</td>\n",
       "      <td>2.0</td>\n",
       "      <td>More_than_1</td>\n",
       "    </tr>\n",
       "    <tr>\n",
       "      <th>41</th>\n",
       "      <td>2015-01-28</td>\n",
       "      <td>1050676</td>\n",
       "      <td>Not-employee</td>\n",
       "      <td>ES</td>\n",
       "      <td>Female</td>\n",
       "      <td>31</td>\n",
       "      <td>2012-08-10</td>\n",
       "      <td>Old-customer</td>\n",
       "      <td>35</td>\n",
       "      <td>1.0</td>\n",
       "      <td>...</td>\n",
       "      <td>0</td>\n",
       "      <td>0</td>\n",
       "      <td>0</td>\n",
       "      <td>0</td>\n",
       "      <td>0</td>\n",
       "      <td>0.0</td>\n",
       "      <td>0.0</td>\n",
       "      <td>0</td>\n",
       "      <td>2.0</td>\n",
       "      <td>More_than_1</td>\n",
       "    </tr>\n",
       "    <tr>\n",
       "      <th>44</th>\n",
       "      <td>2015-01-28</td>\n",
       "      <td>1050686</td>\n",
       "      <td>Not-employee</td>\n",
       "      <td>ES</td>\n",
       "      <td>Female</td>\n",
       "      <td>39</td>\n",
       "      <td>2012-08-10</td>\n",
       "      <td>Old-customer</td>\n",
       "      <td>35</td>\n",
       "      <td>1.0</td>\n",
       "      <td>...</td>\n",
       "      <td>0</td>\n",
       "      <td>0</td>\n",
       "      <td>0</td>\n",
       "      <td>0</td>\n",
       "      <td>0</td>\n",
       "      <td>0.0</td>\n",
       "      <td>0.0</td>\n",
       "      <td>1</td>\n",
       "      <td>3.0</td>\n",
       "      <td>More_than_1</td>\n",
       "    </tr>\n",
       "    <tr>\n",
       "      <th>45</th>\n",
       "      <td>2015-01-28</td>\n",
       "      <td>1050688</td>\n",
       "      <td>Not-employee</td>\n",
       "      <td>ES</td>\n",
       "      <td>Female</td>\n",
       "      <td>63</td>\n",
       "      <td>2012-08-10</td>\n",
       "      <td>Old-customer</td>\n",
       "      <td>35</td>\n",
       "      <td>1.0</td>\n",
       "      <td>...</td>\n",
       "      <td>0</td>\n",
       "      <td>0</td>\n",
       "      <td>0</td>\n",
       "      <td>0</td>\n",
       "      <td>0</td>\n",
       "      <td>0.0</td>\n",
       "      <td>0.0</td>\n",
       "      <td>0</td>\n",
       "      <td>2.0</td>\n",
       "      <td>More_than_1</td>\n",
       "    </tr>\n",
       "    <tr>\n",
       "      <th>...</th>\n",
       "      <td>...</td>\n",
       "      <td>...</td>\n",
       "      <td>...</td>\n",
       "      <td>...</td>\n",
       "      <td>...</td>\n",
       "      <td>...</td>\n",
       "      <td>...</td>\n",
       "      <td>...</td>\n",
       "      <td>...</td>\n",
       "      <td>...</td>\n",
       "      <td>...</td>\n",
       "      <td>...</td>\n",
       "      <td>...</td>\n",
       "      <td>...</td>\n",
       "      <td>...</td>\n",
       "      <td>...</td>\n",
       "      <td>...</td>\n",
       "      <td>...</td>\n",
       "      <td>...</td>\n",
       "      <td>...</td>\n",
       "      <td>...</td>\n",
       "    </tr>\n",
       "    <tr>\n",
       "      <th>13393746</th>\n",
       "      <td>2016-05-28</td>\n",
       "      <td>1166712</td>\n",
       "      <td>Not-employee</td>\n",
       "      <td>ES</td>\n",
       "      <td>Female</td>\n",
       "      <td>34</td>\n",
       "      <td>2013-08-14</td>\n",
       "      <td>Old-customer</td>\n",
       "      <td>33</td>\n",
       "      <td>1.0</td>\n",
       "      <td>...</td>\n",
       "      <td>0</td>\n",
       "      <td>0</td>\n",
       "      <td>0</td>\n",
       "      <td>0</td>\n",
       "      <td>0</td>\n",
       "      <td>0.0</td>\n",
       "      <td>0.0</td>\n",
       "      <td>1</td>\n",
       "      <td>2.0</td>\n",
       "      <td>More_than_1</td>\n",
       "    </tr>\n",
       "    <tr>\n",
       "      <th>13393757</th>\n",
       "      <td>2016-05-28</td>\n",
       "      <td>1166666</td>\n",
       "      <td>Not-employee</td>\n",
       "      <td>ES</td>\n",
       "      <td>Male</td>\n",
       "      <td>30</td>\n",
       "      <td>2013-08-14</td>\n",
       "      <td>Old-customer</td>\n",
       "      <td>33</td>\n",
       "      <td>1.0</td>\n",
       "      <td>...</td>\n",
       "      <td>0</td>\n",
       "      <td>0</td>\n",
       "      <td>0</td>\n",
       "      <td>0</td>\n",
       "      <td>0</td>\n",
       "      <td>1.0</td>\n",
       "      <td>1.0</td>\n",
       "      <td>1</td>\n",
       "      <td>4.0</td>\n",
       "      <td>More_than_1</td>\n",
       "    </tr>\n",
       "    <tr>\n",
       "      <th>13393852</th>\n",
       "      <td>2016-05-28</td>\n",
       "      <td>1166836</td>\n",
       "      <td>Not-employee</td>\n",
       "      <td>ES</td>\n",
       "      <td>Female</td>\n",
       "      <td>27</td>\n",
       "      <td>2013-08-16</td>\n",
       "      <td>Old-customer</td>\n",
       "      <td>33</td>\n",
       "      <td>1.0</td>\n",
       "      <td>...</td>\n",
       "      <td>0</td>\n",
       "      <td>1</td>\n",
       "      <td>0</td>\n",
       "      <td>0</td>\n",
       "      <td>0</td>\n",
       "      <td>0.0</td>\n",
       "      <td>0.0</td>\n",
       "      <td>0</td>\n",
       "      <td>2.0</td>\n",
       "      <td>More_than_1</td>\n",
       "    </tr>\n",
       "    <tr>\n",
       "      <th>13393876</th>\n",
       "      <td>2016-05-28</td>\n",
       "      <td>1166753</td>\n",
       "      <td>Not-employee</td>\n",
       "      <td>ES</td>\n",
       "      <td>Male</td>\n",
       "      <td>22</td>\n",
       "      <td>2013-08-14</td>\n",
       "      <td>Old-customer</td>\n",
       "      <td>33</td>\n",
       "      <td>1.0</td>\n",
       "      <td>...</td>\n",
       "      <td>0</td>\n",
       "      <td>0</td>\n",
       "      <td>0</td>\n",
       "      <td>0</td>\n",
       "      <td>0</td>\n",
       "      <td>1.0</td>\n",
       "      <td>1.0</td>\n",
       "      <td>1</td>\n",
       "      <td>4.0</td>\n",
       "      <td>More_than_1</td>\n",
       "    </tr>\n",
       "    <tr>\n",
       "      <th>13393879</th>\n",
       "      <td>2016-05-28</td>\n",
       "      <td>1166750</td>\n",
       "      <td>Not-employee</td>\n",
       "      <td>ES</td>\n",
       "      <td>Male</td>\n",
       "      <td>22</td>\n",
       "      <td>2013-08-14</td>\n",
       "      <td>Old-customer</td>\n",
       "      <td>33</td>\n",
       "      <td>1.0</td>\n",
       "      <td>...</td>\n",
       "      <td>0</td>\n",
       "      <td>0</td>\n",
       "      <td>0</td>\n",
       "      <td>0</td>\n",
       "      <td>0</td>\n",
       "      <td>0.0</td>\n",
       "      <td>0.0</td>\n",
       "      <td>1</td>\n",
       "      <td>2.0</td>\n",
       "      <td>More_than_1</td>\n",
       "    </tr>\n",
       "  </tbody>\n",
       "</table>\n",
       "<p>3894196 rows × 50 columns</p>\n",
       "</div>"
      ],
      "text/plain": [
       "                Date  Customer_code Employee_index Country  Gender  Age  \\\n",
       "21        2015-01-28        1050586   Not-employee      ES  Female   23   \n",
       "40        2015-01-28        1050670   Not-employee      ES  Female   37   \n",
       "41        2015-01-28        1050676   Not-employee      ES  Female   31   \n",
       "44        2015-01-28        1050686   Not-employee      ES  Female   39   \n",
       "45        2015-01-28        1050688   Not-employee      ES  Female   63   \n",
       "...              ...            ...            ...     ...     ...  ...   \n",
       "13393746  2016-05-28        1166712   Not-employee      ES  Female   34   \n",
       "13393757  2016-05-28        1166666   Not-employee      ES    Male   30   \n",
       "13393852  2016-05-28        1166836   Not-employee      ES  Female   27   \n",
       "13393876  2016-05-28        1166753   Not-employee      ES    Male   22   \n",
       "13393879  2016-05-28        1166750   Not-employee      ES    Male   22   \n",
       "\n",
       "         Customer_join_date Customer_index  Customer_seniority  \\\n",
       "21               2012-08-10   Old-customer                  35   \n",
       "40               2012-08-10   Old-customer                  35   \n",
       "41               2012-08-10   Old-customer                  35   \n",
       "44               2012-08-10   Old-customer                  35   \n",
       "45               2012-08-10   Old-customer                  35   \n",
       "...                     ...            ...                 ...   \n",
       "13393746         2013-08-14   Old-customer                  33   \n",
       "13393757         2013-08-14   Old-customer                  33   \n",
       "13393852         2013-08-16   Old-customer                  33   \n",
       "13393876         2013-08-14   Old-customer                  33   \n",
       "13393879         2013-08-14   Old-customer                  33   \n",
       "\n",
       "          Primary_customer  ... Loans Taxes Credit_card Securities  \\\n",
       "21                     1.0  ...     0     0           0          0   \n",
       "40                     1.0  ...     0     0           0          0   \n",
       "41                     1.0  ...     0     0           0          0   \n",
       "44                     1.0  ...     0     0           0          0   \n",
       "45                     1.0  ...     0     0           0          0   \n",
       "...                    ...  ...   ...   ...         ...        ...   \n",
       "13393746               1.0  ...     0     0           0          0   \n",
       "13393757               1.0  ...     0     0           0          0   \n",
       "13393852               1.0  ...     0     1           0          0   \n",
       "13393876               1.0  ...     0     0           0          0   \n",
       "13393879               1.0  ...     0     0           0          0   \n",
       "\n",
       "         Home_account Payroll Pensions_2 Direct_debit  Product_sum  \\\n",
       "21                  0     0.0        0.0            1          2.0   \n",
       "40                  0     0.0        0.0            1          2.0   \n",
       "41                  0     0.0        0.0            0          2.0   \n",
       "44                  0     0.0        0.0            1          3.0   \n",
       "45                  0     0.0        0.0            0          2.0   \n",
       "...               ...     ...        ...          ...          ...   \n",
       "13393746            0     0.0        0.0            1          2.0   \n",
       "13393757            0     1.0        1.0            1          4.0   \n",
       "13393852            0     0.0        0.0            0          2.0   \n",
       "13393876            0     1.0        1.0            1          4.0   \n",
       "13393879            0     0.0        0.0            1          2.0   \n",
       "\n",
       "          Purchase_Group  \n",
       "21           More_than_1  \n",
       "40           More_than_1  \n",
       "41           More_than_1  \n",
       "44           More_than_1  \n",
       "45           More_than_1  \n",
       "...                  ...  \n",
       "13393746     More_than_1  \n",
       "13393757     More_than_1  \n",
       "13393852     More_than_1  \n",
       "13393876     More_than_1  \n",
       "13393879     More_than_1  \n",
       "\n",
       "[3894196 rows x 50 columns]"
      ]
     },
     "execution_count": 21,
     "metadata": {},
     "output_type": "execute_result"
    }
   ],
   "source": [
    "product_data = train_data[train_data['Product_sum'] > 1]\n",
    "product_data"
   ]
  },
  {
   "cell_type": "code",
   "execution_count": 39,
   "id": "57674a18",
   "metadata": {},
   "outputs": [],
   "source": [
    "multi_product_data = product_data.groupby(['Customer_code', 'Gender', 'Age']).filter(lambda x: len(x) > 1)\n",
    "male_data = multi_product_data[multi_product_data['Gender'] == 'Male']['Age']\n",
    "female_data = multi_product_data[multi_product_data['Gender'] == 'Female']['Age']"
   ]
  },
  {
   "cell_type": "code",
   "execution_count": 40,
   "id": "5198fc23",
   "metadata": {},
   "outputs": [],
   "source": [
    "mean_age_male = male_data.mean()\n",
    "mean_age_female = female_data.mean()"
   ]
  },
  {
   "cell_type": "code",
   "execution_count": 44,
   "id": "4a4f8266",
   "metadata": {},
   "outputs": [
    {
     "data": {
      "text/plain": [
       "(nan, nan)"
      ]
     },
     "execution_count": 44,
     "metadata": {},
     "output_type": "execute_result"
    }
   ],
   "source": [
    "t_statistic, p_value1 = stats.ttest_ind(mean_age_male, mean_age_female)\n",
    "t_statistic, p_value1"
   ]
  },
  {
   "cell_type": "code",
   "execution_count": 41,
   "id": "06913095",
   "metadata": {},
   "outputs": [],
   "source": [
    "t_statistic, p_value = stats.ttest_ind(male_data, female_data)"
   ]
  },
  {
   "cell_type": "code",
   "execution_count": 42,
   "id": "5d39a9ab",
   "metadata": {},
   "outputs": [
    {
     "name": "stdout",
     "output_type": "stream",
     "text": [
      "Mean age of male customers who purchase multiple products:  47.6896381767134\n",
      "Mean age of female customers who purchase multiple products:  48.73234931375291\n",
      "t-statistic:  -69.44527456238242\n",
      "p-value:  0.0\n"
     ]
    }
   ],
   "source": [
    "print(\"Mean age of male customers who purchase multiple products: \", mean_age_male)\n",
    "print(\"Mean age of female customers who purchase multiple products: \", mean_age_female)\n",
    "print(\"t-statistic: \", t_statistic)\n",
    "print(\"p-value: \", p_value)"
   ]
  },
  {
   "cell_type": "markdown",
   "id": "0bf1616b",
   "metadata": {},
   "source": [
    "#Business Conclusion:\n",
    "\n",
    "- After testing the two sample using t-test, from the results we conclude that there is statistical signifiance difference between the mean of Male and Female age.\n",
    "\n",
    "- P-value after testing is 0.0, which indicates the probability of observing a difference as greater than or lesser than is very low.\n",
    "\n",
    "- Therefore, we fail to except the null hypotheses H0. Hence we assume that the alternative hypotheses is true, as it suggests that there is significant difference between two variables.\n"
   ]
  },
  {
   "cell_type": "code",
   "execution_count": null,
   "id": "0ad95251",
   "metadata": {},
   "outputs": [],
   "source": []
  },
  {
   "cell_type": "markdown",
   "id": "2f4acb4c",
   "metadata": {},
   "source": [
    "### Recommendations:\n",
    "\n",
    "- After analysing the data, the mean age of customer in every year since they have joined shows that in 1995 there was increase in customers joining the bank, the output specify that there has be fluctuation in customer joing the bank over the year.\n",
    "\n",
    "- The correlation between the columns like  Employee_index and customer age, customer age and gender, Customer_join_date and Customer Age,  Customer Age and Product Sum, Gender and Product Sum has positive correlation, which indicates when one Variable/ Column increases than the other Variable/Column also increases. \n",
    "\n",
    "- Correlation between Customer_code and Age has negative realtion which incidates that there is no linear realtionship between these two variables.\n",
    "\n",
    "- When the Trend is analysed between customers and their joining the bank, the cahrts shows the number of customers joining the bank over the years. In the year 2014, there are maximum customers joined. Based on this we can use it for making the strategies and plan to attract more customers towards bank.\n",
    "\n",
    "- After grouping the age into age_group and analysing it has been observed that, Age Group of 40-60 has purchased more products than others age groups. \n",
    "\n",
    "- The Product Group of \"More_than_1\" has more male customers, whereas 1_Product group has equal purchases among Male and Female Genders. Hence we need focus on those customers who has brought only 1 Products in order to increase the New customers, focus Cross selling of more than 1 products among the existing customers and increase revenue, profits in Credit Union."
   ]
  },
  {
   "cell_type": "code",
   "execution_count": null,
   "id": "760cb121",
   "metadata": {},
   "outputs": [],
   "source": []
  }
 ],
 "metadata": {
  "kernelspec": {
   "display_name": "Python 3 (ipykernel)",
   "language": "python",
   "name": "python3"
  },
  "language_info": {
   "codemirror_mode": {
    "name": "ipython",
    "version": 3
   },
   "file_extension": ".py",
   "mimetype": "text/x-python",
   "name": "python",
   "nbconvert_exporter": "python",
   "pygments_lexer": "ipython3",
   "version": "3.9.13"
  }
 },
 "nbformat": 4,
 "nbformat_minor": 5
}
