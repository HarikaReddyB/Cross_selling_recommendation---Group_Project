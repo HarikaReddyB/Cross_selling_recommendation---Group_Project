{
 "cells": [
  {
   "cell_type": "code",
   "execution_count": 1,
   "id": "41e0868e",
   "metadata": {},
   "outputs": [],
   "source": [
    "#importing the libraries\n",
    "\n",
    "import numpy as np\n",
    "import pandas as pd\n",
    "import matplotlib.pyplot as plt\n",
    "import seaborn as sns\n",
    "import datetime"
   ]
  },
  {
   "cell_type": "code",
   "execution_count": 4,
   "id": "0398247e",
   "metadata": {},
   "outputs": [],
   "source": [
    "#reading the data \n",
    "#TEST.CSV\n",
    "\n",
    "test = pd.read_csv(\"C:/Users/Dell/Downloads/Cross Selling/Test.csv\")"
   ]
  },
  {
   "cell_type": "code",
   "execution_count": 4,
   "id": "3b818b59",
   "metadata": {},
   "outputs": [
    {
     "data": {
      "text/html": [
       "<div>\n",
       "<style scoped>\n",
       "    .dataframe tbody tr th:only-of-type {\n",
       "        vertical-align: middle;\n",
       "    }\n",
       "\n",
       "    .dataframe tbody tr th {\n",
       "        vertical-align: top;\n",
       "    }\n",
       "\n",
       "    .dataframe thead th {\n",
       "        text-align: right;\n",
       "    }\n",
       "</style>\n",
       "<table border=\"1\" class=\"dataframe\">\n",
       "  <thead>\n",
       "    <tr style=\"text-align: right;\">\n",
       "      <th></th>\n",
       "      <th>fecha_dato</th>\n",
       "      <th>ncodpers</th>\n",
       "      <th>ind_empleado</th>\n",
       "      <th>pais_residencia</th>\n",
       "      <th>sexo</th>\n",
       "      <th>age</th>\n",
       "      <th>fecha_alta</th>\n",
       "      <th>ind_nuevo</th>\n",
       "      <th>antiguedad</th>\n",
       "      <th>indrel</th>\n",
       "      <th>...</th>\n",
       "      <th>indext</th>\n",
       "      <th>conyuemp</th>\n",
       "      <th>canal_entrada</th>\n",
       "      <th>indfall</th>\n",
       "      <th>tipodom</th>\n",
       "      <th>cod_prov</th>\n",
       "      <th>nomprov</th>\n",
       "      <th>ind_actividad_cliente</th>\n",
       "      <th>renta</th>\n",
       "      <th>segmento</th>\n",
       "    </tr>\n",
       "  </thead>\n",
       "  <tbody>\n",
       "    <tr>\n",
       "      <th>0</th>\n",
       "      <td>2016-06-28</td>\n",
       "      <td>15889</td>\n",
       "      <td>F</td>\n",
       "      <td>ES</td>\n",
       "      <td>V</td>\n",
       "      <td>56</td>\n",
       "      <td>1995-01-16</td>\n",
       "      <td>0</td>\n",
       "      <td>256</td>\n",
       "      <td>1</td>\n",
       "      <td>...</td>\n",
       "      <td>N</td>\n",
       "      <td>N</td>\n",
       "      <td>KAT</td>\n",
       "      <td>N</td>\n",
       "      <td>1</td>\n",
       "      <td>28.0</td>\n",
       "      <td>MADRID</td>\n",
       "      <td>1</td>\n",
       "      <td>326124.90</td>\n",
       "      <td>01 - TOP</td>\n",
       "    </tr>\n",
       "    <tr>\n",
       "      <th>1</th>\n",
       "      <td>2016-06-28</td>\n",
       "      <td>1170544</td>\n",
       "      <td>N</td>\n",
       "      <td>ES</td>\n",
       "      <td>H</td>\n",
       "      <td>36</td>\n",
       "      <td>2013-08-28</td>\n",
       "      <td>0</td>\n",
       "      <td>34</td>\n",
       "      <td>1</td>\n",
       "      <td>...</td>\n",
       "      <td>N</td>\n",
       "      <td>NaN</td>\n",
       "      <td>KAT</td>\n",
       "      <td>N</td>\n",
       "      <td>1</td>\n",
       "      <td>3.0</td>\n",
       "      <td>ALICANTE</td>\n",
       "      <td>0</td>\n",
       "      <td>NA</td>\n",
       "      <td>02 - PARTICULARES</td>\n",
       "    </tr>\n",
       "    <tr>\n",
       "      <th>2</th>\n",
       "      <td>2016-06-28</td>\n",
       "      <td>1170545</td>\n",
       "      <td>N</td>\n",
       "      <td>ES</td>\n",
       "      <td>V</td>\n",
       "      <td>22</td>\n",
       "      <td>2013-08-28</td>\n",
       "      <td>0</td>\n",
       "      <td>34</td>\n",
       "      <td>1</td>\n",
       "      <td>...</td>\n",
       "      <td>N</td>\n",
       "      <td>NaN</td>\n",
       "      <td>KHE</td>\n",
       "      <td>N</td>\n",
       "      <td>1</td>\n",
       "      <td>15.0</td>\n",
       "      <td>CORUÑA, A</td>\n",
       "      <td>1</td>\n",
       "      <td>NA</td>\n",
       "      <td>03 - UNIVERSITARIO</td>\n",
       "    </tr>\n",
       "    <tr>\n",
       "      <th>3</th>\n",
       "      <td>2016-06-28</td>\n",
       "      <td>1170547</td>\n",
       "      <td>N</td>\n",
       "      <td>ES</td>\n",
       "      <td>H</td>\n",
       "      <td>22</td>\n",
       "      <td>2013-08-28</td>\n",
       "      <td>0</td>\n",
       "      <td>34</td>\n",
       "      <td>1</td>\n",
       "      <td>...</td>\n",
       "      <td>N</td>\n",
       "      <td>NaN</td>\n",
       "      <td>KHE</td>\n",
       "      <td>N</td>\n",
       "      <td>1</td>\n",
       "      <td>8.0</td>\n",
       "      <td>BARCELONA</td>\n",
       "      <td>0</td>\n",
       "      <td>148402.98</td>\n",
       "      <td>03 - UNIVERSITARIO</td>\n",
       "    </tr>\n",
       "    <tr>\n",
       "      <th>4</th>\n",
       "      <td>2016-06-28</td>\n",
       "      <td>1170548</td>\n",
       "      <td>N</td>\n",
       "      <td>ES</td>\n",
       "      <td>H</td>\n",
       "      <td>22</td>\n",
       "      <td>2013-08-28</td>\n",
       "      <td>0</td>\n",
       "      <td>34</td>\n",
       "      <td>1</td>\n",
       "      <td>...</td>\n",
       "      <td>N</td>\n",
       "      <td>NaN</td>\n",
       "      <td>KHE</td>\n",
       "      <td>N</td>\n",
       "      <td>1</td>\n",
       "      <td>7.0</td>\n",
       "      <td>BALEARS, ILLES</td>\n",
       "      <td>0</td>\n",
       "      <td>106885.80</td>\n",
       "      <td>03 - UNIVERSITARIO</td>\n",
       "    </tr>\n",
       "  </tbody>\n",
       "</table>\n",
       "<p>5 rows × 24 columns</p>\n",
       "</div>"
      ],
      "text/plain": [
       "   fecha_dato  ncodpers ind_empleado pais_residencia sexo  age  fecha_alta  \\\n",
       "0  2016-06-28     15889            F              ES    V   56  1995-01-16   \n",
       "1  2016-06-28   1170544            N              ES    H   36  2013-08-28   \n",
       "2  2016-06-28   1170545            N              ES    V   22  2013-08-28   \n",
       "3  2016-06-28   1170547            N              ES    H   22  2013-08-28   \n",
       "4  2016-06-28   1170548            N              ES    H   22  2013-08-28   \n",
       "\n",
       "   ind_nuevo  antiguedad  indrel  ... indext  conyuemp canal_entrada indfall  \\\n",
       "0          0         256       1  ...      N         N           KAT       N   \n",
       "1          0          34       1  ...      N       NaN           KAT       N   \n",
       "2          0          34       1  ...      N       NaN           KHE       N   \n",
       "3          0          34       1  ...      N       NaN           KHE       N   \n",
       "4          0          34       1  ...      N       NaN           KHE       N   \n",
       "\n",
       "  tipodom cod_prov         nomprov ind_actividad_cliente        renta  \\\n",
       "0       1     28.0          MADRID                     1    326124.90   \n",
       "1       1      3.0        ALICANTE                     0           NA   \n",
       "2       1     15.0       CORUÑA, A                     1           NA   \n",
       "3       1      8.0       BARCELONA                     0    148402.98   \n",
       "4       1      7.0  BALEARS, ILLES                     0    106885.80   \n",
       "\n",
       "             segmento  \n",
       "0            01 - TOP  \n",
       "1   02 - PARTICULARES  \n",
       "2  03 - UNIVERSITARIO  \n",
       "3  03 - UNIVERSITARIO  \n",
       "4  03 - UNIVERSITARIO  \n",
       "\n",
       "[5 rows x 24 columns]"
      ]
     },
     "execution_count": 4,
     "metadata": {},
     "output_type": "execute_result"
    }
   ],
   "source": [
    "test.head(5)"
   ]
  },
  {
   "cell_type": "code",
   "execution_count": 5,
   "id": "c5a4ee38",
   "metadata": {},
   "outputs": [
    {
     "data": {
      "text/html": [
       "<div>\n",
       "<style scoped>\n",
       "    .dataframe tbody tr th:only-of-type {\n",
       "        vertical-align: middle;\n",
       "    }\n",
       "\n",
       "    .dataframe tbody tr th {\n",
       "        vertical-align: top;\n",
       "    }\n",
       "\n",
       "    .dataframe thead th {\n",
       "        text-align: right;\n",
       "    }\n",
       "</style>\n",
       "<table border=\"1\" class=\"dataframe\">\n",
       "  <thead>\n",
       "    <tr style=\"text-align: right;\">\n",
       "      <th></th>\n",
       "      <th>ncodpers</th>\n",
       "      <th>age</th>\n",
       "      <th>ind_nuevo</th>\n",
       "      <th>antiguedad</th>\n",
       "      <th>indrel</th>\n",
       "      <th>indrel_1mes</th>\n",
       "      <th>tipodom</th>\n",
       "      <th>cod_prov</th>\n",
       "      <th>ind_actividad_cliente</th>\n",
       "    </tr>\n",
       "  </thead>\n",
       "  <tbody>\n",
       "    <tr>\n",
       "      <th>count</th>\n",
       "      <td>9.296150e+05</td>\n",
       "      <td>929615.000000</td>\n",
       "      <td>929615.000000</td>\n",
       "      <td>929615.000000</td>\n",
       "      <td>929615.000000</td>\n",
       "      <td>929592.000000</td>\n",
       "      <td>929615.0</td>\n",
       "      <td>925619.000000</td>\n",
       "      <td>929615.000000</td>\n",
       "    </tr>\n",
       "    <tr>\n",
       "      <th>mean</th>\n",
       "      <td>8.794566e+05</td>\n",
       "      <td>40.249821</td>\n",
       "      <td>0.027849</td>\n",
       "      <td>77.728413</td>\n",
       "      <td>1.177422</td>\n",
       "      <td>1.000058</td>\n",
       "      <td>1.0</td>\n",
       "      <td>26.546150</td>\n",
       "      <td>0.425272</td>\n",
       "    </tr>\n",
       "    <tr>\n",
       "      <th>std</th>\n",
       "      <td>4.481569e+05</td>\n",
       "      <td>17.185119</td>\n",
       "      <td>0.164541</td>\n",
       "      <td>1797.824518</td>\n",
       "      <td>4.166039</td>\n",
       "      <td>0.010779</td>\n",
       "      <td>0.0</td>\n",
       "      <td>12.836614</td>\n",
       "      <td>0.494384</td>\n",
       "    </tr>\n",
       "    <tr>\n",
       "      <th>min</th>\n",
       "      <td>1.588900e+04</td>\n",
       "      <td>2.000000</td>\n",
       "      <td>0.000000</td>\n",
       "      <td>-999999.000000</td>\n",
       "      <td>1.000000</td>\n",
       "      <td>1.000000</td>\n",
       "      <td>1.0</td>\n",
       "      <td>1.000000</td>\n",
       "      <td>0.000000</td>\n",
       "    </tr>\n",
       "    <tr>\n",
       "      <th>25%</th>\n",
       "      <td>4.833615e+05</td>\n",
       "      <td>25.000000</td>\n",
       "      <td>0.000000</td>\n",
       "      <td>23.000000</td>\n",
       "      <td>1.000000</td>\n",
       "      <td>1.000000</td>\n",
       "      <td>1.0</td>\n",
       "      <td>15.000000</td>\n",
       "      <td>0.000000</td>\n",
       "    </tr>\n",
       "    <tr>\n",
       "      <th>50%</th>\n",
       "      <td>9.664250e+05</td>\n",
       "      <td>39.000000</td>\n",
       "      <td>0.000000</td>\n",
       "      <td>55.000000</td>\n",
       "      <td>1.000000</td>\n",
       "      <td>1.000000</td>\n",
       "      <td>1.0</td>\n",
       "      <td>28.000000</td>\n",
       "      <td>0.000000</td>\n",
       "    </tr>\n",
       "    <tr>\n",
       "      <th>75%</th>\n",
       "      <td>1.264316e+06</td>\n",
       "      <td>51.000000</td>\n",
       "      <td>0.000000</td>\n",
       "      <td>136.000000</td>\n",
       "      <td>1.000000</td>\n",
       "      <td>1.000000</td>\n",
       "      <td>1.0</td>\n",
       "      <td>35.000000</td>\n",
       "      <td>1.000000</td>\n",
       "    </tr>\n",
       "    <tr>\n",
       "      <th>max</th>\n",
       "      <td>1.553689e+06</td>\n",
       "      <td>164.000000</td>\n",
       "      <td>1.000000</td>\n",
       "      <td>257.000000</td>\n",
       "      <td>99.000000</td>\n",
       "      <td>3.000000</td>\n",
       "      <td>1.0</td>\n",
       "      <td>52.000000</td>\n",
       "      <td>1.000000</td>\n",
       "    </tr>\n",
       "  </tbody>\n",
       "</table>\n",
       "</div>"
      ],
      "text/plain": [
       "           ncodpers            age      ind_nuevo     antiguedad  \\\n",
       "count  9.296150e+05  929615.000000  929615.000000  929615.000000   \n",
       "mean   8.794566e+05      40.249821       0.027849      77.728413   \n",
       "std    4.481569e+05      17.185119       0.164541    1797.824518   \n",
       "min    1.588900e+04       2.000000       0.000000 -999999.000000   \n",
       "25%    4.833615e+05      25.000000       0.000000      23.000000   \n",
       "50%    9.664250e+05      39.000000       0.000000      55.000000   \n",
       "75%    1.264316e+06      51.000000       0.000000     136.000000   \n",
       "max    1.553689e+06     164.000000       1.000000     257.000000   \n",
       "\n",
       "              indrel    indrel_1mes   tipodom       cod_prov  \\\n",
       "count  929615.000000  929592.000000  929615.0  925619.000000   \n",
       "mean        1.177422       1.000058       1.0      26.546150   \n",
       "std         4.166039       0.010779       0.0      12.836614   \n",
       "min         1.000000       1.000000       1.0       1.000000   \n",
       "25%         1.000000       1.000000       1.0      15.000000   \n",
       "50%         1.000000       1.000000       1.0      28.000000   \n",
       "75%         1.000000       1.000000       1.0      35.000000   \n",
       "max        99.000000       3.000000       1.0      52.000000   \n",
       "\n",
       "       ind_actividad_cliente  \n",
       "count          929615.000000  \n",
       "mean                0.425272  \n",
       "std                 0.494384  \n",
       "min                 0.000000  \n",
       "25%                 0.000000  \n",
       "50%                 0.000000  \n",
       "75%                 1.000000  \n",
       "max                 1.000000  "
      ]
     },
     "execution_count": 5,
     "metadata": {},
     "output_type": "execute_result"
    }
   ],
   "source": [
    "test.describe()"
   ]
  },
  {
   "cell_type": "code",
   "execution_count": 6,
   "id": "7e889225",
   "metadata": {},
   "outputs": [
    {
     "data": {
      "text/plain": [
       "(929615, 24)"
      ]
     },
     "execution_count": 6,
     "metadata": {},
     "output_type": "execute_result"
    }
   ],
   "source": [
    "test.shape"
   ]
  },
  {
   "cell_type": "code",
   "execution_count": 10,
   "id": "f55aa045",
   "metadata": {},
   "outputs": [
    {
     "name": "stdout",
     "output_type": "stream",
     "text": [
      "<class 'pandas.core.frame.DataFrame'>\n",
      "RangeIndex: 929615 entries, 0 to 929614\n",
      "Data columns (total 24 columns):\n",
      " #   Column                 Non-Null Count   Dtype  \n",
      "---  ------                 --------------   -----  \n",
      " 0   fecha_dato             929615 non-null  object \n",
      " 1   ncodpers               929615 non-null  int64  \n",
      " 2   ind_empleado           929615 non-null  object \n",
      " 3   pais_residencia        929615 non-null  object \n",
      " 4   sexo                   929610 non-null  object \n",
      " 5   age                    929615 non-null  int64  \n",
      " 6   fecha_alta             929615 non-null  object \n",
      " 7   ind_nuevo              929615 non-null  int64  \n",
      " 8   antiguedad             929615 non-null  int64  \n",
      " 9   indrel                 929615 non-null  int64  \n",
      " 10  ult_fec_cli_1t         1683 non-null    object \n",
      " 11  indrel_1mes            929592 non-null  float64\n",
      " 12  tiprel_1mes            929592 non-null  object \n",
      " 13  indresi                929615 non-null  object \n",
      " 14  indext                 929615 non-null  object \n",
      " 15  conyuemp               104 non-null     object \n",
      " 16  canal_entrada          927534 non-null  object \n",
      " 17  indfall                929615 non-null  object \n",
      " 18  tipodom                929615 non-null  int64  \n",
      " 19  cod_prov               925619 non-null  float64\n",
      " 20  nomprov                925619 non-null  object \n",
      " 21  ind_actividad_cliente  929615 non-null  int64  \n",
      " 22  renta                  929615 non-null  object \n",
      " 23  segmento               927367 non-null  object \n",
      "dtypes: float64(2), int64(7), object(15)\n",
      "memory usage: 170.2+ MB\n"
     ]
    }
   ],
   "source": [
    "test.info()"
   ]
  },
  {
   "cell_type": "markdown",
   "id": "84e9efcc",
   "metadata": {},
   "source": [
    "#### Train.csv"
   ]
  },
  {
   "cell_type": "code",
   "execution_count": 2,
   "id": "af4bc1fe",
   "metadata": {},
   "outputs": [
    {
     "name": "stderr",
     "output_type": "stream",
     "text": [
      "C:\\Users\\Dell\\anaconda3\\lib\\site-packages\\IPython\\core\\interactiveshell.py:3457: DtypeWarning: Columns (5,8,11,15) have mixed types.Specify dtype option on import or set low_memory=False.\n",
      "  exec(code_obj, self.user_global_ns, self.user_ns)\n"
     ]
    }
   ],
   "source": [
    "#loading and understanding the train.csv data:\n",
    "\n",
    "train_data = pd.read_csv( \"C:/Users/Dell/Downloads/Cross Selling/Train.csv\" )"
   ]
  },
  {
   "cell_type": "code",
   "execution_count": 3,
   "id": "38cfe7d0",
   "metadata": {},
   "outputs": [
    {
     "data": {
      "text/html": [
       "<div>\n",
       "<style scoped>\n",
       "    .dataframe tbody tr th:only-of-type {\n",
       "        vertical-align: middle;\n",
       "    }\n",
       "\n",
       "    .dataframe tbody tr th {\n",
       "        vertical-align: top;\n",
       "    }\n",
       "\n",
       "    .dataframe thead th {\n",
       "        text-align: right;\n",
       "    }\n",
       "</style>\n",
       "<table border=\"1\" class=\"dataframe\">\n",
       "  <thead>\n",
       "    <tr style=\"text-align: right;\">\n",
       "      <th></th>\n",
       "      <th>fecha_dato</th>\n",
       "      <th>ncodpers</th>\n",
       "      <th>ind_empleado</th>\n",
       "      <th>pais_residencia</th>\n",
       "      <th>sexo</th>\n",
       "      <th>age</th>\n",
       "      <th>fecha_alta</th>\n",
       "      <th>ind_nuevo</th>\n",
       "      <th>antiguedad</th>\n",
       "      <th>indrel</th>\n",
       "      <th>...</th>\n",
       "      <th>ind_hip_fin_ult1</th>\n",
       "      <th>ind_plan_fin_ult1</th>\n",
       "      <th>ind_pres_fin_ult1</th>\n",
       "      <th>ind_reca_fin_ult1</th>\n",
       "      <th>ind_tjcr_fin_ult1</th>\n",
       "      <th>ind_valo_fin_ult1</th>\n",
       "      <th>ind_viv_fin_ult1</th>\n",
       "      <th>ind_nomina_ult1</th>\n",
       "      <th>ind_nom_pens_ult1</th>\n",
       "      <th>ind_recibo_ult1</th>\n",
       "    </tr>\n",
       "  </thead>\n",
       "  <tbody>\n",
       "    <tr>\n",
       "      <th>0</th>\n",
       "      <td>2015-01-28</td>\n",
       "      <td>1375586</td>\n",
       "      <td>N</td>\n",
       "      <td>ES</td>\n",
       "      <td>H</td>\n",
       "      <td>35</td>\n",
       "      <td>2015-01-12</td>\n",
       "      <td>0.0</td>\n",
       "      <td>6</td>\n",
       "      <td>1.0</td>\n",
       "      <td>...</td>\n",
       "      <td>0</td>\n",
       "      <td>0</td>\n",
       "      <td>0</td>\n",
       "      <td>0</td>\n",
       "      <td>0</td>\n",
       "      <td>0</td>\n",
       "      <td>0</td>\n",
       "      <td>0.0</td>\n",
       "      <td>0.0</td>\n",
       "      <td>0</td>\n",
       "    </tr>\n",
       "    <tr>\n",
       "      <th>1</th>\n",
       "      <td>2015-01-28</td>\n",
       "      <td>1050611</td>\n",
       "      <td>N</td>\n",
       "      <td>ES</td>\n",
       "      <td>V</td>\n",
       "      <td>23</td>\n",
       "      <td>2012-08-10</td>\n",
       "      <td>0.0</td>\n",
       "      <td>35</td>\n",
       "      <td>1.0</td>\n",
       "      <td>...</td>\n",
       "      <td>0</td>\n",
       "      <td>0</td>\n",
       "      <td>0</td>\n",
       "      <td>0</td>\n",
       "      <td>0</td>\n",
       "      <td>0</td>\n",
       "      <td>0</td>\n",
       "      <td>0.0</td>\n",
       "      <td>0.0</td>\n",
       "      <td>0</td>\n",
       "    </tr>\n",
       "    <tr>\n",
       "      <th>2</th>\n",
       "      <td>2015-01-28</td>\n",
       "      <td>1050612</td>\n",
       "      <td>N</td>\n",
       "      <td>ES</td>\n",
       "      <td>V</td>\n",
       "      <td>23</td>\n",
       "      <td>2012-08-10</td>\n",
       "      <td>0.0</td>\n",
       "      <td>35</td>\n",
       "      <td>1.0</td>\n",
       "      <td>...</td>\n",
       "      <td>0</td>\n",
       "      <td>0</td>\n",
       "      <td>0</td>\n",
       "      <td>0</td>\n",
       "      <td>0</td>\n",
       "      <td>0</td>\n",
       "      <td>0</td>\n",
       "      <td>0.0</td>\n",
       "      <td>0.0</td>\n",
       "      <td>0</td>\n",
       "    </tr>\n",
       "    <tr>\n",
       "      <th>3</th>\n",
       "      <td>2015-01-28</td>\n",
       "      <td>1050613</td>\n",
       "      <td>N</td>\n",
       "      <td>ES</td>\n",
       "      <td>H</td>\n",
       "      <td>22</td>\n",
       "      <td>2012-08-10</td>\n",
       "      <td>0.0</td>\n",
       "      <td>35</td>\n",
       "      <td>1.0</td>\n",
       "      <td>...</td>\n",
       "      <td>0</td>\n",
       "      <td>0</td>\n",
       "      <td>0</td>\n",
       "      <td>0</td>\n",
       "      <td>0</td>\n",
       "      <td>0</td>\n",
       "      <td>0</td>\n",
       "      <td>0.0</td>\n",
       "      <td>0.0</td>\n",
       "      <td>0</td>\n",
       "    </tr>\n",
       "    <tr>\n",
       "      <th>4</th>\n",
       "      <td>2015-01-28</td>\n",
       "      <td>1050614</td>\n",
       "      <td>N</td>\n",
       "      <td>ES</td>\n",
       "      <td>V</td>\n",
       "      <td>23</td>\n",
       "      <td>2012-08-10</td>\n",
       "      <td>0.0</td>\n",
       "      <td>35</td>\n",
       "      <td>1.0</td>\n",
       "      <td>...</td>\n",
       "      <td>0</td>\n",
       "      <td>0</td>\n",
       "      <td>0</td>\n",
       "      <td>0</td>\n",
       "      <td>0</td>\n",
       "      <td>0</td>\n",
       "      <td>0</td>\n",
       "      <td>0.0</td>\n",
       "      <td>0.0</td>\n",
       "      <td>0</td>\n",
       "    </tr>\n",
       "  </tbody>\n",
       "</table>\n",
       "<p>5 rows × 48 columns</p>\n",
       "</div>"
      ],
      "text/plain": [
       "   fecha_dato  ncodpers ind_empleado pais_residencia sexo  age  fecha_alta  \\\n",
       "0  2015-01-28   1375586            N              ES    H   35  2015-01-12   \n",
       "1  2015-01-28   1050611            N              ES    V   23  2012-08-10   \n",
       "2  2015-01-28   1050612            N              ES    V   23  2012-08-10   \n",
       "3  2015-01-28   1050613            N              ES    H   22  2012-08-10   \n",
       "4  2015-01-28   1050614            N              ES    V   23  2012-08-10   \n",
       "\n",
       "   ind_nuevo antiguedad  indrel  ... ind_hip_fin_ult1 ind_plan_fin_ult1  \\\n",
       "0        0.0          6     1.0  ...                0                 0   \n",
       "1        0.0         35     1.0  ...                0                 0   \n",
       "2        0.0         35     1.0  ...                0                 0   \n",
       "3        0.0         35     1.0  ...                0                 0   \n",
       "4        0.0         35     1.0  ...                0                 0   \n",
       "\n",
       "  ind_pres_fin_ult1 ind_reca_fin_ult1 ind_tjcr_fin_ult1 ind_valo_fin_ult1  \\\n",
       "0                 0                 0                 0                 0   \n",
       "1                 0                 0                 0                 0   \n",
       "2                 0                 0                 0                 0   \n",
       "3                 0                 0                 0                 0   \n",
       "4                 0                 0                 0                 0   \n",
       "\n",
       "  ind_viv_fin_ult1 ind_nomina_ult1  ind_nom_pens_ult1  ind_recibo_ult1  \n",
       "0                0             0.0                0.0                0  \n",
       "1                0             0.0                0.0                0  \n",
       "2                0             0.0                0.0                0  \n",
       "3                0             0.0                0.0                0  \n",
       "4                0             0.0                0.0                0  \n",
       "\n",
       "[5 rows x 48 columns]"
      ]
     },
     "execution_count": 3,
     "metadata": {},
     "output_type": "execute_result"
    }
   ],
   "source": [
    "train_data.head(5)"
   ]
  },
  {
   "cell_type": "code",
   "execution_count": 4,
   "id": "d91480a4",
   "metadata": {},
   "outputs": [
    {
     "name": "stdout",
     "output_type": "stream",
     "text": [
      "<class 'pandas.core.frame.DataFrame'>\n",
      "RangeIndex: 13647309 entries, 0 to 13647308\n",
      "Data columns (total 48 columns):\n",
      " #   Column                 Dtype  \n",
      "---  ------                 -----  \n",
      " 0   fecha_dato             object \n",
      " 1   ncodpers               int64  \n",
      " 2   ind_empleado           object \n",
      " 3   pais_residencia        object \n",
      " 4   sexo                   object \n",
      " 5   age                    object \n",
      " 6   fecha_alta             object \n",
      " 7   ind_nuevo              float64\n",
      " 8   antiguedad             object \n",
      " 9   indrel                 float64\n",
      " 10  ult_fec_cli_1t         object \n",
      " 11  indrel_1mes            object \n",
      " 12  tiprel_1mes            object \n",
      " 13  indresi                object \n",
      " 14  indext                 object \n",
      " 15  conyuemp               object \n",
      " 16  canal_entrada          object \n",
      " 17  indfall                object \n",
      " 18  tipodom                float64\n",
      " 19  cod_prov               float64\n",
      " 20  nomprov                object \n",
      " 21  ind_actividad_cliente  float64\n",
      " 22  renta                  float64\n",
      " 23  segmento               object \n",
      " 24  ind_ahor_fin_ult1      int64  \n",
      " 25  ind_aval_fin_ult1      int64  \n",
      " 26  ind_cco_fin_ult1       int64  \n",
      " 27  ind_cder_fin_ult1      int64  \n",
      " 28  ind_cno_fin_ult1       int64  \n",
      " 29  ind_ctju_fin_ult1      int64  \n",
      " 30  ind_ctma_fin_ult1      int64  \n",
      " 31  ind_ctop_fin_ult1      int64  \n",
      " 32  ind_ctpp_fin_ult1      int64  \n",
      " 33  ind_deco_fin_ult1      int64  \n",
      " 34  ind_deme_fin_ult1      int64  \n",
      " 35  ind_dela_fin_ult1      int64  \n",
      " 36  ind_ecue_fin_ult1      int64  \n",
      " 37  ind_fond_fin_ult1      int64  \n",
      " 38  ind_hip_fin_ult1       int64  \n",
      " 39  ind_plan_fin_ult1      int64  \n",
      " 40  ind_pres_fin_ult1      int64  \n",
      " 41  ind_reca_fin_ult1      int64  \n",
      " 42  ind_tjcr_fin_ult1      int64  \n",
      " 43  ind_valo_fin_ult1      int64  \n",
      " 44  ind_viv_fin_ult1       int64  \n",
      " 45  ind_nomina_ult1        float64\n",
      " 46  ind_nom_pens_ult1      float64\n",
      " 47  ind_recibo_ult1        int64  \n",
      "dtypes: float64(8), int64(23), object(17)\n",
      "memory usage: 4.9+ GB\n"
     ]
    }
   ],
   "source": [
    "train_data.info()"
   ]
  },
  {
   "cell_type": "code",
   "execution_count": 5,
   "id": "b50a895d",
   "metadata": {},
   "outputs": [
    {
     "data": {
      "text/plain": [
       "(13647309, 48)"
      ]
     },
     "execution_count": 5,
     "metadata": {},
     "output_type": "execute_result"
    }
   ],
   "source": [
    "train_data.shape"
   ]
  },
  {
   "cell_type": "code",
   "execution_count": 3,
   "id": "cf2cef5b",
   "metadata": {},
   "outputs": [],
   "source": [
    "#translating the columns from spanish to english.\n",
    "\n",
    "#renaming the columns of train.csv data\n",
    "\n",
    "train_data.rename(columns={\n",
    "    'fecha_dato': 'Date',\n",
    "    'ncodpers': 'Customer_code',\n",
    "    'ind_empleado': 'Employee_index',\n",
    "    'pais_residencia': 'Country',\n",
    "    'sexo': 'Gender',\n",
    "    'age': 'Age',\n",
    "    'fecha_alta': 'Customer_join_date',\n",
    "    'ind_nuevo': 'Customer_index',\n",
    "    'antiguedad': 'Customer_seniority',\n",
    "    'indrel': 'primary_customer',\n",
    "    'ult_fec_cli_1t': 'Customer_leave_date',\n",
    "    'indrel_1mes': 'Customer_type',\n",
    "    'tiprel_1mes': 'Customer_relation',\n",
    "    'indresi': 'Residence_index',\n",
    "    'indext': 'Foreigner_index',\n",
    "    'conyuemp': 'Spouse_index',\n",
    "    'canal_entrada': 'Channel',\n",
    "    'indfall': 'Deceased_index',\n",
    "    'tipodom': 'Primary_Address',\n",
    "    'cod_prov': 'Customer_address',\n",
    "    'nomprov': 'province_name',\n",
    "    'ind_actividad_cliente': 'Activity_index',\n",
    "    'renta': 'Gross_income',\n",
    "    'segmento': 'Segmentation',\n",
    "    'ind_ahor_fin_ult1': 'Saving_account',\n",
    "    'ind_aval_fin_ult1': 'Guarantees',\n",
    "    'ind_cco_fin_ult1': 'Current_accounts',\n",
    "    'ind_cder_fin_ult1': 'Derivative_account',\n",
    "    'ind_cno_fin_ult1': 'Payroll_account',\n",
    "    'ind_ctju_fin_ult1': 'Junior_account',\n",
    "    'ind_ctma_fin_ult1': 'More_private_account',\n",
    "    'ind_ctop_fin_ult1': 'Private_account',\n",
    "    'ind_ctpp_fin_ult1': 'Private_plus_account',\n",
    "    'ind_deco_fin_ult1': 'Short_term_deposits',\n",
    "    'ind_deme_fin_ult1': 'Medium_term_deposits',\n",
    "    'ind_dela_fin_ult1': 'Long_term_deposits',\n",
    "    'ind_ecue_fin_ult1': 'E_Account',\n",
    "    'ind_fond_fin_ult1': 'Funds',\n",
    "    'ind_hip_fin_ult1': 'Mortgage',\n",
    "    'ind_plan_fin_ult1': 'Pensions',\n",
    "    'ind_pres_fin_ult1': 'Loans',\n",
    "    'ind_reca_fin_ult1': 'Taxes',\n",
    "    'ind_tjcr_fin_ult1': 'Credit_card',\n",
    "    'ind_valo_fin_ult1': 'Securities',\n",
    "    'ind_viv_fin_ult1': 'Home_account',\n",
    "    'ind_nomina_ult1': 'Payroll',\n",
    "    'ind_nom_pens_ult1': 'Pensions_2',\n",
    "    'ind_recibo_ult1': 'Direct_debit'\n",
    "}, inplace=True)\n"
   ]
  },
  {
   "cell_type": "code",
   "execution_count": 4,
   "id": "b5e2db1f",
   "metadata": {},
   "outputs": [
    {
     "data": {
      "text/html": [
       "<div>\n",
       "<style scoped>\n",
       "    .dataframe tbody tr th:only-of-type {\n",
       "        vertical-align: middle;\n",
       "    }\n",
       "\n",
       "    .dataframe tbody tr th {\n",
       "        vertical-align: top;\n",
       "    }\n",
       "\n",
       "    .dataframe thead th {\n",
       "        text-align: right;\n",
       "    }\n",
       "</style>\n",
       "<table border=\"1\" class=\"dataframe\">\n",
       "  <thead>\n",
       "    <tr style=\"text-align: right;\">\n",
       "      <th></th>\n",
       "      <th>Date</th>\n",
       "      <th>Customer_code</th>\n",
       "      <th>Employee_index</th>\n",
       "      <th>Country</th>\n",
       "      <th>Gender</th>\n",
       "      <th>Age</th>\n",
       "      <th>Customer_join_date</th>\n",
       "      <th>Customer_index</th>\n",
       "      <th>Customer_seniority</th>\n",
       "      <th>primary_customer</th>\n",
       "      <th>...</th>\n",
       "      <th>Mortgage</th>\n",
       "      <th>Pensions</th>\n",
       "      <th>Loans</th>\n",
       "      <th>Taxes</th>\n",
       "      <th>Credit_card</th>\n",
       "      <th>Securities</th>\n",
       "      <th>Home_account</th>\n",
       "      <th>Payroll</th>\n",
       "      <th>Pensions_2</th>\n",
       "      <th>Direct_debit</th>\n",
       "    </tr>\n",
       "  </thead>\n",
       "  <tbody>\n",
       "    <tr>\n",
       "      <th>0</th>\n",
       "      <td>2015-01-28</td>\n",
       "      <td>1375586</td>\n",
       "      <td>N</td>\n",
       "      <td>ES</td>\n",
       "      <td>H</td>\n",
       "      <td>35</td>\n",
       "      <td>2015-01-12</td>\n",
       "      <td>0.0</td>\n",
       "      <td>6</td>\n",
       "      <td>1.0</td>\n",
       "      <td>...</td>\n",
       "      <td>0</td>\n",
       "      <td>0</td>\n",
       "      <td>0</td>\n",
       "      <td>0</td>\n",
       "      <td>0</td>\n",
       "      <td>0</td>\n",
       "      <td>0</td>\n",
       "      <td>0.0</td>\n",
       "      <td>0.0</td>\n",
       "      <td>0</td>\n",
       "    </tr>\n",
       "    <tr>\n",
       "      <th>1</th>\n",
       "      <td>2015-01-28</td>\n",
       "      <td>1050611</td>\n",
       "      <td>N</td>\n",
       "      <td>ES</td>\n",
       "      <td>V</td>\n",
       "      <td>23</td>\n",
       "      <td>2012-08-10</td>\n",
       "      <td>0.0</td>\n",
       "      <td>35</td>\n",
       "      <td>1.0</td>\n",
       "      <td>...</td>\n",
       "      <td>0</td>\n",
       "      <td>0</td>\n",
       "      <td>0</td>\n",
       "      <td>0</td>\n",
       "      <td>0</td>\n",
       "      <td>0</td>\n",
       "      <td>0</td>\n",
       "      <td>0.0</td>\n",
       "      <td>0.0</td>\n",
       "      <td>0</td>\n",
       "    </tr>\n",
       "    <tr>\n",
       "      <th>2</th>\n",
       "      <td>2015-01-28</td>\n",
       "      <td>1050612</td>\n",
       "      <td>N</td>\n",
       "      <td>ES</td>\n",
       "      <td>V</td>\n",
       "      <td>23</td>\n",
       "      <td>2012-08-10</td>\n",
       "      <td>0.0</td>\n",
       "      <td>35</td>\n",
       "      <td>1.0</td>\n",
       "      <td>...</td>\n",
       "      <td>0</td>\n",
       "      <td>0</td>\n",
       "      <td>0</td>\n",
       "      <td>0</td>\n",
       "      <td>0</td>\n",
       "      <td>0</td>\n",
       "      <td>0</td>\n",
       "      <td>0.0</td>\n",
       "      <td>0.0</td>\n",
       "      <td>0</td>\n",
       "    </tr>\n",
       "    <tr>\n",
       "      <th>3</th>\n",
       "      <td>2015-01-28</td>\n",
       "      <td>1050613</td>\n",
       "      <td>N</td>\n",
       "      <td>ES</td>\n",
       "      <td>H</td>\n",
       "      <td>22</td>\n",
       "      <td>2012-08-10</td>\n",
       "      <td>0.0</td>\n",
       "      <td>35</td>\n",
       "      <td>1.0</td>\n",
       "      <td>...</td>\n",
       "      <td>0</td>\n",
       "      <td>0</td>\n",
       "      <td>0</td>\n",
       "      <td>0</td>\n",
       "      <td>0</td>\n",
       "      <td>0</td>\n",
       "      <td>0</td>\n",
       "      <td>0.0</td>\n",
       "      <td>0.0</td>\n",
       "      <td>0</td>\n",
       "    </tr>\n",
       "    <tr>\n",
       "      <th>4</th>\n",
       "      <td>2015-01-28</td>\n",
       "      <td>1050614</td>\n",
       "      <td>N</td>\n",
       "      <td>ES</td>\n",
       "      <td>V</td>\n",
       "      <td>23</td>\n",
       "      <td>2012-08-10</td>\n",
       "      <td>0.0</td>\n",
       "      <td>35</td>\n",
       "      <td>1.0</td>\n",
       "      <td>...</td>\n",
       "      <td>0</td>\n",
       "      <td>0</td>\n",
       "      <td>0</td>\n",
       "      <td>0</td>\n",
       "      <td>0</td>\n",
       "      <td>0</td>\n",
       "      <td>0</td>\n",
       "      <td>0.0</td>\n",
       "      <td>0.0</td>\n",
       "      <td>0</td>\n",
       "    </tr>\n",
       "  </tbody>\n",
       "</table>\n",
       "<p>5 rows × 48 columns</p>\n",
       "</div>"
      ],
      "text/plain": [
       "         Date  Customer_code Employee_index Country Gender  Age  \\\n",
       "0  2015-01-28        1375586              N      ES      H   35   \n",
       "1  2015-01-28        1050611              N      ES      V   23   \n",
       "2  2015-01-28        1050612              N      ES      V   23   \n",
       "3  2015-01-28        1050613              N      ES      H   22   \n",
       "4  2015-01-28        1050614              N      ES      V   23   \n",
       "\n",
       "  Customer_join_date  Customer_index Customer_seniority  primary_customer  \\\n",
       "0         2015-01-12             0.0                  6               1.0   \n",
       "1         2012-08-10             0.0                 35               1.0   \n",
       "2         2012-08-10             0.0                 35               1.0   \n",
       "3         2012-08-10             0.0                 35               1.0   \n",
       "4         2012-08-10             0.0                 35               1.0   \n",
       "\n",
       "   ... Mortgage Pensions Loans Taxes Credit_card Securities Home_account  \\\n",
       "0  ...        0        0     0     0           0          0            0   \n",
       "1  ...        0        0     0     0           0          0            0   \n",
       "2  ...        0        0     0     0           0          0            0   \n",
       "3  ...        0        0     0     0           0          0            0   \n",
       "4  ...        0        0     0     0           0          0            0   \n",
       "\n",
       "  Payroll  Pensions_2  Direct_debit  \n",
       "0     0.0         0.0             0  \n",
       "1     0.0         0.0             0  \n",
       "2     0.0         0.0             0  \n",
       "3     0.0         0.0             0  \n",
       "4     0.0         0.0             0  \n",
       "\n",
       "[5 rows x 48 columns]"
      ]
     },
     "execution_count": 4,
     "metadata": {},
     "output_type": "execute_result"
    }
   ],
   "source": [
    "train_data.head(5)"
   ]
  },
  {
   "cell_type": "code",
   "execution_count": 5,
   "id": "94053d69",
   "metadata": {},
   "outputs": [
    {
     "name": "stdout",
     "output_type": "stream",
     "text": [
      "<class 'pandas.core.frame.DataFrame'>\n",
      "RangeIndex: 13647309 entries, 0 to 13647308\n",
      "Data columns (total 48 columns):\n",
      " #   Column                Dtype  \n",
      "---  ------                -----  \n",
      " 0   Date                  object \n",
      " 1   Customer_code         int64  \n",
      " 2   Employee_index        object \n",
      " 3   Country               object \n",
      " 4   Gender                object \n",
      " 5   Age                   object \n",
      " 6   Customer_join_date    object \n",
      " 7   Customer_index        float64\n",
      " 8   Customer_seniority    object \n",
      " 9   primary_customer      float64\n",
      " 10  Customer_leave_date   object \n",
      " 11  Customer_type         object \n",
      " 12  Customer_relation     object \n",
      " 13  Residence_index       object \n",
      " 14  Foreigner_index       object \n",
      " 15  Spouse_index          object \n",
      " 16  Channel               object \n",
      " 17  Deceased_index        object \n",
      " 18  Primary_Address       float64\n",
      " 19  Customer_address      float64\n",
      " 20  province_name         object \n",
      " 21  Activity_index        float64\n",
      " 22  Gross_income          float64\n",
      " 23  Segmentation          object \n",
      " 24  Saving_account        int64  \n",
      " 25  Guarantees            int64  \n",
      " 26  Current_accounts      int64  \n",
      " 27  Derivative_account    int64  \n",
      " 28  Payroll_account       int64  \n",
      " 29  Junior_account        int64  \n",
      " 30  More_private_account  int64  \n",
      " 31  Private_account       int64  \n",
      " 32  Private_plus_account  int64  \n",
      " 33  Short_term_deposits   int64  \n",
      " 34  Medium_term_deposits  int64  \n",
      " 35  Long_term_deposits    int64  \n",
      " 36  E_Account             int64  \n",
      " 37  Funds                 int64  \n",
      " 38  Mortgage              int64  \n",
      " 39  Pensions              int64  \n",
      " 40  Loans                 int64  \n",
      " 41  Taxes                 int64  \n",
      " 42  Credit_card           int64  \n",
      " 43  Securities            int64  \n",
      " 44  Home_account          int64  \n",
      " 45  Payroll               float64\n",
      " 46  Pensions_2            float64\n",
      " 47  Direct_debit          int64  \n",
      "dtypes: float64(8), int64(23), object(17)\n",
      "memory usage: 4.9+ GB\n"
     ]
    }
   ],
   "source": [
    "train_data.info()"
   ]
  },
  {
   "cell_type": "code",
   "execution_count": null,
   "id": "33889d4f",
   "metadata": {},
   "outputs": [],
   "source": []
  },
  {
   "cell_type": "code",
   "execution_count": 9,
   "id": "5372dea1",
   "metadata": {},
   "outputs": [
    {
     "name": "stdout",
     "output_type": "stream",
     "text": [
      "0\n"
     ]
    }
   ],
   "source": [
    "print(train_data.duplicated().sum())"
   ]
  },
  {
   "cell_type": "code",
   "execution_count": 6,
   "id": "44efff45",
   "metadata": {},
   "outputs": [],
   "source": [
    "#changing the datatypes\n",
    "\n",
    "#since the date is given in object, converting them into proper dates datatype\n",
    "\n",
    "train_data['Date'] = pd.to_datetime(train_data['Date'])\n",
    "train_data['Customer_join_date'] = pd.to_datetime(train_data['Customer_join_date'])\n",
    "train_data['Customer_leave_date']  = pd.to_datetime(train_data['Customer_leave_date'])"
   ]
  },
  {
   "cell_type": "code",
   "execution_count": 7,
   "id": "cd156be3",
   "metadata": {},
   "outputs": [],
   "source": [
    "#changing the datatypes into category\n",
    "\n",
    "train_data['Employee_index'] = pd.Categorical(train_data['Employee_index'])\n",
    "train_data['Country'] = pd.Categorical(train_data['Country'])\n",
    "train_data['Gender'] = pd.Categorical(train_data['Gender'])\n",
    "train_data['Customer_relation'] = pd.Categorical(train_data['Customer_relation'])\n",
    "train_data['Residence_index'] = pd.Categorical(train_data['Residence_index'])\n",
    "train_data['Foreigner_index'] = pd.Categorical(train_data['Foreigner_index'])"
   ]
  },
  {
   "cell_type": "code",
   "execution_count": 8,
   "id": "9c476980",
   "metadata": {},
   "outputs": [],
   "source": [
    "#age datatype\n",
    "\n",
    "train_data['Age'] = pd.to_numeric(train_data['Age'], errors='coerce').astype('Int64')"
   ]
  },
  {
   "cell_type": "code",
   "execution_count": null,
   "id": "3d9a7cb4",
   "metadata": {},
   "outputs": [],
   "source": []
  },
  {
   "cell_type": "code",
   "execution_count": 9,
   "id": "166640a4",
   "metadata": {},
   "outputs": [
    {
     "name": "stdout",
     "output_type": "stream",
     "text": [
      "<class 'pandas.core.frame.DataFrame'>\n",
      "RangeIndex: 13647309 entries, 0 to 13647308\n",
      "Data columns (total 48 columns):\n",
      " #   Column                Dtype         \n",
      "---  ------                -----         \n",
      " 0   Date                  datetime64[ns]\n",
      " 1   Customer_code         int64         \n",
      " 2   Employee_index        category      \n",
      " 3   Country               category      \n",
      " 4   Gender                category      \n",
      " 5   Age                   Int64         \n",
      " 6   Customer_join_date    datetime64[ns]\n",
      " 7   Customer_index        float64       \n",
      " 8   Customer_seniority    object        \n",
      " 9   primary_customer      float64       \n",
      " 10  Customer_leave_date   datetime64[ns]\n",
      " 11  Customer_type         object        \n",
      " 12  Customer_relation     category      \n",
      " 13  Residence_index       category      \n",
      " 14  Foreigner_index       category      \n",
      " 15  Spouse_index          object        \n",
      " 16  Channel               object        \n",
      " 17  Deceased_index        object        \n",
      " 18  Primary_Address       float64       \n",
      " 19  Customer_address      float64       \n",
      " 20  province_name         object        \n",
      " 21  Activity_index        float64       \n",
      " 22  Gross_income          float64       \n",
      " 23  Segmentation          object        \n",
      " 24  Saving_account        int64         \n",
      " 25  Guarantees            int64         \n",
      " 26  Current_accounts      int64         \n",
      " 27  Derivative_account    int64         \n",
      " 28  Payroll_account       int64         \n",
      " 29  Junior_account        int64         \n",
      " 30  More_private_account  int64         \n",
      " 31  Private_account       int64         \n",
      " 32  Private_plus_account  int64         \n",
      " 33  Short_term_deposits   int64         \n",
      " 34  Medium_term_deposits  int64         \n",
      " 35  Long_term_deposits    int64         \n",
      " 36  E_Account             int64         \n",
      " 37  Funds                 int64         \n",
      " 38  Mortgage              int64         \n",
      " 39  Pensions              int64         \n",
      " 40  Loans                 int64         \n",
      " 41  Taxes                 int64         \n",
      " 42  Credit_card           int64         \n",
      " 43  Securities            int64         \n",
      " 44  Home_account          int64         \n",
      " 45  Payroll               float64       \n",
      " 46  Pensions_2            float64       \n",
      " 47  Direct_debit          int64         \n",
      "dtypes: Int64(1), category(6), datetime64[ns](3), float64(8), int64(23), object(7)\n",
      "memory usage: 4.4+ GB\n"
     ]
    }
   ],
   "source": [
    "train_data.info()"
   ]
  },
  {
   "cell_type": "code",
   "execution_count": 15,
   "id": "b5172ec0",
   "metadata": {},
   "outputs": [
    {
     "data": {
      "text/plain": [
       "Index(['Date', 'Customer_code', 'Employee_index', 'Country', 'Gender', 'Age',\n",
       "       'Customer_join_date', 'Customer_index', 'Customer_seniority',\n",
       "       'primary_customer', 'Customer_leave_date', 'Customer_type',\n",
       "       'Customer_relation', 'Residence_index', 'Foreigner_index',\n",
       "       'Spouse_index', 'Channel', 'Deceased_index', 'Primary_Address',\n",
       "       'Customer_address', 'province_name', 'Activity_index', 'Gross_income',\n",
       "       'Segmentation', 'Saving_account', 'Guarantees', 'Current_accounts',\n",
       "       'Derivative_account', 'Payroll_account', 'Junior_account',\n",
       "       'More_private_account', 'Private_account', 'Private_plus_account',\n",
       "       'Short_term_deposits', 'Medium_term_deposits', 'Long_term_deposits',\n",
       "       'E_Account', 'Funds', 'Mortgage', 'Pensions', 'Loans', 'Taxes',\n",
       "       'Credit_card', 'Securities', 'Home_account', 'Payroll', 'Pensions_2',\n",
       "       'Direct_debit'],\n",
       "      dtype='object')"
      ]
     },
     "execution_count": 15,
     "metadata": {},
     "output_type": "execute_result"
    }
   ],
   "source": [
    "train_data.columns"
   ]
  },
  {
   "cell_type": "code",
   "execution_count": 10,
   "id": "5e15eda4",
   "metadata": {},
   "outputs": [
    {
     "data": {
      "text/plain": [
       "Date                           0\n",
       "Customer_code                  0\n",
       "Employee_index             27734\n",
       "Country                    27734\n",
       "Gender                     27804\n",
       "Age                        27734\n",
       "Customer_join_date         27734\n",
       "Customer_index             27734\n",
       "Customer_seniority             0\n",
       "primary_customer           27734\n",
       "Customer_leave_date     13622516\n",
       "Customer_type             149781\n",
       "Customer_relation         149781\n",
       "Residence_index            27734\n",
       "Foreigner_index            27734\n",
       "Spouse_index            13645501\n",
       "Channel                   186126\n",
       "Deceased_index             27734\n",
       "Primary_Address            27735\n",
       "Customer_address           93591\n",
       "province_name              93591\n",
       "Activity_index             27734\n",
       "Gross_income             2794375\n",
       "Segmentation              189368\n",
       "Saving_account                 0\n",
       "Guarantees                     0\n",
       "Current_accounts               0\n",
       "Derivative_account             0\n",
       "Payroll_account                0\n",
       "Junior_account                 0\n",
       "More_private_account           0\n",
       "Private_account                0\n",
       "Private_plus_account           0\n",
       "Short_term_deposits            0\n",
       "Medium_term_deposits           0\n",
       "Long_term_deposits             0\n",
       "E_Account                      0\n",
       "Funds                          0\n",
       "Mortgage                       0\n",
       "Pensions                       0\n",
       "Loans                          0\n",
       "Taxes                          0\n",
       "Credit_card                    0\n",
       "Securities                     0\n",
       "Home_account                   0\n",
       "Payroll                    16063\n",
       "Pensions_2                 16063\n",
       "Direct_debit                   0\n",
       "dtype: int64"
      ]
     },
     "execution_count": 10,
     "metadata": {},
     "output_type": "execute_result"
    }
   ],
   "source": [
    "#checking for null values.\n",
    "\n",
    "train_data.isnull().sum()"
   ]
  },
  {
   "cell_type": "markdown",
   "id": "24363600",
   "metadata": {},
   "source": [
    "### Treating the Null values:"
   ]
  },
  {
   "cell_type": "code",
   "execution_count": 11,
   "id": "7c6cab05",
   "metadata": {},
   "outputs": [
    {
     "name": "stdout",
     "output_type": "stream",
     "text": [
      "1995-01-16     1226\n",
      "1995-01-17       17\n",
      "1995-01-23       28\n",
      "1995-01-31       28\n",
      "1995-02-02       34\n",
      "              ...  \n",
      "2016-05-28       54\n",
      "2016-05-29       70\n",
      "2016-05-30      203\n",
      "2016-05-31      157\n",
      "NaT           27734\n",
      "Name: Customer_join_date, Length: 6757, dtype: int64\n"
     ]
    }
   ],
   "source": [
    "#Checking for null values in Customer_join_date column:\n",
    "\n",
    "Customer_join_date = train_data['Customer_join_date'].value_counts(dropna=False).sort_index()\n",
    "Customer_join_date.name = 'Customer_join_date'\n",
    "print(Customer_join_date)"
   ]
  },
  {
   "cell_type": "code",
   "execution_count": 12,
   "id": "8bf26808",
   "metadata": {},
   "outputs": [],
   "source": [
    "#treating the missing values in Customer_join_date column using MEDIAN Method:\n",
    "#since the date column is very important to maintain the overall over distribution of data.\n",
    "\n",
    "\n",
    "date = train_data['Customer_join_date'].median()\n",
    "train_data['Customer_join_date'].fillna(date, inplace=True)"
   ]
  },
  {
   "cell_type": "code",
   "execution_count": 13,
   "id": "ab785659",
   "metadata": {},
   "outputs": [
    {
     "name": "stdout",
     "output_type": "stream",
     "text": [
      "1995-01-16    1226\n",
      "1995-01-17      17\n",
      "1995-01-23      28\n",
      "1995-01-31      28\n",
      "1995-02-02      34\n",
      "              ... \n",
      "2016-05-27     122\n",
      "2016-05-28      54\n",
      "2016-05-29      70\n",
      "2016-05-30     203\n",
      "2016-05-31     157\n",
      "Name: Customer_join_date, Length: 6756, dtype: int64\n"
     ]
    }
   ],
   "source": [
    "print(train_data['Customer_join_date'].value_counts(dropna=False).sort_index())"
   ]
  },
  {
   "cell_type": "code",
   "execution_count": 14,
   "id": "6d4eb834",
   "metadata": {},
   "outputs": [
    {
     "name": "stdout",
     "output_type": "stream",
     "text": [
      "2015-07-01         401\n",
      "2015-07-02         166\n",
      "2015-07-03         262\n",
      "2015-07-06         405\n",
      "2015-07-07         340\n",
      "                ...   \n",
      "2016-05-25          75\n",
      "2016-05-26         128\n",
      "2016-05-27         109\n",
      "2016-05-30          98\n",
      "NaT           13622516\n",
      "Name: Customer_leave_date, Length: 224, dtype: int64\n"
     ]
    }
   ],
   "source": [
    "#Checking for null values in Customer_leave_date column:\n",
    "\n",
    "Customer_leave_date = train_data['Customer_leave_date'].value_counts(dropna=False).sort_index()\n",
    "Customer_leave_date.name = 'Customer_leave_date'\n",
    "print(Customer_leave_date)"
   ]
  },
  {
   "cell_type": "code",
   "execution_count": 15,
   "id": "0d6b7bfb",
   "metadata": {},
   "outputs": [
    {
     "data": {
      "text/plain": [
       "Timestamp('2015-11-18 00:00:00')"
      ]
     },
     "execution_count": 15,
     "metadata": {},
     "output_type": "execute_result"
    }
   ],
   "source": [
    "#Treating the null values in Customer_leave_date column using MEDIAN Method:\n",
    "#Since many missing values are present in the column its important to impute the values. \n",
    "\n",
    "leave_date = train_data['Customer_leave_date'].median()\n",
    "leave_date"
   ]
  },
  {
   "cell_type": "code",
   "execution_count": 16,
   "id": "3f571590",
   "metadata": {},
   "outputs": [],
   "source": [
    "#filling the Customer_leave_date with median value:\n",
    "\n",
    "train_data['Customer_leave_date'].fillna(leave_date, inplace=True)"
   ]
  },
  {
   "cell_type": "code",
   "execution_count": 17,
   "id": "0b0b9104",
   "metadata": {},
   "outputs": [
    {
     "name": "stdout",
     "output_type": "stream",
     "text": [
      "2015-07-01    401\n",
      "2015-07-02    166\n",
      "2015-07-03    262\n",
      "2015-07-06    405\n",
      "2015-07-07    340\n",
      "             ... \n",
      "2016-05-24    124\n",
      "2016-05-25     75\n",
      "2016-05-26    128\n",
      "2016-05-27    109\n",
      "2016-05-30     98\n",
      "Name: Customer_leave_date, Length: 223, dtype: int64\n"
     ]
    }
   ],
   "source": [
    "print(train_data['Customer_leave_date'].value_counts(dropna=False).sort_index())"
   ]
  },
  {
   "cell_type": "code",
   "execution_count": 18,
   "id": "5dac483a",
   "metadata": {},
   "outputs": [
    {
     "name": "stdout",
     "output_type": "stream",
     "text": [
      "A          2492\n",
      "B          3566\n",
      "F          2523\n",
      "N      13610977\n",
      "S            17\n",
      "NaN       27734\n",
      "Name: Employee_index, dtype: int64\n"
     ]
    }
   ],
   "source": [
    "# check for null counts in Employee_index column:\n",
    "\n",
    "Employee_index = train_data['Employee_index'].value_counts(dropna=False).sort_index()\n",
    "Employee_index.name = 'Employee_index'\n",
    "print(Employee_index)"
   ]
  },
  {
   "cell_type": "code",
   "execution_count": 19,
   "id": "18694b2c",
   "metadata": {},
   "outputs": [],
   "source": [
    "#renaming the column values in Employee_index:\n",
    "\n",
    "train_data['Employee_index'] = train_data['Employee_index'].replace({ 'N':'Not An Employee', 'A': 'Active Employee', \n",
    "                                   'B': 'Ex Employee', 'F': 'Employee Relative', 'S': 'Unknown' })"
   ]
  },
  {
   "cell_type": "code",
   "execution_count": 20,
   "id": "dc782990",
   "metadata": {},
   "outputs": [],
   "source": [
    "#Treating the null values in Employee_index by dropping them:\n",
    "#since Employee_index is important information from customers,they can't predicted.\n",
    "\n",
    "train_data.dropna(subset=['Employee_index'], inplace=True)"
   ]
  },
  {
   "cell_type": "code",
   "execution_count": 21,
   "id": "dc325fe2",
   "metadata": {},
   "outputs": [
    {
     "name": "stdout",
     "output_type": "stream",
     "text": [
      "Active Employee          2492\n",
      "Employee Relative        2523\n",
      "Ex Employee              3566\n",
      "Not An Employee      13610977\n",
      "Unknown                    17\n",
      "Name: Employee_index, dtype: int64\n"
     ]
    }
   ],
   "source": [
    "Employee_index = train_data['Employee_index'].value_counts(dropna=False).sort_index()\n",
    "Employee_index.name = 'Employee_index'\n",
    "print(Employee_index)"
   ]
  },
  {
   "cell_type": "code",
   "execution_count": 22,
   "id": "a87c8420",
   "metadata": {},
   "outputs": [
    {
     "name": "stdout",
     "output_type": "stream",
     "text": [
      "AD     111\n",
      "AE     221\n",
      "AL      17\n",
      "AO      68\n",
      "AR    4835\n",
      "      ... \n",
      "UY     510\n",
      "VE    2331\n",
      "VN      34\n",
      "ZA     119\n",
      "ZW      11\n",
      "Name: Country, Length: 118, dtype: int64\n"
     ]
    }
   ],
   "source": [
    "#checking for count null values in Country column:\n",
    "\n",
    "Country = train_data['Country'].value_counts(dropna=False).sort_index()\n",
    "Country.name = 'Country'\n",
    "print(Country)"
   ]
  },
  {
   "cell_type": "code",
   "execution_count": 23,
   "id": "03d041d3",
   "metadata": {},
   "outputs": [],
   "source": [
    "#Treating with null values in Country by drop function:\n",
    "#country is the data criucal hence cant be predicted.\n",
    "\n",
    "train_data.dropna(subset=['Country'], inplace=True)"
   ]
  },
  {
   "cell_type": "code",
   "execution_count": 24,
   "id": "b0ec8fe1",
   "metadata": {},
   "outputs": [
    {
     "name": "stdout",
     "output_type": "stream",
     "text": [
      "AD     111\n",
      "AE     221\n",
      "AL      17\n",
      "AO      68\n",
      "AR    4835\n",
      "      ... \n",
      "UY     510\n",
      "VE    2331\n",
      "VN      34\n",
      "ZA     119\n",
      "ZW      11\n",
      "Name: Country, Length: 118, dtype: int64\n"
     ]
    }
   ],
   "source": [
    "Country = train_data['Country'].value_counts(dropna=False).sort_index()\n",
    "Country.name = 'Country'\n",
    "print(Country)"
   ]
  },
  {
   "cell_type": "code",
   "execution_count": 25,
   "id": "ceaa6848",
   "metadata": {},
   "outputs": [
    {
     "name": "stdout",
     "output_type": "stream",
     "text": [
      "H      6195253\n",
      "V      7424252\n",
      "NaN         70\n",
      "Name: Gender, dtype: int64\n"
     ]
    }
   ],
   "source": [
    "#checking for null values in Gender column:\n",
    "\n",
    "gender = train_data['Gender'].value_counts(dropna=False).sort_index()\n",
    "gender.name = 'Gender'\n",
    "print(gender)"
   ]
  },
  {
   "cell_type": "code",
   "execution_count": 26,
   "id": "97f581d3",
   "metadata": {},
   "outputs": [],
   "source": [
    "#Replacing the Gender as Male and Female:\n",
    "\n",
    "train_data['Gender'] = train_data['Gender'].replace({ 'H' : 'Male', 'V' : 'Female' })"
   ]
  },
  {
   "cell_type": "code",
   "execution_count": 27,
   "id": "d8753cda",
   "metadata": {},
   "outputs": [],
   "source": [
    "#dealing with missing values in Gender using drop:\n",
    "\n",
    "train_data.dropna(subset=['Gender'], inplace=True)"
   ]
  },
  {
   "cell_type": "code",
   "execution_count": 29,
   "id": "b7ea6acd",
   "metadata": {},
   "outputs": [
    {
     "name": "stdout",
     "output_type": "stream",
     "text": [
      "Female    7424252\n",
      "Male      6195253\n",
      "Name: Gender, dtype: int64\n"
     ]
    }
   ],
   "source": [
    "gender = train_data['Gender'].value_counts(dropna=False).sort_index()\n",
    "gender.name = 'Gender'\n",
    "print(gender)"
   ]
  },
  {
   "cell_type": "code",
   "execution_count": 30,
   "id": "46be5eb7",
   "metadata": {},
   "outputs": [
    {
     "name": "stdout",
     "output_type": "stream",
     "text": [
      "2       716\n",
      "3      1534\n",
      "4      2210\n",
      "5      3004\n",
      "6      3673\n",
      "       ... \n",
      "126       3\n",
      "127       8\n",
      "163       8\n",
      "164       3\n",
      "NaN       0\n",
      "Name: Age, Length: 121, dtype: Int64\n"
     ]
    }
   ],
   "source": [
    "# checking for null values in age column:\n",
    "\n",
    "Age_counts = train_data['Age'].value_counts(dropna=False).sort_index()\n",
    "Age_counts.name = 'Age'\n",
    "print(Age_counts)"
   ]
  },
  {
   "cell_type": "code",
   "execution_count": 31,
   "id": "1f36020b",
   "metadata": {},
   "outputs": [],
   "source": [
    "#Treating the null values using drop:\n",
    "#age of customer cant be predicted, this information is must be given customer.\n",
    "\n",
    "train_data.dropna(subset=['Age'], inplace=True)"
   ]
  },
  {
   "cell_type": "code",
   "execution_count": 32,
   "id": "f1b82d37",
   "metadata": {},
   "outputs": [
    {
     "data": {
      "text/plain": [
       "2       716\n",
       "3      1534\n",
       "4      2210\n",
       "5      3004\n",
       "6      3673\n",
       "       ... \n",
       "126       3\n",
       "127       8\n",
       "163       8\n",
       "164       3\n",
       "NaN       0\n",
       "Name: Age, Length: 121, dtype: Int64"
      ]
     },
     "execution_count": 32,
     "metadata": {},
     "output_type": "execute_result"
    }
   ],
   "source": [
    "Age_counts = train_data['Age'].value_counts(dropna=False).sort_index()\n",
    "Age_counts"
   ]
  },
  {
   "cell_type": "code",
   "execution_count": 33,
   "id": "23141f87",
   "metadata": {},
   "outputs": [
    {
     "name": "stdout",
     "output_type": "stream",
     "text": [
      "0.0    12808310\n",
      "1.0      811195\n",
      "Name: Customer_index, dtype: int64\n"
     ]
    }
   ],
   "source": [
    "#check for null counts in Customer_index column:\n",
    "\n",
    "Customer_index = train_data['Customer_index'].value_counts(dropna=False).sort_index()\n",
    "Customer_index.name = 'Customer_index'\n",
    "print(Customer_index)"
   ]
  },
  {
   "cell_type": "code",
   "execution_count": null,
   "id": "3bb49308",
   "metadata": {},
   "outputs": [],
   "source": []
  },
  {
   "cell_type": "code",
   "execution_count": 34,
   "id": "0f14c456",
   "metadata": {},
   "outputs": [
    {
     "name": "stdout",
     "output_type": "stream",
     "text": [
      "1.0     13594712\n",
      "99.0       24793\n",
      "Name: primary_customer, dtype: int64\n"
     ]
    }
   ],
   "source": [
    "#check for null counts in primary_customer column:\n",
    "\n",
    "primary_customer = train_data['primary_customer'].value_counts(dropna=False).sort_index()\n",
    "primary_customer.name = 'primary_customer'\n",
    "print(primary_customer)"
   ]
  },
  {
   "cell_type": "code",
   "execution_count": null,
   "id": "42ffbb43",
   "metadata": {},
   "outputs": [],
   "source": []
  },
  {
   "cell_type": "code",
   "execution_count": 35,
   "id": "b2439ede",
   "metadata": {},
   "outputs": [
    {
     "name": "stdout",
     "output_type": "stream",
     "text": [
      "1       2195311\n",
      "1.0    11295301\n",
      "2           483\n",
      "2.0         834\n",
      "3          1137\n",
      "3.0        3213\n",
      "4            70\n",
      "4.0         236\n",
      "P           873\n",
      "nan      122047\n",
      "Name: Customer_type, dtype: int64\n"
     ]
    }
   ],
   "source": [
    "#check for null counts in Customer_type column:\n",
    "\n",
    "Customer_type = train_data['Customer_type'].astype(str).value_counts(dropna=False).sort_index()\n",
    "Customer_type.name = 'Customer_type'\n",
    "print(Customer_type)"
   ]
  },
  {
   "cell_type": "code",
   "execution_count": 36,
   "id": "a9d9e02e",
   "metadata": {},
   "outputs": [],
   "source": [
    "#Treating the null values using the drop function:\n",
    "#Cruical information be provided by customer hence its can't be predicted.\n",
    "\n",
    "train_data.dropna(subset=['Customer_type'], inplace=True)"
   ]
  },
  {
   "cell_type": "code",
   "execution_count": 37,
   "id": "3c6fa32f",
   "metadata": {},
   "outputs": [],
   "source": [
    "#Renaming the columns content of Customer_type for better understanding and analysis:\n",
    "\n",
    "train_data['Customer_type'] = train_data['Customer_type'].replace({ '1':'Primary Customer','2': 'Co-Owner', \n",
    "                                                                   '3': 'Former Primary Customer','4': 'Former Co-owner',\n",
    "                                                                   'P': 'Potential' })"
   ]
  },
  {
   "cell_type": "code",
   "execution_count": 38,
   "id": "36af72f7",
   "metadata": {},
   "outputs": [],
   "source": [
    "train_data['Customer_type'] = train_data['Customer_type'].replace({ 1.0:'Primary Customer', 2.0: 'Co-Owner',\n",
    "                                                                   3.0: 'Former Primary Customer', 4.0: 'Former Co-owner' })"
   ]
  },
  {
   "cell_type": "code",
   "execution_count": 39,
   "id": "70a40c38",
   "metadata": {},
   "outputs": [
    {
     "name": "stdout",
     "output_type": "stream",
     "text": [
      "1.0                        4017737\n",
      "2.0                            479\n",
      "3.0                           1804\n",
      "4.0                            143\n",
      "Co-Owner                       838\n",
      "Former Co-owner                163\n",
      "Former Primary Customer       2546\n",
      "Potential                      873\n",
      "Primary Customer           9472875\n",
      "Name: Customer_type, dtype: int64\n"
     ]
    }
   ],
   "source": [
    "#checking the values after treating and renaming in Customer_type column:\n",
    "\n",
    "Customer_type = train_data['Customer_type'].astype(str).value_counts(dropna=False).sort_index()\n",
    "Customer_type.name = 'Customer_type'\n",
    "print(Customer_type)"
   ]
  },
  {
   "cell_type": "code",
   "execution_count": 40,
   "id": "ca487284",
   "metadata": {},
   "outputs": [
    {
     "name": "stdout",
     "output_type": "stream",
     "text": [
      "A    6187065\n",
      "I    7304864\n",
      "N          4\n",
      "P       4656\n",
      "R        869\n",
      "Name: Customer_relation, dtype: int64\n"
     ]
    }
   ],
   "source": [
    "#check for null counts in Customer_relation column:\n",
    "\n",
    "Customer_relation = train_data['Customer_relation'].astype(str).value_counts(dropna=False).sort_index()\n",
    "Customer_relation.name = 'Customer_relation'\n",
    "print(Customer_relation)"
   ]
  },
  {
   "cell_type": "code",
   "execution_count": 41,
   "id": "7dc8564c",
   "metadata": {},
   "outputs": [],
   "source": [
    "#Renaming the columns content in Customer_relation:\n",
    "\n",
    "train_data['Customer_relation'] = train_data['Customer_relation'].replace({ 'A':'Active', 'I': 'In-Active', \n",
    "                                   'P': 'Former Customer', 'R': 'Potential' ,'N': 'Unknown' })"
   ]
  },
  {
   "cell_type": "code",
   "execution_count": 42,
   "id": "db2ebb79",
   "metadata": {},
   "outputs": [
    {
     "name": "stdout",
     "output_type": "stream",
     "text": [
      "Active             6187065\n",
      "Former Customer       4656\n",
      "In-Active          7304864\n",
      "Potential              869\n",
      "Unknown                  4\n",
      "Name: Customer_relation, dtype: int64\n"
     ]
    }
   ],
   "source": [
    "#Checking for null values in Customer_relation column:\n",
    "\n",
    "Customer_relation = train_data['Customer_relation'].astype(str).value_counts(dropna=False).sort_index()\n",
    "Customer_relation.name = 'Customer_relation'\n",
    "print(Customer_relation)"
   ]
  },
  {
   "cell_type": "code",
   "execution_count": 43,
   "id": "22f088e3",
   "metadata": {},
   "outputs": [
    {
     "name": "stdout",
     "output_type": "stream",
     "text": [
      "N       65838\n",
      "S    13431620\n",
      "Name: Residence_index, dtype: int64\n"
     ]
    }
   ],
   "source": [
    "#Checking for null values in Residence_index column:\n",
    "\n",
    "Residence_index = train_data['Residence_index'].value_counts(dropna=False).sort_index()\n",
    "Residence_index.name = 'Residence_index'\n",
    "print(Residence_index)"
   ]
  },
  {
   "cell_type": "code",
   "execution_count": 44,
   "id": "ba63ff27",
   "metadata": {},
   "outputs": [],
   "source": [
    "#Renaming the columns content in Residence_index column:\n",
    "\n",
    "train_data['Residence_index'] = train_data['Residence_index'].replace({ 'S':'Yes', 'N': 'No' })"
   ]
  },
  {
   "cell_type": "code",
   "execution_count": 45,
   "id": "22f12cff",
   "metadata": {},
   "outputs": [
    {
     "name": "stdout",
     "output_type": "stream",
     "text": [
      "No        65838\n",
      "Yes    13431620\n",
      "Name: Residence_index, dtype: int64\n"
     ]
    }
   ],
   "source": [
    "Residence_index = train_data['Residence_index'].value_counts(dropna=False).sort_index()\n",
    "Residence_index.name = 'Residence_index'\n",
    "print(Residence_index)"
   ]
  },
  {
   "cell_type": "code",
   "execution_count": 46,
   "id": "0c882424",
   "metadata": {},
   "outputs": [
    {
     "name": "stdout",
     "output_type": "stream",
     "text": [
      "N    12860783\n",
      "S      636675\n",
      "Name: Foreigner_index, dtype: int64\n"
     ]
    }
   ],
   "source": [
    "#Checking for null values in Foreigner_index column:\n",
    "\n",
    "Foreigner_index  = train_data['Foreigner_index'].value_counts(dropna=False).sort_index()\n",
    "Foreigner_index.name = 'Foreigner_index'\n",
    "print(Foreigner_index)"
   ]
  },
  {
   "cell_type": "code",
   "execution_count": 47,
   "id": "e1c4b9e5",
   "metadata": {},
   "outputs": [],
   "source": [
    "#Renaming the columns content in Foreigner_index:\n",
    "\n",
    "train_data['Foreigner_index'] = train_data['Foreigner_index'].replace({ 'N': 'No' , 'S':'Yes' })"
   ]
  },
  {
   "cell_type": "code",
   "execution_count": 48,
   "id": "a45211e2",
   "metadata": {},
   "outputs": [
    {
     "name": "stdout",
     "output_type": "stream",
     "text": [
      "No     12860783\n",
      "Yes      636675\n",
      "Name: Foreigner_index, dtype: int64\n"
     ]
    }
   ],
   "source": [
    "Foreigner_index  = train_data['Foreigner_index'].value_counts(dropna=False).sort_index()\n",
    "Foreigner_index.name = 'Foreigner_index'\n",
    "print(Foreigner_index)"
   ]
  },
  {
   "cell_type": "code",
   "execution_count": 49,
   "id": "752b0e29",
   "metadata": {},
   "outputs": [
    {
     "name": "stdout",
     "output_type": "stream",
     "text": [
      "N          1789\n",
      "S            17\n",
      "NaN    13495652\n",
      "Name: Spouse_index, dtype: int64\n"
     ]
    }
   ],
   "source": [
    "#Checking for null values in Spouse_index column:\n",
    "\n",
    "Spouse_index  = train_data['Spouse_index'].value_counts(dropna=False).sort_index()\n",
    "Spouse_index.name = 'Spouse_index'\n",
    "print(Spouse_index)"
   ]
  },
  {
   "cell_type": "code",
   "execution_count": 50,
   "id": "3362e477",
   "metadata": {},
   "outputs": [],
   "source": [
    "#Treating the null values with Fillna function:\n",
    "\n",
    "train_data['Spouse_index'] = train_data['Spouse_index'].fillna(0)"
   ]
  },
  {
   "cell_type": "code",
   "execution_count": 51,
   "id": "9f685ef4",
   "metadata": {},
   "outputs": [],
   "source": [
    "#Renaming the columns content Spouse_index column:\n",
    "\n",
    "train_data['Spouse_index'] = train_data['Spouse_index'].replace({ 'N': 'No' , 'S':'Yes', 0: 'Not applicable' })"
   ]
  },
  {
   "cell_type": "code",
   "execution_count": 52,
   "id": "9d983b87",
   "metadata": {},
   "outputs": [
    {
     "name": "stdout",
     "output_type": "stream",
     "text": [
      "Not applicable    13495652\n",
      "No                    1789\n",
      "Yes                     17\n",
      "Name: Spouse_index, dtype: int64\n"
     ]
    }
   ],
   "source": [
    "Spouse_index  = train_data['Spouse_index'].value_counts(dropna=False, sort= False)\n",
    "Spouse_index.name = 'Spouse_index'\n",
    "print(Spouse_index)"
   ]
  },
  {
   "cell_type": "code",
   "execution_count": 53,
   "id": "36e3c20d",
   "metadata": {},
   "outputs": [
    {
     "name": "stdout",
     "output_type": "stream",
     "text": [
      "004       210\n",
      "007     29063\n",
      "013     27094\n",
      "025        11\n",
      "K00       152\n",
      "        ...  \n",
      "KHQ    591036\n",
      "KHR         1\n",
      "KHS         5\n",
      "RED     75604\n",
      "NaN     36416\n",
      "Name: Channel, Length: 163, dtype: int64\n"
     ]
    }
   ],
   "source": [
    "#Checking for null values in Channel column:\n",
    "\n",
    "Channel  = train_data['Channel'].value_counts(dropna=False).sort_index()\n",
    "Channel.name = 'Channel'\n",
    "print(Channel)"
   ]
  },
  {
   "cell_type": "code",
   "execution_count": 54,
   "id": "18383a63",
   "metadata": {},
   "outputs": [],
   "source": [
    "#Treating the null values with dropna() in Channel:\n",
    "#Channel data requires the accurate data hence data can't be imputed.\n",
    "\n",
    "train_data.dropna(subset=['Channel'], inplace=True)"
   ]
  },
  {
   "cell_type": "code",
   "execution_count": 55,
   "id": "902bb394",
   "metadata": {},
   "outputs": [
    {
     "name": "stdout",
     "output_type": "stream",
     "text": [
      "004       210\n",
      "007     29063\n",
      "013     27094\n",
      "025        11\n",
      "K00       152\n",
      "        ...  \n",
      "KHP       690\n",
      "KHQ    591036\n",
      "KHR         1\n",
      "KHS         5\n",
      "RED     75604\n",
      "Name: Channel, Length: 162, dtype: int64\n"
     ]
    }
   ],
   "source": [
    "Channel  = train_data['Channel'].value_counts(dropna=False).sort_index()\n",
    "Channel.name = 'Channel'\n",
    "print(Channel)"
   ]
  },
  {
   "cell_type": "code",
   "execution_count": 56,
   "id": "17c147db",
   "metadata": {},
   "outputs": [
    {
     "name": "stdout",
     "output_type": "stream",
     "text": [
      "N    13428393\n",
      "S       32649\n",
      "Name: Deceased_index, dtype: int64\n"
     ]
    }
   ],
   "source": [
    "#Checking for null values in Deceased_index column:\n",
    "\n",
    "Deceased_index  = train_data['Deceased_index'].value_counts(dropna=False).sort_index()\n",
    "Deceased_index.name = 'Deceased_index'\n",
    "print(Deceased_index)"
   ]
  },
  {
   "cell_type": "code",
   "execution_count": 57,
   "id": "902637c4",
   "metadata": {},
   "outputs": [],
   "source": [
    "#Renaming the columns content in Deceased_index:\n",
    "\n",
    "train_data['Deceased_index'] = train_data['Deceased_index'].replace({ 'N': 'No' , 'S':'Yes' })"
   ]
  },
  {
   "cell_type": "code",
   "execution_count": 58,
   "id": "3e4344c6",
   "metadata": {},
   "outputs": [
    {
     "name": "stdout",
     "output_type": "stream",
     "text": [
      "No     13428393\n",
      "Yes       32649\n",
      "Name: Deceased_index, dtype: int64\n"
     ]
    }
   ],
   "source": [
    "Deceased_index  = train_data['Deceased_index'].value_counts(dropna=False).sort_index()\n",
    "Deceased_index.name = 'Deceased_index'\n",
    "print(Deceased_index)"
   ]
  },
  {
   "cell_type": "code",
   "execution_count": 59,
   "id": "db25f309",
   "metadata": {},
   "outputs": [
    {
     "name": "stdout",
     "output_type": "stream",
     "text": [
      "1.0    13461042\n",
      "Name: Primary_Address, dtype: int64\n"
     ]
    }
   ],
   "source": [
    "#Checking for null values in Primary_Address column:\n",
    "\n",
    "Primary_Address  = train_data['Primary_Address'].value_counts(dropna=False).sort_index()\n",
    "Primary_Address.name = 'Primary_Address'\n",
    "print(Primary_Address)"
   ]
  },
  {
   "cell_type": "code",
   "execution_count": null,
   "id": "107ddab1",
   "metadata": {},
   "outputs": [],
   "source": []
  },
  {
   "cell_type": "code",
   "execution_count": 60,
   "id": "e9f1b8f4",
   "metadata": {},
   "outputs": [
    {
     "name": "stdout",
     "output_type": "stream",
     "text": [
      "1.0       37264\n",
      "2.0      112563\n",
      "3.0      308400\n",
      "4.0       59418\n",
      "5.0       38324\n",
      "6.0      190897\n",
      "7.0      122557\n",
      "8.0     1259822\n",
      "9.0       95951\n",
      "10.0     128569\n",
      "11.0     291505\n",
      "12.0     102878\n",
      "13.0     117905\n",
      "14.0     142894\n",
      "15.0     424087\n",
      "16.0      56642\n",
      "17.0      89293\n",
      "18.0     176602\n",
      "19.0      63720\n",
      "20.0      70888\n",
      "21.0     121255\n",
      "22.0      39516\n",
      "23.0      63512\n",
      "24.0      81999\n",
      "25.0      77878\n",
      "26.0      84264\n",
      "27.0      83936\n",
      "28.0    4366697\n",
      "29.0     363957\n",
      "30.0     390582\n",
      "31.0      87617\n",
      "32.0      82986\n",
      "33.0     262392\n",
      "34.0      48725\n",
      "35.0     232101\n",
      "36.0     276014\n",
      "37.0     162208\n",
      "38.0      69992\n",
      "39.0     153523\n",
      "40.0      41881\n",
      "41.0     599184\n",
      "42.0      17260\n",
      "43.0      97715\n",
      "44.0      22213\n",
      "45.0     180539\n",
      "46.0     671660\n",
      "47.0     235787\n",
      "48.0     184501\n",
      "49.0      50318\n",
      "50.0     338538\n",
      "51.0       7142\n",
      "52.0       9351\n",
      "NaN       65620\n",
      "Name: Customer_address, dtype: int64\n"
     ]
    }
   ],
   "source": [
    "#Checking for null values in Customer_address column:\n",
    "\n",
    "Customer_address  = train_data['Customer_address'].value_counts(dropna=False).sort_index()\n",
    "Customer_address.name = 'Customer_address'\n",
    "print(Customer_address)"
   ]
  },
  {
   "cell_type": "code",
   "execution_count": 61,
   "id": "04fa0e1f",
   "metadata": {},
   "outputs": [],
   "source": [
    "#Treating the null values in Customer_address with dropna function:\n",
    "#This information is very cruical and should be given by customer and company, hence is dropped.\n",
    "\n",
    "train_data.dropna(subset=['Customer_address'], inplace=True)"
   ]
  },
  {
   "cell_type": "code",
   "execution_count": 62,
   "id": "288f90a0",
   "metadata": {},
   "outputs": [
    {
     "name": "stdout",
     "output_type": "stream",
     "text": [
      "1.0       37264\n",
      "2.0      112563\n",
      "3.0      308400\n",
      "4.0       59418\n",
      "5.0       38324\n",
      "6.0      190897\n",
      "7.0      122557\n",
      "8.0     1259822\n",
      "9.0       95951\n",
      "10.0     128569\n",
      "11.0     291505\n",
      "12.0     102878\n",
      "13.0     117905\n",
      "14.0     142894\n",
      "15.0     424087\n",
      "16.0      56642\n",
      "17.0      89293\n",
      "18.0     176602\n",
      "19.0      63720\n",
      "20.0      70888\n",
      "21.0     121255\n",
      "22.0      39516\n",
      "23.0      63512\n",
      "24.0      81999\n",
      "25.0      77878\n",
      "26.0      84264\n",
      "27.0      83936\n",
      "28.0    4366697\n",
      "29.0     363957\n",
      "30.0     390582\n",
      "31.0      87617\n",
      "32.0      82986\n",
      "33.0     262392\n",
      "34.0      48725\n",
      "35.0     232101\n",
      "36.0     276014\n",
      "37.0     162208\n",
      "38.0      69992\n",
      "39.0     153523\n",
      "40.0      41881\n",
      "41.0     599184\n",
      "42.0      17260\n",
      "43.0      97715\n",
      "44.0      22213\n",
      "45.0     180539\n",
      "46.0     671660\n",
      "47.0     235787\n",
      "48.0     184501\n",
      "49.0      50318\n",
      "50.0     338538\n",
      "51.0       7142\n",
      "52.0       9351\n",
      "Name: Customer_address, dtype: int64\n"
     ]
    }
   ],
   "source": [
    "Customer_address  = train_data['Customer_address'].value_counts(dropna=False).sort_index()\n",
    "Customer_address.name = 'Customer_address'\n",
    "print(Customer_address)"
   ]
  },
  {
   "cell_type": "code",
   "execution_count": 63,
   "id": "b5dae2ab",
   "metadata": {},
   "outputs": [
    {
     "name": "stdout",
     "output_type": "stream",
     "text": [
      "ALAVA                       37264\n",
      "ALBACETE                   112563\n",
      "ALICANTE                   308400\n",
      "ALMERIA                     59418\n",
      "ASTURIAS                   262392\n",
      "AVILA                       38324\n",
      "BADAJOZ                    190897\n",
      "BALEARS, ILLES             122557\n",
      "BARCELONA                 1259822\n",
      "BIZKAIA                    184501\n",
      "BURGOS                      95951\n",
      "CACERES                    128569\n",
      "CADIZ                      291505\n",
      "CANTABRIA                  153523\n",
      "CASTELLON                  102878\n",
      "CEUTA                        7142\n",
      "CIUDAD REAL                117905\n",
      "CORDOBA                    142894\n",
      "CORUÑA, A                  424087\n",
      "CUENCA                      56642\n",
      "GIPUZKOA                    70888\n",
      "GIRONA                      89293\n",
      "GRANADA                    176602\n",
      "GUADALAJARA                 63720\n",
      "HUELVA                     121255\n",
      "HUESCA                      39516\n",
      "JAEN                        63512\n",
      "LEON                        81999\n",
      "LERIDA                      77878\n",
      "LUGO                        83936\n",
      "MADRID                    4366697\n",
      "MALAGA                     363957\n",
      "MELILLA                      9351\n",
      "MURCIA                     390582\n",
      "NAVARRA                     87617\n",
      "OURENSE                     82986\n",
      "PALENCIA                    48725\n",
      "PALMAS, LAS                232101\n",
      "PONTEVEDRA                 276014\n",
      "RIOJA, LA                   84264\n",
      "SALAMANCA                  162208\n",
      "SANTA CRUZ DE TENERIFE      69992\n",
      "SEGOVIA                     41881\n",
      "SEVILLA                    599184\n",
      "SORIA                       17260\n",
      "TARRAGONA                   97715\n",
      "TERUEL                      22213\n",
      "TOLEDO                     180539\n",
      "VALENCIA                   671660\n",
      "VALLADOLID                 235787\n",
      "ZAMORA                      50318\n",
      "ZARAGOZA                   338538\n",
      "Name: province_name, dtype: int64\n"
     ]
    }
   ],
   "source": [
    "#Checking for null values in province_name column: \n",
    "\n",
    "province_name  = train_data['province_name'].value_counts(dropna=False).sort_index()\n",
    "province_name.name = 'province_name'\n",
    "print(province_name)"
   ]
  },
  {
   "cell_type": "code",
   "execution_count": null,
   "id": "cbb211b6",
   "metadata": {},
   "outputs": [],
   "source": []
  },
  {
   "cell_type": "code",
   "execution_count": 64,
   "id": "48c9ac1e",
   "metadata": {},
   "outputs": [
    {
     "name": "stdout",
     "output_type": "stream",
     "text": [
      "0.0    7241399\n",
      "1.0    6154023\n",
      "Name: Activity_index, dtype: int64\n"
     ]
    }
   ],
   "source": [
    "#Checking for null values in Activity_index column:\n",
    "\n",
    "Activity_index  = train_data['Activity_index'].value_counts(dropna=False).sort_index()\n",
    "Activity_index.name = 'Activity_index'\n",
    "print(Activity_index)"
   ]
  },
  {
   "cell_type": "code",
   "execution_count": 65,
   "id": "5d076ca5",
   "metadata": {},
   "outputs": [],
   "source": [
    "#Renaming the columns content in Activity_index column :\n",
    "\n",
    "train_data['Activity_index'] = train_data['Activity_index'].replace({ 0.0: 'Active Customer' , 1.0:'Inactive Customer' })"
   ]
  },
  {
   "cell_type": "code",
   "execution_count": 66,
   "id": "00b3d600",
   "metadata": {},
   "outputs": [
    {
     "name": "stdout",
     "output_type": "stream",
     "text": [
      "Active Customer      7241399\n",
      "Inactive Customer    6154023\n",
      "Name: Activity_index, dtype: int64\n"
     ]
    }
   ],
   "source": [
    "Activity_index  = train_data['Activity_index'].value_counts(dropna=False).sort_index()\n",
    "Activity_index.name = 'Activity_index'\n",
    "print(Activity_index)"
   ]
  },
  {
   "cell_type": "code",
   "execution_count": 67,
   "id": "ccab3fd7",
   "metadata": {},
   "outputs": [
    {
     "name": "stdout",
     "output_type": "stream",
     "text": [
      "1202.73             17\n",
      "1471.23             17\n",
      "2336.01             11\n",
      "2539.80             17\n",
      "3731.79              9\n",
      "                ...   \n",
      "23720066.55         45\n",
      "24253236.93         28\n",
      "25547251.92         17\n",
      "28894395.51         75\n",
      "NaN            2597557\n",
      "Name: Gross_income, Length: 519963, dtype: int64\n"
     ]
    }
   ],
   "source": [
    "#Checking for null values in Gross_income\n",
    "\n",
    "Gross_income  = train_data['Gross_income'].value_counts(dropna=False).sort_index()\n",
    "Gross_income.name = 'Gross_income'\n",
    "print(Gross_income)"
   ]
  },
  {
   "cell_type": "code",
   "execution_count": 68,
   "id": "98364346",
   "metadata": {},
   "outputs": [
    {
     "data": {
      "text/plain": [
       "101859.42"
      ]
     },
     "execution_count": 68,
     "metadata": {},
     "output_type": "execute_result"
    }
   ],
   "source": [
    "#Treating the missing values in Gross_income column with Median method:\n",
    "\n",
    "train_data['Gross_income'].median()"
   ]
  },
  {
   "cell_type": "code",
   "execution_count": 69,
   "id": "08c3128a",
   "metadata": {},
   "outputs": [],
   "source": [
    "income = train_data['Gross_income'].median()\n",
    "train_data['Gross_income'].fillna(income, inplace=True)"
   ]
  },
  {
   "cell_type": "code",
   "execution_count": 70,
   "id": "587d95a9",
   "metadata": {},
   "outputs": [
    {
     "name": "stdout",
     "output_type": "stream",
     "text": [
      "1202.73        17\n",
      "1471.23        17\n",
      "2336.01        11\n",
      "2539.80        17\n",
      "3731.79         9\n",
      "               ..\n",
      "22034738.76    96\n",
      "23720066.55    45\n",
      "24253236.93    28\n",
      "25547251.92    17\n",
      "28894395.51    75\n",
      "Name: Gross_income, Length: 519962, dtype: int64\n"
     ]
    }
   ],
   "source": [
    "Gross_income  = train_data['Gross_income'].value_counts(dropna=False).sort_index()\n",
    "Gross_income.name = 'Gross_income'\n",
    "print(Gross_income)"
   ]
  },
  {
   "cell_type": "code",
   "execution_count": 71,
   "id": "66c157c4",
   "metadata": {},
   "outputs": [
    {
     "name": "stdout",
     "output_type": "stream",
     "text": [
      "01 - TOP               558385\n",
      "02 - PARTICULARES     7902276\n",
      "03 - UNIVERSITARIO    4930678\n",
      "NaN                      4083\n",
      "Name: Segmentation, dtype: int64\n"
     ]
    }
   ],
   "source": [
    "#Checking for null values in Segmentation column:\n",
    "\n",
    "Segmentation  = train_data['Segmentation'].value_counts(dropna=False).sort_index()\n",
    "Segmentation.name = 'Segmentation'\n",
    "print(Segmentation)"
   ]
  },
  {
   "cell_type": "code",
   "execution_count": 72,
   "id": "e2f658c2",
   "metadata": {},
   "outputs": [],
   "source": [
    "#Treating the missing values in Segmentation column using fillna() function:\n",
    "\n",
    "train_data['Segmentation'] = train_data['Segmentation'].fillna(0)"
   ]
  },
  {
   "cell_type": "code",
   "execution_count": 73,
   "id": "5f8eba0d",
   "metadata": {},
   "outputs": [],
   "source": [
    "#Renaming the columns content in Segmentation column:\n",
    "\n",
    "train_data['Segmentation'] = train_data['Segmentation'].replace({ '01 - TOP': 'VIP', '02 - PARTICULARES': 'Individuals',\n",
    "                                                                 '03 - UNIVERSITARIO': 'College graduated', 0: 'Unknown' })"
   ]
  },
  {
   "cell_type": "code",
   "execution_count": 74,
   "id": "d795b143",
   "metadata": {},
   "outputs": [
    {
     "name": "stdout",
     "output_type": "stream",
     "text": [
      "College graduated    4930678\n",
      "Individuals          7902276\n",
      "Unknown                 4083\n",
      "VIP                   558385\n",
      "Name: Segmentation, dtype: int64\n"
     ]
    }
   ],
   "source": [
    "Segmentation  = train_data['Segmentation'].value_counts(dropna=False).sort_index()\n",
    "Segmentation.name = 'Segmentation'\n",
    "print(Segmentation)"
   ]
  },
  {
   "cell_type": "code",
   "execution_count": null,
   "id": "da9184dd",
   "metadata": {},
   "outputs": [],
   "source": []
  },
  {
   "cell_type": "code",
   "execution_count": 75,
   "id": "4bb10a47",
   "metadata": {},
   "outputs": [
    {
     "name": "stdout",
     "output_type": "stream",
     "text": [
      "0    13394026\n",
      "1        1396\n",
      "Name: Saving_account, dtype: int64\n"
     ]
    }
   ],
   "source": [
    "#Checking for null values in Saving_account column:\n",
    "\n",
    "Saving_account  = train_data['Saving_account'].value_counts(dropna=False).sort_index()\n",
    "Saving_account.name = 'Saving_account'\n",
    "print(Saving_account)"
   ]
  },
  {
   "cell_type": "code",
   "execution_count": 77,
   "id": "1f42684b",
   "metadata": {},
   "outputs": [
    {
     "name": "stdout",
     "output_type": "stream",
     "text": [
      "0    13395123\n",
      "1         299\n",
      "Name: Guarantees, dtype: int64\n"
     ]
    }
   ],
   "source": [
    "#Checking for null values in Guarantees column:\n",
    "\n",
    "Guarantees  = train_data['Guarantees'].value_counts(dropna=False).sort_index()\n",
    "Guarantees.name = 'Guarantees'\n",
    "print(Guarantees)"
   ]
  },
  {
   "cell_type": "code",
   "execution_count": 78,
   "id": "1d382154",
   "metadata": {},
   "outputs": [
    {
     "name": "stdout",
     "output_type": "stream",
     "text": [
      "0    4583360\n",
      "1    8812062\n",
      "Name: Current_accounts, dtype: int64\n"
     ]
    }
   ],
   "source": [
    "#Checking for null values in Current_accounts column:\n",
    "\n",
    "Current_accounts  = train_data['Current_accounts'].value_counts(dropna=False).sort_index()\n",
    "Current_accounts.name = 'Current_accounts'\n",
    "print(Current_accounts)"
   ]
  },
  {
   "cell_type": "code",
   "execution_count": 79,
   "id": "d5e69e03",
   "metadata": {},
   "outputs": [
    {
     "name": "stdout",
     "output_type": "stream",
     "text": [
      "0    13390069\n",
      "1        5353\n",
      "Name: Derivative_account, dtype: int64\n"
     ]
    }
   ],
   "source": [
    "#Checking for null values in Derivative_account column:\n",
    "\n",
    "Derivative_account  = train_data['Derivative_account'].value_counts(dropna=False).sort_index()\n",
    "Derivative_account.name = 'Derivative_account'\n",
    "print(Derivative_account)"
   ]
  },
  {
   "cell_type": "code",
   "execution_count": 80,
   "id": "418870df",
   "metadata": {},
   "outputs": [
    {
     "name": "stdout",
     "output_type": "stream",
     "text": [
      "0    12294169\n",
      "1     1101253\n",
      "Name: Payroll_account, dtype: int64\n"
     ]
    }
   ],
   "source": [
    "#Checking for null values in Payroll_account column:\n",
    "\n",
    "Payroll_account  = train_data['Payroll_account'].value_counts(dropna=False).sort_index()\n",
    "Payroll_account.name = 'Payroll_account'\n",
    "print(Payroll_account)"
   ]
  },
  {
   "cell_type": "code",
   "execution_count": 81,
   "id": "4ba71dd6",
   "metadata": {},
   "outputs": [
    {
     "name": "stdout",
     "output_type": "stream",
     "text": [
      "0    13266868\n",
      "1      128554\n",
      "Name: Junior_account, dtype: int64\n"
     ]
    }
   ],
   "source": [
    "#Checking for null values in Junior_account column:\n",
    "\n",
    "Junior_account  = train_data['Junior_account'].value_counts(dropna=False).sort_index()\n",
    "Junior_account.name = 'Junior_account'\n",
    "print(Junior_account)"
   ]
  },
  {
   "cell_type": "code",
   "execution_count": 82,
   "id": "8cd6a62b",
   "metadata": {},
   "outputs": [
    {
     "name": "stdout",
     "output_type": "stream",
     "text": [
      "0    13265634\n",
      "1      129788\n",
      "Name: More_private_account, dtype: int64\n"
     ]
    }
   ],
   "source": [
    "#Checking for null values in More_private_account column:\n",
    "\n",
    "More_private_account  = train_data['More_private_account'].value_counts(dropna=False).sort_index()\n",
    "More_private_account.name = 'More_private_account'\n",
    "print(More_private_account)"
   ]
  },
  {
   "cell_type": "code",
   "execution_count": 83,
   "id": "919e1b82",
   "metadata": {},
   "outputs": [
    {
     "name": "stdout",
     "output_type": "stream",
     "text": [
      "0    11650998\n",
      "1     1744424\n",
      "Name: Private_account, dtype: int64\n"
     ]
    }
   ],
   "source": [
    "#Checking for null values in Private_account column:\n",
    "\n",
    "Private_account  = train_data['Private_account'].value_counts(dropna=False).sort_index()\n",
    "Private_account.name = 'Private_account'\n",
    "print(Private_account)"
   ]
  },
  {
   "cell_type": "code",
   "execution_count": 84,
   "id": "87bc2b5d",
   "metadata": {},
   "outputs": [
    {
     "name": "stdout",
     "output_type": "stream",
     "text": [
      "0    12806859\n",
      "1      588563\n",
      "Name: Private_plus_account, dtype: int64\n"
     ]
    }
   ],
   "source": [
    "#Checking for null values in Private_plus_account column:\n",
    "\n",
    "Private_plus_account  = train_data['Private_plus_account'].value_counts(dropna=False).sort_index()\n",
    "Private_plus_account.name = 'Private_plus_account'\n",
    "print(Private_plus_account)"
   ]
  },
  {
   "cell_type": "code",
   "execution_count": 85,
   "id": "0aeb9da5",
   "metadata": {},
   "outputs": [
    {
     "name": "stdout",
     "output_type": "stream",
     "text": [
      "0    13372376\n",
      "1       23046\n",
      "Name: Short_term_deposits, dtype: int64\n"
     ]
    }
   ],
   "source": [
    "#Checking for null values in Short_term_deposits column:\n",
    "\n",
    "Short_term_deposits  = train_data['Short_term_deposits'].value_counts(dropna=False).sort_index()\n",
    "Short_term_deposits.name = 'Short_term_deposits'\n",
    "print(Short_term_deposits)"
   ]
  },
  {
   "cell_type": "code",
   "execution_count": 86,
   "id": "e4e72da3",
   "metadata": {},
   "outputs": [
    {
     "name": "stdout",
     "output_type": "stream",
     "text": [
      "0    13373098\n",
      "1       22324\n",
      "Name: Medium_term_deposits, dtype: int64\n"
     ]
    }
   ],
   "source": [
    "#Checking for null values in Medium_term_deposits column:\n",
    "\n",
    "Medium_term_deposits  = train_data['Medium_term_deposits'].value_counts(dropna=False).sort_index()\n",
    "Medium_term_deposits.name = 'Medium_term_deposits'\n",
    "print(Medium_term_deposits)"
   ]
  },
  {
   "cell_type": "code",
   "execution_count": 87,
   "id": "ff46ba2c",
   "metadata": {},
   "outputs": [
    {
     "name": "stdout",
     "output_type": "stream",
     "text": [
      "0    12812068\n",
      "1      583354\n",
      "Name: Long_term_deposits, dtype: int64\n"
     ]
    }
   ],
   "source": [
    "#Checking for null values in Long_term_deposits column:\n",
    "\n",
    "Long_term_deposits  = train_data['Long_term_deposits'].value_counts(dropna=False).sort_index()\n",
    "Long_term_deposits.name = 'Long_term_deposits'\n",
    "print(Long_term_deposits)"
   ]
  },
  {
   "cell_type": "code",
   "execution_count": 88,
   "id": "f3f9cb58",
   "metadata": {},
   "outputs": [
    {
     "name": "stdout",
     "output_type": "stream",
     "text": [
      "0    12271699\n",
      "1     1123723\n",
      "Name: E_Account, dtype: int64\n"
     ]
    }
   ],
   "source": [
    "#Checking for null values in E_Account column:\n",
    "\n",
    "E_Account  = train_data['E_Account'].value_counts(dropna=False).sort_index()\n",
    "E_Account.name = 'E_Account'\n",
    "print(E_Account)"
   ]
  },
  {
   "cell_type": "code",
   "execution_count": 89,
   "id": "8ae7e69e",
   "metadata": {},
   "outputs": [
    {
     "name": "stdout",
     "output_type": "stream",
     "text": [
      "0    13145504\n",
      "1      249918\n",
      "Name: Funds, dtype: int64\n"
     ]
    }
   ],
   "source": [
    "#Checking for null values in Funds column:\n",
    "\n",
    "Funds  = train_data['Funds'].value_counts(dropna=False).sort_index()\n",
    "Funds.name = 'Funds'\n",
    "print(Funds)"
   ]
  },
  {
   "cell_type": "code",
   "execution_count": 90,
   "id": "85d72de3",
   "metadata": {},
   "outputs": [
    {
     "name": "stdout",
     "output_type": "stream",
     "text": [
      "0    13315461\n",
      "1       79961\n",
      "Name: Mortgage, dtype: int64\n"
     ]
    }
   ],
   "source": [
    "#Checking for null values in Mortgage column:\n",
    "\n",
    "Mortgage = train_data['Mortgage'].value_counts(dropna=False).sort_index()\n",
    "Mortgage.name = 'Mortgage'\n",
    "print(Mortgage)"
   ]
  },
  {
   "cell_type": "code",
   "execution_count": 91,
   "id": "d101dbf2",
   "metadata": {},
   "outputs": [
    {
     "name": "stdout",
     "output_type": "stream",
     "text": [
      "0    13271090\n",
      "1      124332\n",
      "Name: Pensions, dtype: int64\n"
     ]
    }
   ],
   "source": [
    "#Checking for null values in Pensions column:\n",
    "\n",
    "Pensions = train_data['Pensions'].value_counts(dropna=False).sort_index()\n",
    "Pensions.name = 'Pensions'\n",
    "print(Pensions)"
   ]
  },
  {
   "cell_type": "code",
   "execution_count": 92,
   "id": "77710fe4",
   "metadata": {},
   "outputs": [
    {
     "name": "stdout",
     "output_type": "stream",
     "text": [
      "0    13360967\n",
      "1       34455\n",
      "Name: Loans, dtype: int64\n"
     ]
    }
   ],
   "source": [
    "#Checking for null values in Loans column:\n",
    "\n",
    "Loans  = train_data['Loans'].value_counts(dropna=False).sort_index()\n",
    "Loans.name = 'Loans'\n",
    "print(Loans)"
   ]
  },
  {
   "cell_type": "code",
   "execution_count": 93,
   "id": "09c6999a",
   "metadata": {},
   "outputs": [
    {
     "name": "stdout",
     "output_type": "stream",
     "text": [
      "0    12690603\n",
      "1      704819\n",
      "Name: Taxes, dtype: int64\n"
     ]
    }
   ],
   "source": [
    "#Checking for null values in Taxes column:\n",
    "\n",
    "Taxes  = train_data['Taxes'].value_counts(dropna=False).sort_index()\n",
    "Taxes.name = 'Taxes'\n",
    "print(Taxes)"
   ]
  },
  {
   "cell_type": "code",
   "execution_count": 94,
   "id": "9d64c05c",
   "metadata": {},
   "outputs": [
    {
     "name": "stdout",
     "output_type": "stream",
     "text": [
      "0    12792169\n",
      "1      603253\n",
      "Name: Credit_card, dtype: int64\n"
     ]
    }
   ],
   "source": [
    "#Checking for null values in Credit_card column:\n",
    "\n",
    "Credit_card  = train_data['Credit_card'].value_counts(dropna=False).sort_index()\n",
    "Credit_card.name = 'Credit_card'\n",
    "print(Credit_card)"
   ]
  },
  {
   "cell_type": "code",
   "execution_count": 95,
   "id": "7596aa28",
   "metadata": {},
   "outputs": [
    {
     "name": "stdout",
     "output_type": "stream",
     "text": [
      "0    13050613\n",
      "1      344809\n",
      "Name: Securities, dtype: int64\n"
     ]
    }
   ],
   "source": [
    "#Checking for null values in Securities column:\n",
    "\n",
    "Securities  = train_data['Securities'].value_counts(dropna=False).sort_index()\n",
    "Securities.name = 'Securities'\n",
    "print(Securities)"
   ]
  },
  {
   "cell_type": "code",
   "execution_count": 96,
   "id": "080969fa",
   "metadata": {},
   "outputs": [
    {
     "name": "stdout",
     "output_type": "stream",
     "text": [
      "0    13343006\n",
      "1       52416\n",
      "Name: Home_account, dtype: int64\n"
     ]
    }
   ],
   "source": [
    "#Checking for null values in Home_account column:\n",
    "\n",
    "Home_account  = train_data['Home_account'].value_counts(dropna=False).sort_index()\n",
    "Home_account.name = 'Home_account'\n",
    "print(Home_account)"
   ]
  },
  {
   "cell_type": "code",
   "execution_count": 97,
   "id": "71e89ccf",
   "metadata": {},
   "outputs": [
    {
     "name": "stdout",
     "output_type": "stream",
     "text": [
      "0.0    12650447\n",
      "1.0      744823\n",
      "NaN         152\n",
      "Name: Payroll, dtype: int64\n"
     ]
    }
   ],
   "source": [
    "#Checking for null values in Payroll column:\n",
    "\n",
    "Payroll  = train_data['Payroll'].value_counts(dropna=False).sort_index()\n",
    "Payroll.name = 'Payroll'\n",
    "print(Payroll)"
   ]
  },
  {
   "cell_type": "code",
   "execution_count": 98,
   "id": "33d22c86",
   "metadata": {},
   "outputs": [],
   "source": [
    "#Treating the missing values using Median method:\n",
    "\n",
    "payrolls = train_data['Payroll'].median()\n",
    "train_data['Payroll'].fillna(payrolls, inplace=True)"
   ]
  },
  {
   "cell_type": "code",
   "execution_count": 99,
   "id": "c5f328c0",
   "metadata": {},
   "outputs": [
    {
     "name": "stdout",
     "output_type": "stream",
     "text": [
      "0.0    12650599\n",
      "1.0      744823\n",
      "Name: Payroll, dtype: int64\n"
     ]
    }
   ],
   "source": [
    "Payroll  = train_data['Payroll'].value_counts(dropna=False).sort_index()\n",
    "Payroll.name = 'Payroll'\n",
    "print(Payroll)"
   ]
  },
  {
   "cell_type": "code",
   "execution_count": 100,
   "id": "3445c75b",
   "metadata": {},
   "outputs": [
    {
     "name": "stdout",
     "output_type": "stream",
     "text": [
      "0.0    12586512\n",
      "1.0      808758\n",
      "NaN         152\n",
      "Name: Pensions_2, dtype: int64\n"
     ]
    }
   ],
   "source": [
    "#Checking for null values in Pensions_2 column:\n",
    "\n",
    "Pensions_2  = train_data['Pensions_2'].value_counts(dropna=False).sort_index()\n",
    "Pensions_2.name = 'Pensions_2'\n",
    "print(Pensions_2)"
   ]
  },
  {
   "cell_type": "code",
   "execution_count": 101,
   "id": "ef7b10cb",
   "metadata": {},
   "outputs": [],
   "source": [
    "#Treating the missing values using Median method:\n",
    "\n",
    "pensions = train_data['Pensions_2'].median()\n",
    "train_data['Pensions_2'].fillna(pensions, inplace=True)"
   ]
  },
  {
   "cell_type": "code",
   "execution_count": 102,
   "id": "f78d1e82",
   "metadata": {},
   "outputs": [
    {
     "name": "stdout",
     "output_type": "stream",
     "text": [
      "0.0    12586664\n",
      "1.0      808758\n",
      "Name: Pensions_2, dtype: int64\n"
     ]
    }
   ],
   "source": [
    "Pensions_2  = train_data['Pensions_2'].value_counts(dropna=False).sort_index()\n",
    "Pensions_2.name = 'Pensions_2'\n",
    "print(Pensions_2)"
   ]
  },
  {
   "cell_type": "code",
   "execution_count": 103,
   "id": "2691f069",
   "metadata": {},
   "outputs": [
    {
     "name": "stdout",
     "output_type": "stream",
     "text": [
      "0    11656204\n",
      "1     1739218\n",
      "Name: Direct_debit, dtype: int64\n"
     ]
    }
   ],
   "source": [
    "#Checking for null values in Direct_debit:\n",
    "\n",
    "Direct_debit  = train_data['Direct_debit'].value_counts(dropna=False).sort_index()\n",
    "Direct_debit.name = 'Direct_debit'\n",
    "print(Direct_debit)"
   ]
  },
  {
   "cell_type": "code",
   "execution_count": 104,
   "id": "87dc9297",
   "metadata": {},
   "outputs": [
    {
     "data": {
      "text/plain": [
       "Date                    0\n",
       "Customer_code           0\n",
       "Employee_index          0\n",
       "Country                 0\n",
       "Gender                  0\n",
       "Age                     0\n",
       "Customer_join_date      0\n",
       "Customer_index          0\n",
       "Customer_seniority      0\n",
       "primary_customer        0\n",
       "Customer_leave_date     0\n",
       "Customer_type           0\n",
       "Customer_relation       0\n",
       "Residence_index         0\n",
       "Foreigner_index         0\n",
       "Spouse_index            0\n",
       "Channel                 0\n",
       "Deceased_index          0\n",
       "Primary_Address         0\n",
       "Customer_address        0\n",
       "province_name           0\n",
       "Activity_index          0\n",
       "Gross_income            0\n",
       "Segmentation            0\n",
       "Saving_account          0\n",
       "Guarantees              0\n",
       "Current_accounts        0\n",
       "Derivative_account      0\n",
       "Payroll_account         0\n",
       "Junior_account          0\n",
       "More_private_account    0\n",
       "Private_account         0\n",
       "Private_plus_account    0\n",
       "Short_term_deposits     0\n",
       "Medium_term_deposits    0\n",
       "Long_term_deposits      0\n",
       "E_Account               0\n",
       "Funds                   0\n",
       "Mortgage                0\n",
       "Pensions                0\n",
       "Loans                   0\n",
       "Taxes                   0\n",
       "Credit_card             0\n",
       "Securities              0\n",
       "Home_account            0\n",
       "Payroll                 0\n",
       "Pensions_2              0\n",
       "Direct_debit            0\n",
       "dtype: int64"
      ]
     },
     "execution_count": 104,
     "metadata": {},
     "output_type": "execute_result"
    }
   ],
   "source": [
    "#Checking the for null values after treating:\n",
    "\n",
    "train_data.isnull().sum()"
   ]
  },
  {
   "cell_type": "markdown",
   "id": "2af964f7",
   "metadata": {},
   "source": [
    "##### missing values are treated properly."
   ]
  },
  {
   "cell_type": "code",
   "execution_count": null,
   "id": "3280b64e",
   "metadata": {},
   "outputs": [],
   "source": []
  },
  {
   "cell_type": "code",
   "execution_count": 105,
   "id": "90e9bb5e",
   "metadata": {},
   "outputs": [],
   "source": [
    "#Changing the datatype to reduce the memory usage:\n",
    "\n",
    "\n",
    "train_data['Age'] = train_data['Age'].astype('int8')\n",
    "train_data['Saving_account'] = train_data['Saving_account'].astype('int8')\n",
    "train_data['Guarantees'] = train_data['Guarantees'].astype('int8')\n",
    "train_data['Current_accounts'] = train_data['Current_accounts'].astype('int8')\n",
    "train_data['Derivative_account'] = train_data['Derivative_account'].astype('int8')\n",
    "train_data['Payroll_account'] = train_data['Payroll_account'].astype('int8')\n",
    "train_data['Junior_account'] = train_data['Junior_account'].astype('int8')\n",
    "train_data['More_private_account'] = train_data['More_private_account'].astype('int8')\n",
    "train_data['Private_account'] = train_data['Private_account'].astype('int8')\n",
    "train_data['Private_plus_account'] = train_data['Private_plus_account'].astype('int8')\n",
    "train_data['Short_term_deposits'] = train_data['Short_term_deposits'].astype('int8')\n",
    "train_data['Medium_term_deposits'] = train_data['Medium_term_deposits'].astype('int8')\n",
    "train_data['Long_term_deposits'] = train_data['Long_term_deposits'].astype('int8')\n",
    "train_data['E_Account'] = train_data['E_Account'].astype('int8')\n",
    "train_data['Funds'] = train_data['Funds'].astype('int8')\n",
    "train_data['Mortgage'] = train_data['Mortgage'].astype('int8')\n",
    "train_data['Pensions'] = train_data['Pensions'].astype('int8')\n",
    "train_data['Loans'] = train_data['Loans'].astype('int8')\n",
    "train_data['Taxes'] = train_data['Taxes'].astype('int8')\n",
    "train_data['Credit_card'] = train_data['Credit_card'].astype('int8')\n",
    "train_data['Securities'] = train_data['Securities'].astype('int8')\n",
    "train_data['Home_account'] = train_data['Home_account'].astype('int8')\n",
    "train_data['Payroll'] = train_data['Payroll'].astype('int8')\n",
    "train_data['Pensions_2'] = train_data['Pensions_2'].astype('int8')\n",
    "train_data['Direct_debit'] = train_data['Direct_debit'].astype('int8')"
   ]
  },
  {
   "cell_type": "code",
   "execution_count": 106,
   "id": "717a83c2",
   "metadata": {},
   "outputs": [
    {
     "name": "stdout",
     "output_type": "stream",
     "text": [
      "<class 'pandas.core.frame.DataFrame'>\n",
      "Int64Index: 13395422 entries, 0 to 13647307\n",
      "Data columns (total 48 columns):\n",
      " #   Column                Dtype         \n",
      "---  ------                -----         \n",
      " 0   Date                  datetime64[ns]\n",
      " 1   Customer_code         int64         \n",
      " 2   Employee_index        object        \n",
      " 3   Country               category      \n",
      " 4   Gender                object        \n",
      " 5   Age                   int8          \n",
      " 6   Customer_join_date    datetime64[ns]\n",
      " 7   Customer_index        float64       \n",
      " 8   Customer_seniority    object        \n",
      " 9   primary_customer      float64       \n",
      " 10  Customer_leave_date   datetime64[ns]\n",
      " 11  Customer_type         object        \n",
      " 12  Customer_relation     object        \n",
      " 13  Residence_index       object        \n",
      " 14  Foreigner_index       object        \n",
      " 15  Spouse_index          object        \n",
      " 16  Channel               object        \n",
      " 17  Deceased_index        object        \n",
      " 18  Primary_Address       float64       \n",
      " 19  Customer_address      float64       \n",
      " 20  province_name         object        \n",
      " 21  Activity_index        object        \n",
      " 22  Gross_income          float64       \n",
      " 23  Segmentation          object        \n",
      " 24  Saving_account        int8          \n",
      " 25  Guarantees            int8          \n",
      " 26  Current_accounts      int8          \n",
      " 27  Derivative_account    int8          \n",
      " 28  Payroll_account       int8          \n",
      " 29  Junior_account        int8          \n",
      " 30  More_private_account  int8          \n",
      " 31  Private_account       int8          \n",
      " 32  Private_plus_account  int8          \n",
      " 33  Short_term_deposits   int8          \n",
      " 34  Medium_term_deposits  int8          \n",
      " 35  Long_term_deposits    int8          \n",
      " 36  E_Account             int8          \n",
      " 37  Funds                 int8          \n",
      " 38  Mortgage              int8          \n",
      " 39  Pensions              int8          \n",
      " 40  Loans                 int8          \n",
      " 41  Taxes                 int8          \n",
      " 42  Credit_card           int8          \n",
      " 43  Securities            int8          \n",
      " 44  Home_account          int8          \n",
      " 45  Payroll               int8          \n",
      " 46  Pensions_2            int8          \n",
      " 47  Direct_debit          int8          \n",
      "dtypes: category(1), datetime64[ns](3), float64(5), int64(1), int8(25), object(13)\n",
      "memory usage: 2.6+ GB\n"
     ]
    }
   ],
   "source": [
    "train_data.info()"
   ]
  },
  {
   "cell_type": "markdown",
   "id": "2dd40a7a",
   "metadata": {},
   "source": [
    "### Detecting the Outliers:"
   ]
  },
  {
   "cell_type": "code",
   "execution_count": null,
   "id": "1b2a33cc",
   "metadata": {},
   "outputs": [],
   "source": []
  },
  {
   "cell_type": "code",
   "execution_count": 107,
   "id": "3abb7978",
   "metadata": {},
   "outputs": [
    {
     "name": "stdout",
     "output_type": "stream",
     "text": [
      "Number of outliers: 79635\n",
      "Outliers: 1917        95\n",
      "1924        96\n",
      "3680        96\n",
      "4370        95\n",
      "5063        92\n",
      "            ..\n",
      "13617882    92\n",
      "13624157    95\n",
      "13625254    97\n",
      "13632124    93\n",
      "13637159    96\n",
      "Name: Age, Length: 79635, dtype: int8\n"
     ]
    }
   ],
   "source": [
    "#Detecting the outliers in Age column Using Standard deviation:\n",
    "\n",
    "age = train_data['Age']\n",
    "mean = np.mean(age)\n",
    "std_dev = np.std(age)\n",
    "\n",
    "lc = mean -2.5*std_dev\n",
    "uc = mean + 2.5*std_dev\n",
    "\n",
    "threshold = 3 * std_dev\n",
    "\n",
    "outliers = age[(age <  mean - threshold) | (age >  mean + threshold)]\n",
    "\n",
    "print('Number of outliers:', len(outliers))\n",
    "print('Outliers:', outliers)"
   ]
  },
  {
   "cell_type": "code",
   "execution_count": 108,
   "id": "daeaeed6",
   "metadata": {},
   "outputs": [
    {
     "data": {
      "text/plain": [
       "0           35.0\n",
       "1           23.0\n",
       "2           23.0\n",
       "3           22.0\n",
       "4           23.0\n",
       "            ... \n",
       "13647303    25.0\n",
       "13647304    22.0\n",
       "13647305    23.0\n",
       "13647306    47.0\n",
       "13647307    22.0\n",
       "Name: Age, Length: 13395422, dtype: float64"
      ]
     },
     "execution_count": 108,
     "metadata": {},
     "output_type": "execute_result"
    }
   ],
   "source": [
    "#treating the outliers using .Clip() function:\n",
    "\n",
    "age = np.clip(age, lc, uc)\n",
    "age"
   ]
  },
  {
   "cell_type": "code",
   "execution_count": 109,
   "id": "6e112d61",
   "metadata": {},
   "outputs": [
    {
     "name": "stdout",
     "output_type": "stream",
     "text": [
      "Number of outliers: 674859\n",
      "Outliers: 5883        1.0\n",
      "6579        1.0\n",
      "6632        1.0\n",
      "6717        1.0\n",
      "20792       1.0\n",
      "           ... \n",
      "13640204    1.0\n",
      "13642971    1.0\n",
      "13645001    1.0\n",
      "13646506    1.0\n",
      "13647065    1.0\n",
      "Name: Customer_index, Length: 674859, dtype: float64\n"
     ]
    }
   ],
   "source": [
    "#Detecting the outliers in Customer_index using Standard Deviation:\n",
    "\n",
    "cust_index = train_data['Customer_index']\n",
    "mean = np.mean(cust_index)\n",
    "std_dev = np.std(cust_index)\n",
    "\n",
    "lc = mean -2.5*std_dev\n",
    "uc = mean + 2.5*std_dev\n",
    "\n",
    "threshold = 3 * std_dev\n",
    "\n",
    "outliers = cust_index[(cust_index <  mean - threshold) | (cust_index >  mean + threshold)]\n",
    "print('Number of outliers:', len(outliers))\n",
    "print('Outliers:', outliers)"
   ]
  },
  {
   "cell_type": "code",
   "execution_count": 110,
   "id": "bb263ae0",
   "metadata": {},
   "outputs": [
    {
     "data": {
      "text/plain": [
       "0           0.0\n",
       "1           0.0\n",
       "2           0.0\n",
       "3           0.0\n",
       "4           0.0\n",
       "           ... \n",
       "13647303    0.0\n",
       "13647304    0.0\n",
       "13647305    0.0\n",
       "13647306    0.0\n",
       "13647307    0.0\n",
       "Name: Customer_index, Length: 13395422, dtype: float64"
      ]
     },
     "execution_count": 110,
     "metadata": {},
     "output_type": "execute_result"
    }
   ],
   "source": [
    "#treating the outliers using .Clip() function:\n",
    "\n",
    "cust_index = np.clip(cust_index, lc, uc)\n",
    "cust_index"
   ]
  },
  {
   "cell_type": "code",
   "execution_count": 111,
   "id": "1adbcf60",
   "metadata": {},
   "outputs": [
    {
     "name": "stdout",
     "output_type": "stream",
     "text": [
      "Number of outliers: 19549\n",
      "Outliers: 509         99.0\n",
      "2061        99.0\n",
      "2624        99.0\n",
      "4306        99.0\n",
      "5451        99.0\n",
      "            ... \n",
      "13642560    99.0\n",
      "13642579    99.0\n",
      "13645001    99.0\n",
      "13646037    99.0\n",
      "13646286    99.0\n",
      "Name: primary_customer, Length: 19549, dtype: float64\n"
     ]
    }
   ],
   "source": [
    "#Detecting the outliers in primary_customer  using Standard Deviation:\n",
    "\n",
    "primary_cust = train_data['primary_customer']\n",
    "\n",
    "mean = np.mean(primary_cust)\n",
    "std_dev = np.std(primary_cust)\n",
    "\n",
    "\n",
    "lc = mean -2.5*std_dev\n",
    "uc = mean + 2.5*std_dev\n",
    "\n",
    "threshold = 3 * std_dev\n",
    "\n",
    "outliers = primary_cust[(primary_cust < mean - threshold) | (primary_cust > mean + threshold)]\n",
    "\n",
    "print('Number of outliers:', len(outliers))\n",
    "print('Outliers:', outliers)"
   ]
  },
  {
   "cell_type": "code",
   "execution_count": 112,
   "id": "21f1a75e",
   "metadata": {},
   "outputs": [
    {
     "data": {
      "text/plain": [
       "0           1.0\n",
       "1           1.0\n",
       "2           1.0\n",
       "3           1.0\n",
       "4           1.0\n",
       "           ... \n",
       "13647303    1.0\n",
       "13647304    1.0\n",
       "13647305    1.0\n",
       "13647306    1.0\n",
       "13647307    1.0\n",
       "Name: primary_customer, Length: 13395422, dtype: float64"
      ]
     },
     "execution_count": 112,
     "metadata": {},
     "output_type": "execute_result"
    }
   ],
   "source": [
    "#treating the outliers using .Clip() function:\n",
    "\n",
    "primary_cust = np.clip(primary_cust, lc, uc)\n",
    "primary_cust"
   ]
  },
  {
   "cell_type": "code",
   "execution_count": 113,
   "id": "99941c7a",
   "metadata": {},
   "outputs": [
    {
     "name": "stdout",
     "output_type": "stream",
     "text": [
      "Number of outliers: 0\n",
      "Outliers: Series([], Name: Primary_Address, dtype: float64)\n"
     ]
    }
   ],
   "source": [
    "#Detecting the outliers in Primary_Address using Standard Deviation:\n",
    "\n",
    "primary_address = train_data['Primary_Address']\n",
    "\n",
    "mean = np.mean(primary_address)\n",
    "std_dev = np.std(primary_address)\n",
    "\n",
    "\n",
    "lc = mean -2.5*std_dev\n",
    "uc = mean + 2.5*std_dev\n",
    "\n",
    "threshold = 3 * std_dev\n",
    "\n",
    "outliers = primary_address[(primary_address < mean - threshold) | (primary_address > mean + threshold)]\n",
    "\n",
    "print('Number of outliers:', len(outliers))\n",
    "print('Outliers:', outliers)"
   ]
  },
  {
   "cell_type": "code",
   "execution_count": null,
   "id": "f525e5a5",
   "metadata": {},
   "outputs": [],
   "source": []
  },
  {
   "cell_type": "code",
   "execution_count": 114,
   "id": "055eb3b9",
   "metadata": {},
   "outputs": [
    {
     "name": "stdout",
     "output_type": "stream",
     "text": [
      "Number of outliers: 0\n",
      "Outliers: Series([], Name: Customer_address, dtype: float64)\n"
     ]
    }
   ],
   "source": [
    "#Detecting the outliers in Customer_address using Standard Deviation:\n",
    "\n",
    "customer_address = train_data['Customer_address']\n",
    "\n",
    "mean = np.mean(customer_address)\n",
    "std_dev = np.std(customer_address)\n",
    "\n",
    "\n",
    "lc = mean -2.5*std_dev\n",
    "uc = mean + 2.5*std_dev\n",
    "\n",
    "threshold = 3 * std_dev\n",
    "\n",
    "outliers = customer_address[(customer_address < mean - threshold) | (customer_address > mean + threshold)]\n",
    "\n",
    "print('Number of outliers:', len(outliers))\n",
    "print('Outliers:', outliers)"
   ]
  },
  {
   "cell_type": "code",
   "execution_count": null,
   "id": "35b96833",
   "metadata": {},
   "outputs": [],
   "source": []
  },
  {
   "cell_type": "code",
   "execution_count": 115,
   "id": "a999dd57",
   "metadata": {},
   "outputs": [
    {
     "name": "stdout",
     "output_type": "stream",
     "text": [
      "Number of outliers: 53112\n",
      "Outliers: 467          926880.45\n",
      "822          878790.72\n",
      "1087         763791.45\n",
      "1151        1415413.26\n",
      "1742         838152.54\n",
      "               ...    \n",
      "13645403     905191.44\n",
      "13645545    1439452.71\n",
      "13646301     773996.79\n",
      "13646362    2425069.44\n",
      "13646694     808925.40\n",
      "Name: Gross_income, Length: 53112, dtype: float64\n"
     ]
    }
   ],
   "source": [
    "#Detecting the outliers Gross_income using Standard Deviation:\n",
    "\n",
    "gross_income = train_data['Gross_income']\n",
    "\n",
    "mean = np.mean(gross_income)\n",
    "std_dev = np.std(gross_income)\n",
    "\n",
    "\n",
    "lc = mean -2.5*std_dev\n",
    "uc = mean + 2.5*std_dev\n",
    "\n",
    "threshold = 3 * std_dev\n",
    "\n",
    "outliers = gross_income[(gross_income < mean - threshold) | (gross_income > mean + threshold)]\n",
    "\n",
    "print('Number of outliers:', len(outliers))\n",
    "print('Outliers:', outliers)"
   ]
  },
  {
   "cell_type": "code",
   "execution_count": 116,
   "id": "7e6c8f06",
   "metadata": {},
   "outputs": [
    {
     "data": {
      "text/plain": [
       "0            87218.10\n",
       "1            35548.74\n",
       "2           122179.11\n",
       "3           119775.54\n",
       "4           101859.42\n",
       "              ...    \n",
       "13647303     50945.25\n",
       "13647304     43912.17\n",
       "13647305     23334.99\n",
       "13647306    101859.42\n",
       "13647307    199592.82\n",
       "Name: Gross_income, Length: 13395422, dtype: float64"
      ]
     },
     "execution_count": 116,
     "metadata": {},
     "output_type": "execute_result"
    }
   ],
   "source": [
    "#treating the outliers using .Clip() function:\n",
    "\n",
    "gross_income = np.clip(gross_income, lc, uc)\n",
    "gross_income"
   ]
  },
  {
   "cell_type": "code",
   "execution_count": 117,
   "id": "405f096b",
   "metadata": {},
   "outputs": [
    {
     "name": "stdout",
     "output_type": "stream",
     "text": [
      "Number of outliers: 744823\n",
      "Outliers: 72          1\n",
      "121         1\n",
      "141         1\n",
      "187         1\n",
      "223         1\n",
      "           ..\n",
      "13647071    1\n",
      "13647072    1\n",
      "13647104    1\n",
      "13647138    1\n",
      "13647257    1\n",
      "Name: Payroll, Length: 744823, dtype: int8\n"
     ]
    }
   ],
   "source": [
    "#Detecting the outliers Payroll using Standard Deviation:\n",
    "\n",
    "payroll = train_data['Payroll']\n",
    "\n",
    "mean = np.mean(payroll)\n",
    "std_dev = np.std(payroll)\n",
    "\n",
    "lc = mean -2.5*std_dev\n",
    "uc = mean + 2.5*std_dev\n",
    "\n",
    "threshold = 3 * std_dev\n",
    "\n",
    "outliers = payroll[(payroll < mean - threshold) | (payroll > mean + threshold)]\n",
    "\n",
    "print('Number of outliers:', len(outliers))\n",
    "print('Outliers:', outliers)"
   ]
  },
  {
   "cell_type": "code",
   "execution_count": 118,
   "id": "f7bed04c",
   "metadata": {},
   "outputs": [
    {
     "data": {
      "text/plain": [
       "0           0.0\n",
       "1           0.0\n",
       "2           0.0\n",
       "3           0.0\n",
       "4           0.0\n",
       "           ... \n",
       "13647303    0.0\n",
       "13647304    0.0\n",
       "13647305    0.0\n",
       "13647306    0.0\n",
       "13647307    0.0\n",
       "Name: Payroll, Length: 13395422, dtype: float64"
      ]
     },
     "execution_count": 118,
     "metadata": {},
     "output_type": "execute_result"
    }
   ],
   "source": [
    "#treating the outliers using .Clip() function:\n",
    "\n",
    "payroll = np.clip(payroll, lc, uc)\n",
    "payroll"
   ]
  },
  {
   "cell_type": "code",
   "execution_count": 119,
   "id": "fec6a602",
   "metadata": {},
   "outputs": [
    {
     "name": "stdout",
     "output_type": "stream",
     "text": [
      "Number of outliers: 808758\n",
      "Outliers: 72          1\n",
      "121         1\n",
      "141         1\n",
      "187         1\n",
      "223         1\n",
      "           ..\n",
      "13647071    1\n",
      "13647072    1\n",
      "13647104    1\n",
      "13647138    1\n",
      "13647257    1\n",
      "Name: Pensions_2, Length: 808758, dtype: int8\n"
     ]
    }
   ],
   "source": [
    "#Detecting the outliers Pensions_2 using Standard Deviation:\n",
    "\n",
    "pensions_2 = train_data['Pensions_2']\n",
    "\n",
    "mean = np.mean(pensions_2)\n",
    "std_dev = np.std(pensions_2)\n",
    "\n",
    "lc = mean -2.5*std_dev\n",
    "uc = mean + 2.5*std_dev\n",
    "\n",
    "threshold = 3 * std_dev\n",
    "\n",
    "outliers = pensions_2[(pensions_2 < mean - threshold) | (pensions_2 > mean + threshold)]\n",
    "\n",
    "print('Number of outliers:', len(outliers))\n",
    "print('Outliers:', outliers)"
   ]
  },
  {
   "cell_type": "code",
   "execution_count": 120,
   "id": "06771b3b",
   "metadata": {},
   "outputs": [
    {
     "data": {
      "text/plain": [
       "0           0.0\n",
       "1           0.0\n",
       "2           0.0\n",
       "3           0.0\n",
       "4           0.0\n",
       "           ... \n",
       "13647303    0.0\n",
       "13647304    0.0\n",
       "13647305    0.0\n",
       "13647306    0.0\n",
       "13647307    0.0\n",
       "Name: Pensions_2, Length: 13395422, dtype: float64"
      ]
     },
     "execution_count": 120,
     "metadata": {},
     "output_type": "execute_result"
    }
   ],
   "source": [
    "#treating the outliers Pensions_2 using .Clip() function:\n",
    "\n",
    "pensions_2 = np.clip(pensions_2, lc, uc)\n",
    "pensions_2"
   ]
  },
  {
   "cell_type": "code",
   "execution_count": 121,
   "id": "dc281720",
   "metadata": {},
   "outputs": [
    {
     "name": "stdout",
     "output_type": "stream",
     "text": [
      "Number of outliers: 0\n",
      "Outliers: Series([], Name: Direct_debit, dtype: int8)\n"
     ]
    }
   ],
   "source": [
    "##Detecting the outliers Direct_debit using Standard Deviation:\n",
    "\n",
    "direct_debit = train_data['Direct_debit']\n",
    "\n",
    "mean = np.mean(direct_debit)\n",
    "std_dev = np.std(direct_debit)\n",
    "\n",
    "lc = mean -2.5*std_dev\n",
    "uc = mean + 2.5*std_dev\n",
    "\n",
    "threshold = 3 * std_dev\n",
    "\n",
    "outliers = direct_debit[(direct_debit < mean - threshold) | (direct_debit > mean + threshold)]\n",
    "\n",
    "print('Number of outliers:', len(outliers))\n",
    "print('Outliers:', outliers)"
   ]
  },
  {
   "cell_type": "code",
   "execution_count": null,
   "id": "3d100ad8",
   "metadata": {},
   "outputs": [],
   "source": []
  },
  {
   "cell_type": "code",
   "execution_count": 122,
   "id": "98c6be5e",
   "metadata": {},
   "outputs": [
    {
     "data": {
      "text/html": [
       "<div>\n",
       "<style scoped>\n",
       "    .dataframe tbody tr th:only-of-type {\n",
       "        vertical-align: middle;\n",
       "    }\n",
       "\n",
       "    .dataframe tbody tr th {\n",
       "        vertical-align: top;\n",
       "    }\n",
       "\n",
       "    .dataframe thead th {\n",
       "        text-align: right;\n",
       "    }\n",
       "</style>\n",
       "<table border=\"1\" class=\"dataframe\">\n",
       "  <thead>\n",
       "    <tr style=\"text-align: right;\">\n",
       "      <th></th>\n",
       "      <th>Date</th>\n",
       "      <th>Customer_code</th>\n",
       "      <th>Employee_index</th>\n",
       "      <th>Country</th>\n",
       "      <th>Gender</th>\n",
       "      <th>Age</th>\n",
       "      <th>Customer_join_date</th>\n",
       "      <th>Customer_index</th>\n",
       "      <th>Customer_seniority</th>\n",
       "      <th>primary_customer</th>\n",
       "      <th>...</th>\n",
       "      <th>Mortgage</th>\n",
       "      <th>Pensions</th>\n",
       "      <th>Loans</th>\n",
       "      <th>Taxes</th>\n",
       "      <th>Credit_card</th>\n",
       "      <th>Securities</th>\n",
       "      <th>Home_account</th>\n",
       "      <th>Payroll</th>\n",
       "      <th>Pensions_2</th>\n",
       "      <th>Direct_debit</th>\n",
       "    </tr>\n",
       "  </thead>\n",
       "  <tbody>\n",
       "    <tr>\n",
       "      <th>0</th>\n",
       "      <td>2015-01-28</td>\n",
       "      <td>1375586</td>\n",
       "      <td>Not An Employee</td>\n",
       "      <td>ES</td>\n",
       "      <td>Male</td>\n",
       "      <td>35</td>\n",
       "      <td>2015-01-12</td>\n",
       "      <td>0.0</td>\n",
       "      <td>6</td>\n",
       "      <td>1.0</td>\n",
       "      <td>...</td>\n",
       "      <td>0</td>\n",
       "      <td>0</td>\n",
       "      <td>0</td>\n",
       "      <td>0</td>\n",
       "      <td>0</td>\n",
       "      <td>0</td>\n",
       "      <td>0</td>\n",
       "      <td>0</td>\n",
       "      <td>0</td>\n",
       "      <td>0</td>\n",
       "    </tr>\n",
       "    <tr>\n",
       "      <th>1</th>\n",
       "      <td>2015-01-28</td>\n",
       "      <td>1050611</td>\n",
       "      <td>Not An Employee</td>\n",
       "      <td>ES</td>\n",
       "      <td>Female</td>\n",
       "      <td>23</td>\n",
       "      <td>2012-08-10</td>\n",
       "      <td>0.0</td>\n",
       "      <td>35</td>\n",
       "      <td>1.0</td>\n",
       "      <td>...</td>\n",
       "      <td>0</td>\n",
       "      <td>0</td>\n",
       "      <td>0</td>\n",
       "      <td>0</td>\n",
       "      <td>0</td>\n",
       "      <td>0</td>\n",
       "      <td>0</td>\n",
       "      <td>0</td>\n",
       "      <td>0</td>\n",
       "      <td>0</td>\n",
       "    </tr>\n",
       "    <tr>\n",
       "      <th>2</th>\n",
       "      <td>2015-01-28</td>\n",
       "      <td>1050612</td>\n",
       "      <td>Not An Employee</td>\n",
       "      <td>ES</td>\n",
       "      <td>Female</td>\n",
       "      <td>23</td>\n",
       "      <td>2012-08-10</td>\n",
       "      <td>0.0</td>\n",
       "      <td>35</td>\n",
       "      <td>1.0</td>\n",
       "      <td>...</td>\n",
       "      <td>0</td>\n",
       "      <td>0</td>\n",
       "      <td>0</td>\n",
       "      <td>0</td>\n",
       "      <td>0</td>\n",
       "      <td>0</td>\n",
       "      <td>0</td>\n",
       "      <td>0</td>\n",
       "      <td>0</td>\n",
       "      <td>0</td>\n",
       "    </tr>\n",
       "    <tr>\n",
       "      <th>3</th>\n",
       "      <td>2015-01-28</td>\n",
       "      <td>1050613</td>\n",
       "      <td>Not An Employee</td>\n",
       "      <td>ES</td>\n",
       "      <td>Male</td>\n",
       "      <td>22</td>\n",
       "      <td>2012-08-10</td>\n",
       "      <td>0.0</td>\n",
       "      <td>35</td>\n",
       "      <td>1.0</td>\n",
       "      <td>...</td>\n",
       "      <td>0</td>\n",
       "      <td>0</td>\n",
       "      <td>0</td>\n",
       "      <td>0</td>\n",
       "      <td>0</td>\n",
       "      <td>0</td>\n",
       "      <td>0</td>\n",
       "      <td>0</td>\n",
       "      <td>0</td>\n",
       "      <td>0</td>\n",
       "    </tr>\n",
       "    <tr>\n",
       "      <th>4</th>\n",
       "      <td>2015-01-28</td>\n",
       "      <td>1050614</td>\n",
       "      <td>Not An Employee</td>\n",
       "      <td>ES</td>\n",
       "      <td>Female</td>\n",
       "      <td>23</td>\n",
       "      <td>2012-08-10</td>\n",
       "      <td>0.0</td>\n",
       "      <td>35</td>\n",
       "      <td>1.0</td>\n",
       "      <td>...</td>\n",
       "      <td>0</td>\n",
       "      <td>0</td>\n",
       "      <td>0</td>\n",
       "      <td>0</td>\n",
       "      <td>0</td>\n",
       "      <td>0</td>\n",
       "      <td>0</td>\n",
       "      <td>0</td>\n",
       "      <td>0</td>\n",
       "      <td>0</td>\n",
       "    </tr>\n",
       "    <tr>\n",
       "      <th>...</th>\n",
       "      <td>...</td>\n",
       "      <td>...</td>\n",
       "      <td>...</td>\n",
       "      <td>...</td>\n",
       "      <td>...</td>\n",
       "      <td>...</td>\n",
       "      <td>...</td>\n",
       "      <td>...</td>\n",
       "      <td>...</td>\n",
       "      <td>...</td>\n",
       "      <td>...</td>\n",
       "      <td>...</td>\n",
       "      <td>...</td>\n",
       "      <td>...</td>\n",
       "      <td>...</td>\n",
       "      <td>...</td>\n",
       "      <td>...</td>\n",
       "      <td>...</td>\n",
       "      <td>...</td>\n",
       "      <td>...</td>\n",
       "      <td>...</td>\n",
       "    </tr>\n",
       "    <tr>\n",
       "      <th>13647303</th>\n",
       "      <td>2016-05-28</td>\n",
       "      <td>1166766</td>\n",
       "      <td>Not An Employee</td>\n",
       "      <td>ES</td>\n",
       "      <td>Female</td>\n",
       "      <td>25</td>\n",
       "      <td>2013-08-14</td>\n",
       "      <td>0.0</td>\n",
       "      <td>33</td>\n",
       "      <td>1.0</td>\n",
       "      <td>...</td>\n",
       "      <td>0</td>\n",
       "      <td>0</td>\n",
       "      <td>0</td>\n",
       "      <td>0</td>\n",
       "      <td>0</td>\n",
       "      <td>0</td>\n",
       "      <td>0</td>\n",
       "      <td>0</td>\n",
       "      <td>0</td>\n",
       "      <td>0</td>\n",
       "    </tr>\n",
       "    <tr>\n",
       "      <th>13647304</th>\n",
       "      <td>2016-05-28</td>\n",
       "      <td>1166765</td>\n",
       "      <td>Not An Employee</td>\n",
       "      <td>ES</td>\n",
       "      <td>Female</td>\n",
       "      <td>22</td>\n",
       "      <td>2013-08-14</td>\n",
       "      <td>0.0</td>\n",
       "      <td>33</td>\n",
       "      <td>1.0</td>\n",
       "      <td>...</td>\n",
       "      <td>0</td>\n",
       "      <td>0</td>\n",
       "      <td>0</td>\n",
       "      <td>0</td>\n",
       "      <td>0</td>\n",
       "      <td>0</td>\n",
       "      <td>0</td>\n",
       "      <td>0</td>\n",
       "      <td>0</td>\n",
       "      <td>0</td>\n",
       "    </tr>\n",
       "    <tr>\n",
       "      <th>13647305</th>\n",
       "      <td>2016-05-28</td>\n",
       "      <td>1166764</td>\n",
       "      <td>Not An Employee</td>\n",
       "      <td>ES</td>\n",
       "      <td>Female</td>\n",
       "      <td>23</td>\n",
       "      <td>2013-08-14</td>\n",
       "      <td>0.0</td>\n",
       "      <td>33</td>\n",
       "      <td>1.0</td>\n",
       "      <td>...</td>\n",
       "      <td>0</td>\n",
       "      <td>0</td>\n",
       "      <td>0</td>\n",
       "      <td>0</td>\n",
       "      <td>0</td>\n",
       "      <td>0</td>\n",
       "      <td>0</td>\n",
       "      <td>0</td>\n",
       "      <td>0</td>\n",
       "      <td>0</td>\n",
       "    </tr>\n",
       "    <tr>\n",
       "      <th>13647306</th>\n",
       "      <td>2016-05-28</td>\n",
       "      <td>1166763</td>\n",
       "      <td>Not An Employee</td>\n",
       "      <td>ES</td>\n",
       "      <td>Male</td>\n",
       "      <td>47</td>\n",
       "      <td>2013-08-14</td>\n",
       "      <td>0.0</td>\n",
       "      <td>33</td>\n",
       "      <td>1.0</td>\n",
       "      <td>...</td>\n",
       "      <td>0</td>\n",
       "      <td>0</td>\n",
       "      <td>0</td>\n",
       "      <td>0</td>\n",
       "      <td>0</td>\n",
       "      <td>0</td>\n",
       "      <td>0</td>\n",
       "      <td>0</td>\n",
       "      <td>0</td>\n",
       "      <td>0</td>\n",
       "    </tr>\n",
       "    <tr>\n",
       "      <th>13647307</th>\n",
       "      <td>2016-05-28</td>\n",
       "      <td>1166789</td>\n",
       "      <td>Not An Employee</td>\n",
       "      <td>ES</td>\n",
       "      <td>Male</td>\n",
       "      <td>22</td>\n",
       "      <td>2013-08-14</td>\n",
       "      <td>0.0</td>\n",
       "      <td>33</td>\n",
       "      <td>1.0</td>\n",
       "      <td>...</td>\n",
       "      <td>0</td>\n",
       "      <td>0</td>\n",
       "      <td>0</td>\n",
       "      <td>0</td>\n",
       "      <td>0</td>\n",
       "      <td>0</td>\n",
       "      <td>0</td>\n",
       "      <td>0</td>\n",
       "      <td>0</td>\n",
       "      <td>0</td>\n",
       "    </tr>\n",
       "  </tbody>\n",
       "</table>\n",
       "<p>13395422 rows × 48 columns</p>\n",
       "</div>"
      ],
      "text/plain": [
       "               Date  Customer_code   Employee_index Country  Gender  Age  \\\n",
       "0        2015-01-28        1375586  Not An Employee      ES    Male   35   \n",
       "1        2015-01-28        1050611  Not An Employee      ES  Female   23   \n",
       "2        2015-01-28        1050612  Not An Employee      ES  Female   23   \n",
       "3        2015-01-28        1050613  Not An Employee      ES    Male   22   \n",
       "4        2015-01-28        1050614  Not An Employee      ES  Female   23   \n",
       "...             ...            ...              ...     ...     ...  ...   \n",
       "13647303 2016-05-28        1166766  Not An Employee      ES  Female   25   \n",
       "13647304 2016-05-28        1166765  Not An Employee      ES  Female   22   \n",
       "13647305 2016-05-28        1166764  Not An Employee      ES  Female   23   \n",
       "13647306 2016-05-28        1166763  Not An Employee      ES    Male   47   \n",
       "13647307 2016-05-28        1166789  Not An Employee      ES    Male   22   \n",
       "\n",
       "         Customer_join_date  Customer_index Customer_seniority  \\\n",
       "0                2015-01-12             0.0                  6   \n",
       "1                2012-08-10             0.0                 35   \n",
       "2                2012-08-10             0.0                 35   \n",
       "3                2012-08-10             0.0                 35   \n",
       "4                2012-08-10             0.0                 35   \n",
       "...                     ...             ...                ...   \n",
       "13647303         2013-08-14             0.0                 33   \n",
       "13647304         2013-08-14             0.0                 33   \n",
       "13647305         2013-08-14             0.0                 33   \n",
       "13647306         2013-08-14             0.0                 33   \n",
       "13647307         2013-08-14             0.0                 33   \n",
       "\n",
       "          primary_customer  ... Mortgage Pensions Loans Taxes Credit_card  \\\n",
       "0                      1.0  ...        0        0     0     0           0   \n",
       "1                      1.0  ...        0        0     0     0           0   \n",
       "2                      1.0  ...        0        0     0     0           0   \n",
       "3                      1.0  ...        0        0     0     0           0   \n",
       "4                      1.0  ...        0        0     0     0           0   \n",
       "...                    ...  ...      ...      ...   ...   ...         ...   \n",
       "13647303               1.0  ...        0        0     0     0           0   \n",
       "13647304               1.0  ...        0        0     0     0           0   \n",
       "13647305               1.0  ...        0        0     0     0           0   \n",
       "13647306               1.0  ...        0        0     0     0           0   \n",
       "13647307               1.0  ...        0        0     0     0           0   \n",
       "\n",
       "         Securities Home_account Payroll  Pensions_2  Direct_debit  \n",
       "0                 0            0       0           0             0  \n",
       "1                 0            0       0           0             0  \n",
       "2                 0            0       0           0             0  \n",
       "3                 0            0       0           0             0  \n",
       "4                 0            0       0           0             0  \n",
       "...             ...          ...     ...         ...           ...  \n",
       "13647303          0            0       0           0             0  \n",
       "13647304          0            0       0           0             0  \n",
       "13647305          0            0       0           0             0  \n",
       "13647306          0            0       0           0             0  \n",
       "13647307          0            0       0           0             0  \n",
       "\n",
       "[13395422 rows x 48 columns]"
      ]
     },
     "execution_count": 122,
     "metadata": {},
     "output_type": "execute_result"
    }
   ],
   "source": [
    "#cleaned data\n",
    "\n",
    "data = train_data\n",
    "data"
   ]
  },
  {
   "cell_type": "code",
   "execution_count": null,
   "id": "ec23645e",
   "metadata": {},
   "outputs": [],
   "source": []
  },
  {
   "cell_type": "code",
   "execution_count": null,
   "id": "8c520aaf",
   "metadata": {},
   "outputs": [],
   "source": []
  }
 ],
 "metadata": {
  "kernelspec": {
   "display_name": "Python 3 (ipykernel)",
   "language": "python",
   "name": "python3"
  },
  "language_info": {
   "codemirror_mode": {
    "name": "ipython",
    "version": 3
   },
   "file_extension": ".py",
   "mimetype": "text/x-python",
   "name": "python",
   "nbconvert_exporter": "python",
   "pygments_lexer": "ipython3",
   "version": "3.9.13"
  }
 },
 "nbformat": 4,
 "nbformat_minor": 5
}
